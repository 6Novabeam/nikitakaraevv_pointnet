{
  "nbformat": 4,
  "nbformat_minor": 0,
  "metadata": {
    "kernelspec": {
      "name": "python3",
      "display_name": "Python 3"
    },
    "language_info": {
      "codemirror_mode": {
        "name": "ipython",
        "version": 3
      },
      "file_extension": ".py",
      "mimetype": "text/x-python",
      "name": "python",
      "nbconvert_exporter": "python",
      "pygments_lexer": "ipython3",
      "version": "3.7.1"
    },
    "colab": {
      "name": "PointNetSeg.ipynb",
      "provenance": [],
      "collapsed_sections": [
        "caWQIszA8r-H"
      ],
      "machine_shape": "hm",
      "include_colab_link": true
    },
    "accelerator": "GPU"
  },
  "cells": [
    {
      "cell_type": "markdown",
      "metadata": {
        "id": "view-in-github",
        "colab_type": "text"
      },
      "source": [
        "<a href=\"https://colab.research.google.com/github/nikitakaraevv/pointnet/blob/master/PointNetSeg.ipynb\" target=\"_parent\"><img src=\"https://colab.research.google.com/assets/colab-badge.svg\" alt=\"Open In Colab\"/></a>"
      ]
    },
    {
      "cell_type": "code",
      "metadata": {
        "id": "KuEIVQsJGUbQ",
        "colab_type": "code",
        "outputId": "ff151e25-a584-4c7a-bb2b-634acedd0952",
        "colab": {
          "base_uri": "https://localhost:8080/",
          "height": 35
        }
      },
      "source": [
        "from google.colab import drive\n",
        "drive.mount('/content/gdrive', force_remount=True)\n",
        "root_dir = \"/content/gdrive/My Drive/PointNet3D\"\n"
      ],
      "execution_count": 0,
      "outputs": [
        {
          "output_type": "stream",
          "text": [
            "Mounted at /content/gdrive\n"
          ],
          "name": "stdout"
        }
      ]
    },
    {
      "cell_type": "code",
      "metadata": {
        "id": "PLGjzwFkGUbV",
        "colab_type": "code",
        "outputId": "a19df6db-1edd-4c03-8c1a-3e549eaf08de",
        "colab": {
          "base_uri": "https://localhost:8080/",
          "height": 124
        }
      },
      "source": [
        "!pip install path.py;\n",
        "from path import Path\n",
        "import sys\n",
        "sys.path.append(root_dir)"
      ],
      "execution_count": 0,
      "outputs": [
        {
          "output_type": "stream",
          "text": [
            "Requirement already satisfied: path.py in /usr/local/lib/python3.6/dist-packages (12.4.0)\n",
            "Requirement already satisfied: path<13.2 in /usr/local/lib/python3.6/dist-packages (from path.py) (13.1.0)\n",
            "Requirement already satisfied: importlib-metadata>=0.5; python_version < \"3.8\" in /usr/local/lib/python3.6/dist-packages (from path<13.2->path.py) (1.3.0)\n",
            "Requirement already satisfied: zipp>=0.5 in /usr/local/lib/python3.6/dist-packages (from importlib-metadata>=0.5; python_version < \"3.8\"->path<13.2->path.py) (0.6.0)\n",
            "Requirement already satisfied: more-itertools in /usr/local/lib/python3.6/dist-packages (from zipp>=0.5->importlib-metadata>=0.5; python_version < \"3.8\"->path<13.2->path.py) (8.0.2)\n"
          ],
          "name": "stdout"
        }
      ]
    },
    {
      "cell_type": "code",
      "metadata": {
        "id": "LB7sxVUtGUbY",
        "colab_type": "code",
        "colab": {}
      },
      "source": [
        "import plotly.graph_objects as go\n",
        "import numpy as np\n",
        "import scipy.spatial.distance\n",
        "import math\n",
        "import random\n",
        "import utils\n",
        "\n",
        "\n",
        "class10_dir = \"/datasets/ModelNet10txt/ModelNet10/ModelNet10/\""
      ],
      "execution_count": 0,
      "outputs": []
    },
    {
      "cell_type": "code",
      "metadata": {
        "id": "31PRdnvMOjLd",
        "colab_type": "code",
        "colab": {}
      },
      "source": [
        "import random\n",
        "\n",
        "def read_pts(file):\n",
        "    verts = np.genfromtxt(file)\n",
        "    return utils.cent_norm(verts)\n",
        "    #return verts\n",
        "\n",
        "def read_seg(file):\n",
        "    verts = np.genfromtxt(file, dtype= (int))\n",
        "    return verts\n",
        "\n",
        "def sample_2000(pts, pts_cat):    \n",
        "    res1 = np.concatenate((pts,np.reshape(pts_cat, (pts_cat.shape[0], 1))), axis= 1)\n",
        "    res = np.asarray(random.choices(res1, weights=None, cum_weights=None, k=2000))\n",
        "    images = res[:, 0:3]\n",
        "    categories = res[:, 3]\n",
        "    categories-=np.ones(categories.shape)\n",
        "    return images, categories"
      ],
      "execution_count": 0,
      "outputs": []
    },
    {
      "cell_type": "markdown",
      "metadata": {
        "id": "4KNH5UtbWWok",
        "colab_type": "text"
      },
      "source": [
        "## Model"
      ]
    },
    {
      "cell_type": "code",
      "metadata": {
        "id": "yOOrEYSnWV7f",
        "colab_type": "code",
        "colab": {}
      },
      "source": [
        "import torch\n",
        "import torch.nn as nn\n",
        "import numpy as np\n",
        "import torch.nn.functional as F\n",
        "\n",
        "class Tnet(nn.Module):\n",
        "   def __init__(self, k=3):\n",
        "      super().__init__()\n",
        "      self.k=k\n",
        "      self.conv1 = nn.Conv1d(k,64,1)\n",
        "      self.conv2 = nn.Conv1d(64,128,1)\n",
        "      self.conv3 = nn.Conv1d(128,1024,1)\n",
        "      self.fc1 = nn.Linear(1024,512)\n",
        "      self.fc2 = nn.Linear(512,256)\n",
        "      self.fc3 = nn.Linear(256,k*k)\n",
        "\n",
        "      self.bn1 = nn.BatchNorm1d(64)\n",
        "      self.bn2 = nn.BatchNorm1d(128)\n",
        "      self.bn3 = nn.BatchNorm1d(1024)\n",
        "      self.bn4 = nn.BatchNorm1d(512)\n",
        "      self.bn5 = nn.BatchNorm1d(256)\n",
        "       \n",
        "\n",
        "   def forward(self, input):\n",
        "      # input.shape == (bs,n,3)\n",
        "      bs = input.size(0)\n",
        "      xb = F.relu(self.bn1(self.conv1(input)))\n",
        "      xb = F.relu(self.bn2(self.conv2(xb)))\n",
        "      xb = F.relu(self.bn3(self.conv3(xb)))\n",
        "      pool = nn.MaxPool1d(xb.size(-1))(xb)\n",
        "      flat = nn.Flatten(1)(pool)\n",
        "      xb = F.relu(self.bn4(self.fc1(flat)))\n",
        "      xb = F.relu(self.bn5(self.fc2(xb)))\n",
        "      \n",
        "      #initialize as identity\n",
        "      init = torch.eye(self.k, requires_grad=True).repeat(bs,1,1)\n",
        "      if xb.is_cuda:\n",
        "        init=init.cuda()\n",
        "      matrix = self.fc3(xb).view(-1,self.k,self.k) + init\n",
        "      return matrix\n",
        "\n",
        "\n",
        "class Transform(nn.Module):\n",
        "   def __init__(self):\n",
        "        super().__init__()\n",
        "        self.input_transform = Tnet(k=3)\n",
        "        self.feature_transform = Tnet(k=128)\n",
        "        self.fc1 = nn.Conv1d(3,64,1)\n",
        "        self.fc2 = nn.Conv1d(64,128,1) \n",
        "        self.fc3 = nn.Conv1d(128,128,1)\n",
        "        self.fc4 = nn.Conv1d(128,512,1)\n",
        "        self.fc5 = nn.Conv1d(512,2048,1)\n",
        "\n",
        "        \n",
        "        self.bn1 = nn.BatchNorm1d(64)\n",
        "        self.bn2 = nn.BatchNorm1d(128)\n",
        "        self.bn3 = nn.BatchNorm1d(128)\n",
        "        self.bn4 = nn.BatchNorm1d(512)\n",
        "        self.bn5 = nn.BatchNorm1d(2048)\n",
        "\n",
        "   def forward(self, input):\n",
        "        n_pts = input.size()[2]\n",
        "        matrix3x3 = self.input_transform(input)\n",
        "        xb = torch.bmm(torch.transpose(input,1,2), matrix3x3).transpose(1,2)\n",
        "        outs = []\n",
        "        \n",
        "        out1 = F.relu(self.bn1(self.fc1(xb)))\n",
        "        outs.append(out1)\n",
        "        out2 = F.relu(self.bn2(self.fc2(out1)))\n",
        "        outs.append(out2)\n",
        "        out3 = F.relu(self.bn3(self.fc3(out2)))\n",
        "        outs.append(out3)\n",
        "        matrix128x128 = self.feature_transform(out3)\n",
        "        \n",
        "        out4 = torch.bmm(torch.transpose(out3,1,2), matrix128x128).transpose(1,2) \n",
        "        outs.append(out4)\n",
        "        out5 = F.relu(self.bn4(self.fc4(out4)))\n",
        "        outs.append(out5)\n",
        "       \n",
        "        xb = self.bn5(self.fc5(out5))\n",
        "        \n",
        "        xb = nn.MaxPool1d(xb.size(-1))(xb)\n",
        "        out6 = nn.Flatten(1)(xb).repeat(n_pts,1,1).transpose(0,2).transpose(0,1)#.repeat(1, 1, n_pts)\n",
        "        outs.append(out6)\n",
        "        \n",
        "        \n",
        "        return outs, matrix3x3, matrix128x128\n",
        "\n",
        "\n",
        "class PointNetSeg(nn.Module):\n",
        "    def __init__(self, classes = 10):\n",
        "        super().__init__()\n",
        "        self.transform = Transform()\n",
        "\n",
        "        self.fc1 = nn.Conv1d(3008,256,1) \n",
        "        self.fc2 = nn.Conv1d(256,256,1) \n",
        "        self.fc3 = nn.Conv1d(256,128,1) \n",
        "        self.fc4 = nn.Conv1d(128,4,1) \n",
        "        \n",
        "\n",
        "        self.bn1 = nn.BatchNorm1d(256)\n",
        "        self.bn2 = nn.BatchNorm1d(256)\n",
        "        \n",
        "        self.bn3 = nn.BatchNorm1d(128)\n",
        "        self.bn4 = nn.BatchNorm1d(4)\n",
        "        \n",
        "        self.logsoftmax = nn.LogSoftmax(dim=1)\n",
        "        \n",
        "\n",
        "    def forward(self, input):\n",
        "        inputs, matrix3x3, matrix128x128 = self.transform(input)\n",
        "        stack = torch.cat(inputs,1)\n",
        "        \n",
        "        xb = F.relu(self.bn1(self.fc1(stack)))\n",
        "       \n",
        "        xb = F.relu(self.bn2(self.fc2(xb)))\n",
        "    \n",
        "        xb = F.relu(self.bn3(self.fc3(xb)))\n",
        "        \n",
        "        output = F.relu(self.bn4(self.fc4(xb)))\n",
        "        \n",
        "        return self.logsoftmax(output), matrix3x3, matrix128x128\n",
        "\n"
      ],
      "execution_count": 0,
      "outputs": []
    },
    {
      "cell_type": "markdown",
      "metadata": {
        "id": "HdXchtFBWZYG",
        "colab_type": "text"
      },
      "source": [
        "## Dataset"
      ]
    },
    {
      "cell_type": "code",
      "metadata": {
        "id": "ut50_1uQCFCc",
        "colab_type": "code",
        "colab": {}
      },
      "source": [
        "from __future__ import print_function, division\n",
        "import os\n",
        "import torch\n",
        "import pandas as pd\n",
        "from skimage import io, transform\n",
        "import numpy as np\n",
        "import matplotlib.pyplot as plt\n",
        "from torch.utils.data import Dataset, DataLoader\n",
        "from torchvision import transforms, utils\n",
        "from torch.utils.data.dataset import random_split\n",
        "import utils\n",
        "\n",
        "class Data(Dataset):\n",
        "    \"\"\"Face Landmarks dataset.\"\"\"\n",
        "\n",
        "    def __init__(self, root_dir, valid=False, transform=None):\n",
        "        \n",
        "        self.root_dir = root_dir\n",
        "        self.files = []\n",
        "        self.valid=valid\n",
        "\n",
        "        newdir = root_dir + '/datasets/airplane_part_seg/02691156/expert_verified/points_label/'\n",
        "\n",
        "        for file in os.listdir(newdir):\n",
        "            o = {}\n",
        "            o['category'] = newdir + file\n",
        "            o['img_path'] = root_dir + '/datasets/airplane_part_seg/02691156/points/'+ file.replace('.seg', '.pts')\n",
        "            self.files.append(o)\n",
        "       \n",
        "\n",
        "    def __len__(self):\n",
        "        return len(self.files)\n",
        "\n",
        "    def __getitem__(self, idx):\n",
        "        img_path = self.files[idx]['img_path']\n",
        "        category = self.files[idx]['category']\n",
        "        with open(img_path, 'r') as f:\n",
        "            image1 = read_pts(f)\n",
        "        with open(category, 'r') as f:  \n",
        "            category1 = read_seg(f)\n",
        "        image2, category2 = sample_2000(image1, category1)\n",
        "        if not self.valid:\n",
        "            theta = random.random()*360\n",
        "            image2 = utils.rotation_z(utils.add_noise(image2), theta)\n",
        "        \n",
        "        return {'image': np.array(image2, dtype=\"float32\"), 'category': category2.astype(int)}\n"
      ],
      "execution_count": 0,
      "outputs": []
    },
    {
      "cell_type": "code",
      "metadata": {
        "id": "1mUcFS3Uwci6",
        "colab_type": "code",
        "outputId": "4d10dda0-7c73-4007-ce71-de106f2a32a6",
        "colab": {
          "base_uri": "https://localhost:8080/",
          "height": 69
        }
      },
      "source": [
        "\n",
        "dset = Data(root_dir , transform=None)\n",
        "train_num = int(len(dset) * 0.95)\n",
        "val_num = int(len(dset) *0.05)\n",
        "if int(len(dset)) - train_num -  val_num >0 :\n",
        "    train_num = train_num + 1\n",
        "elif int(len(dset)) - train_num -  val_num < 0:\n",
        "    train_num = train_num -1\n",
        "#train_dataset, val_dataset = random_split(dset, [3000, 118])\n",
        "train_dataset, val_dataset = random_split(dset, [train_num, val_num])\n",
        "val_dataset.valid=True\n",
        "\n",
        "print('######### Dataset class created #########')\n",
        "print('Number of images: ', len(dset))\n",
        "print('Sample image shape: ', dset[0]['image'].shape)\n",
        "#print('Sample image points categories', dset[0]['category'], end='\\n\\n')\n",
        "\n",
        "train_loader = DataLoader(dataset=train_dataset, batch_size=64)\n",
        "val_loader = DataLoader(dataset=val_dataset, batch_size=64)\n",
        "\n",
        "#dataloader = torch.utils.data.DataLoader(dset, batch_size=4, shuffle=True, num_workers=4)"
      ],
      "execution_count": 0,
      "outputs": [
        {
          "output_type": "stream",
          "text": [
            "######### Dataset class created #########\n",
            "Number of images:  2690\n",
            "Sample image shape:  (2000, 3)\n"
          ],
          "name": "stdout"
        }
      ]
    },
    {
      "cell_type": "markdown",
      "metadata": {
        "id": "gg9RjG7awgVK",
        "colab_type": "text"
      },
      "source": [
        "## Training loop"
      ]
    },
    {
      "cell_type": "code",
      "metadata": {
        "id": "bq9AUuN5WRxI",
        "colab_type": "code",
        "outputId": "a6c2e5eb-ee77-4f4e-f511-77acffab30fa",
        "colab": {
          "base_uri": "https://localhost:8080/",
          "height": 35
        }
      },
      "source": [
        "device = torch.device(\"cuda:0\" if torch.cuda.is_available() else \"cpu\")\n",
        "print(device)"
      ],
      "execution_count": 0,
      "outputs": [
        {
          "output_type": "stream",
          "text": [
            "cuda:0\n"
          ],
          "name": "stdout"
        }
      ]
    },
    {
      "cell_type": "code",
      "metadata": {
        "id": "cqXW9-oJwEPm",
        "colab_type": "code",
        "colab": {}
      },
      "source": [
        "pointnet = PointNetSeg()"
      ],
      "execution_count": 0,
      "outputs": []
    },
    {
      "cell_type": "code",
      "metadata": {
        "id": "6mA80v2ywHhw",
        "colab_type": "code",
        "colab": {}
      },
      "source": [
        "pointnet.to(device);"
      ],
      "execution_count": 0,
      "outputs": []
    },
    {
      "cell_type": "code",
      "metadata": {
        "id": "JV09EA4_wJnR",
        "colab_type": "code",
        "colab": {}
      },
      "source": [
        "optimizer = torch.optim.Adam(pointnet.parameters(), lr=0.001)"
      ],
      "execution_count": 0,
      "outputs": []
    },
    {
      "cell_type": "code",
      "metadata": {
        "id": "aDb9rPb_wPWj",
        "colab_type": "code",
        "colab": {}
      },
      "source": [
        "def pointnetloss(outputs, labels, m3x3, m128x128, alpha = 0.0001):\n",
        "    criterion = torch.nn.NLLLoss()\n",
        "    bs=outputs.size(0)\n",
        "    id3x3 = torch.eye(3, requires_grad=True).repeat(bs,1,1)\n",
        "    id128x128 = torch.eye(128, requires_grad=True).repeat(bs,1,1)\n",
        "    if outputs.is_cuda:\n",
        "        id3x3=id3x3.cuda()\n",
        "        id128x128=id128x128.cuda()\n",
        "    diff3x3 = id3x3-torch.bmm(m3x3,m3x3.transpose(1,2))\n",
        "    diff128x128 = id128x128-torch.bmm(m128x128,m128x128.transpose(1,2))\n",
        "    return criterion(outputs, labels) + alpha * (torch.norm(diff3x3)+torch.norm(diff128x128)) / float(bs)\n",
        "        "
      ],
      "execution_count": 0,
      "outputs": []
    },
    {
      "cell_type": "code",
      "metadata": {
        "id": "CgaPisZFwVzh",
        "colab_type": "code",
        "colab": {}
      },
      "source": [
        "def train(model, train_loader, val_loader=None,  epochs=15, save=True):\n",
        "    for epoch in range(epochs): \n",
        "        pointnet.train()\n",
        "        running_loss = 0.0\n",
        "        for i, data in enumerate(train_loader, 0):\n",
        "            inputs, labels = data['image'].to(device), data['category'].to(device)\n",
        "            optimizer.zero_grad()\n",
        "            outputs, m3x3, m64x64 = pointnet(inputs.transpose(1,2))\n",
        "\n",
        "            loss = pointnetloss(outputs, labels, m3x3, m64x64)\n",
        "            loss.backward()\n",
        "            optimizer.step()\n",
        "\n",
        "            # print statistics\n",
        "            running_loss += loss.item()\n",
        "            if i % 10 == 9:    # print every 10 mini-batches\n",
        "                    print('[%d, %5d] loss: %.3f' %\n",
        "                        (epoch + 1, i + 1, running_loss / 10))\n",
        "                    running_loss = 0.0\n",
        "\n",
        "        pointnet.eval()\n",
        "        correct = total = 0\n",
        "\n",
        "        # validation\n",
        "        if val_loader:\n",
        "            with torch.no_grad():\n",
        "                for data in val_loader:\n",
        "                    inputs, labels = data['image'].to(device), data['category'].to(device)\n",
        "                    outputs, __, __ = pointnet(inputs.transpose(1,2))\n",
        "                    _, predicted = torch.max(outputs.data, 1)\n",
        "                    total += labels.size(0) * labels.size(1) ##\n",
        "                    correct += (predicted == labels).sum().item()\n",
        "            val_acc = 100 * correct / total\n",
        "            print('Valid accuracy: %d %%' % val_acc)\n",
        "\n",
        "        # save the model\n",
        "        if save:\n",
        "            torch.save(pointnet.state_dict(), root_dir+\"/modelsSeg/\"+str(epoch)+\"_\"+str(val_acc))\n"
      ],
      "execution_count": 0,
      "outputs": []
    },
    {
      "cell_type": "code",
      "metadata": {
        "id": "3jjVYFmSv9lu",
        "colab_type": "code",
        "outputId": "0c443233-6750-4382-b790-333ac78dcf98",
        "colab": {
          "base_uri": "https://localhost:8080/",
          "height": 1000
        }
      },
      "source": [
        "train(pointnet, train_loader, val_loader,  save=True)\n"
      ],
      "execution_count": 0,
      "outputs": [
        {
          "output_type": "stream",
          "text": [
            "[1,    10] loss: 1.203\n",
            "[1,    20] loss: 0.924\n",
            "[1,    30] loss: 0.844\n",
            "[1,    40] loss: 0.800\n",
            "Valid accuracy: 78 %\n",
            "[2,    10] loss: 0.769\n",
            "[2,    20] loss: 0.741\n",
            "[2,    30] loss: 0.732\n",
            "[2,    40] loss: 0.729\n",
            "Valid accuracy: 82 %\n",
            "[3,    10] loss: 0.709\n",
            "[3,    20] loss: 0.685\n",
            "[3,    30] loss: 0.680\n",
            "[3,    40] loss: 0.676\n",
            "Valid accuracy: 85 %\n",
            "[4,    10] loss: 0.663\n",
            "[4,    20] loss: 0.642\n",
            "[4,    30] loss: 0.637\n",
            "[4,    40] loss: 0.636\n",
            "Valid accuracy: 87 %\n",
            "[5,    10] loss: 0.626\n",
            "[5,    20] loss: 0.617\n",
            "[5,    30] loss: 0.610\n",
            "[5,    40] loss: 0.613\n",
            "Valid accuracy: 86 %\n",
            "[6,    10] loss: 0.604\n",
            "[6,    20] loss: 0.587\n",
            "[6,    30] loss: 0.580\n",
            "[6,    40] loss: 0.583\n",
            "Valid accuracy: 86 %\n",
            "[7,    10] loss: 0.574\n",
            "[7,    20] loss: 0.563\n",
            "[7,    30] loss: 0.558\n",
            "[7,    40] loss: 0.565\n",
            "Valid accuracy: 86 %\n",
            "[8,    10] loss: 0.553\n",
            "[8,    20] loss: 0.539\n",
            "[8,    30] loss: 0.538\n",
            "[8,    40] loss: 0.543\n",
            "Valid accuracy: 87 %\n",
            "[9,    10] loss: 0.533\n",
            "[9,    20] loss: 0.525\n",
            "[9,    30] loss: 0.516\n",
            "[9,    40] loss: 0.521\n",
            "Valid accuracy: 87 %\n",
            "[10,    10] loss: 0.522\n",
            "[10,    20] loss: 0.506\n",
            "[10,    30] loss: 0.503\n",
            "[10,    40] loss: 0.507\n",
            "Valid accuracy: 87 %\n",
            "[11,    10] loss: 0.501\n",
            "[11,    20] loss: 0.495\n",
            "[11,    30] loss: 0.485\n",
            "[11,    40] loss: 0.497\n",
            "Valid accuracy: 88 %\n",
            "[12,    10] loss: 0.484\n",
            "[12,    20] loss: 0.477\n",
            "[12,    30] loss: 0.474\n",
            "[12,    40] loss: 0.477\n",
            "Valid accuracy: 88 %\n",
            "[13,    10] loss: 0.472\n",
            "[13,    20] loss: 0.458\n",
            "[13,    30] loss: 0.456\n",
            "[13,    40] loss: 0.464\n",
            "Valid accuracy: 87 %\n",
            "[14,    10] loss: 0.454\n",
            "[14,    20] loss: 0.452\n",
            "[14,    30] loss: 0.446\n",
            "[14,    40] loss: 0.458\n",
            "Valid accuracy: 87 %\n",
            "[15,    10] loss: 0.444\n",
            "[15,    20] loss: 0.433\n",
            "[15,    30] loss: 0.432\n",
            "[15,    40] loss: 0.440\n",
            "Valid accuracy: 88 %\n"
          ],
          "name": "stdout"
        }
      ]
    },
    {
      "cell_type": "markdown",
      "metadata": {
        "id": "VeUZqen5GlKr",
        "colab_type": "text"
      },
      "source": [
        "## test"
      ]
    },
    {
      "cell_type": "markdown",
      "metadata": {
        "id": "mbBNmdqgGj5-",
        "colab_type": "text"
      },
      "source": [
        ""
      ]
    },
    {
      "cell_type": "code",
      "metadata": {
        "id": "Xsk9nSDAI3ba",
        "colab_type": "code",
        "outputId": "4467b734-e3db-4d48-dce3-b7f269cbaed5",
        "colab": {
          "base_uri": "https://localhost:8080/",
          "height": 867
        }
      },
      "source": [
        "pointnet = PointNetSeg()\n",
        "pointnet.load_state_dict(torch.load(root_dir+\"/modelsSeg/\"+\"14_88.01940298507462\"))\n",
        "pointnet.eval()"
      ],
      "execution_count": 0,
      "outputs": [
        {
          "output_type": "execute_result",
          "data": {
            "text/plain": [
              "PointNetSeg(\n",
              "  (transform): Transform(\n",
              "    (input_transform): Tnet(\n",
              "      (conv1): Conv1d(3, 64, kernel_size=(1,), stride=(1,))\n",
              "      (conv2): Conv1d(64, 128, kernel_size=(1,), stride=(1,))\n",
              "      (conv3): Conv1d(128, 1024, kernel_size=(1,), stride=(1,))\n",
              "      (fc1): Linear(in_features=1024, out_features=512, bias=True)\n",
              "      (fc2): Linear(in_features=512, out_features=256, bias=True)\n",
              "      (fc3): Linear(in_features=256, out_features=9, bias=True)\n",
              "      (bn1): BatchNorm1d(64, eps=1e-05, momentum=0.1, affine=True, track_running_stats=True)\n",
              "      (bn2): BatchNorm1d(128, eps=1e-05, momentum=0.1, affine=True, track_running_stats=True)\n",
              "      (bn3): BatchNorm1d(1024, eps=1e-05, momentum=0.1, affine=True, track_running_stats=True)\n",
              "      (bn4): BatchNorm1d(512, eps=1e-05, momentum=0.1, affine=True, track_running_stats=True)\n",
              "      (bn5): BatchNorm1d(256, eps=1e-05, momentum=0.1, affine=True, track_running_stats=True)\n",
              "    )\n",
              "    (feature_transform): Tnet(\n",
              "      (conv1): Conv1d(128, 64, kernel_size=(1,), stride=(1,))\n",
              "      (conv2): Conv1d(64, 128, kernel_size=(1,), stride=(1,))\n",
              "      (conv3): Conv1d(128, 1024, kernel_size=(1,), stride=(1,))\n",
              "      (fc1): Linear(in_features=1024, out_features=512, bias=True)\n",
              "      (fc2): Linear(in_features=512, out_features=256, bias=True)\n",
              "      (fc3): Linear(in_features=256, out_features=16384, bias=True)\n",
              "      (bn1): BatchNorm1d(64, eps=1e-05, momentum=0.1, affine=True, track_running_stats=True)\n",
              "      (bn2): BatchNorm1d(128, eps=1e-05, momentum=0.1, affine=True, track_running_stats=True)\n",
              "      (bn3): BatchNorm1d(1024, eps=1e-05, momentum=0.1, affine=True, track_running_stats=True)\n",
              "      (bn4): BatchNorm1d(512, eps=1e-05, momentum=0.1, affine=True, track_running_stats=True)\n",
              "      (bn5): BatchNorm1d(256, eps=1e-05, momentum=0.1, affine=True, track_running_stats=True)\n",
              "    )\n",
              "    (fc1): Conv1d(3, 64, kernel_size=(1,), stride=(1,))\n",
              "    (fc2): Conv1d(64, 128, kernel_size=(1,), stride=(1,))\n",
              "    (fc3): Conv1d(128, 128, kernel_size=(1,), stride=(1,))\n",
              "    (fc4): Conv1d(128, 512, kernel_size=(1,), stride=(1,))\n",
              "    (fc5): Conv1d(512, 2048, kernel_size=(1,), stride=(1,))\n",
              "    (bn1): BatchNorm1d(64, eps=1e-05, momentum=0.1, affine=True, track_running_stats=True)\n",
              "    (bn2): BatchNorm1d(128, eps=1e-05, momentum=0.1, affine=True, track_running_stats=True)\n",
              "    (bn3): BatchNorm1d(128, eps=1e-05, momentum=0.1, affine=True, track_running_stats=True)\n",
              "    (bn4): BatchNorm1d(512, eps=1e-05, momentum=0.1, affine=True, track_running_stats=True)\n",
              "    (bn5): BatchNorm1d(2048, eps=1e-05, momentum=0.1, affine=True, track_running_stats=True)\n",
              "  )\n",
              "  (fc1): Conv1d(3008, 256, kernel_size=(1,), stride=(1,))\n",
              "  (fc2): Conv1d(256, 256, kernel_size=(1,), stride=(1,))\n",
              "  (fc3): Conv1d(256, 128, kernel_size=(1,), stride=(1,))\n",
              "  (fc4): Conv1d(128, 4, kernel_size=(1,), stride=(1,))\n",
              "  (bn1): BatchNorm1d(256, eps=1e-05, momentum=0.1, affine=True, track_running_stats=True)\n",
              "  (bn2): BatchNorm1d(256, eps=1e-05, momentum=0.1, affine=True, track_running_stats=True)\n",
              "  (bn3): BatchNorm1d(128, eps=1e-05, momentum=0.1, affine=True, track_running_stats=True)\n",
              "  (bn4): BatchNorm1d(4, eps=1e-05, momentum=0.1, affine=True, track_running_stats=True)\n",
              "  (logsoftmax): LogSoftmax()\n",
              ")"
            ]
          },
          "metadata": {
            "tags": []
          },
          "execution_count": 11
        }
      ]
    },
    {
      "cell_type": "code",
      "metadata": {
        "id": "zoE5fRX8GnWR",
        "colab_type": "code",
        "outputId": "901bdfb2-0445-4497-e772-e2f482b98f12",
        "colab": {
          "base_uri": "https://localhost:8080/",
          "height": 139
        }
      },
      "source": [
        "batch = next(iter(val_loader))\n",
        "pred = pointnet(batch['image'].transpose(1,2))\n",
        "pred_np = np.array(torch.argmax(pred[0],1));\n",
        "pred_np\n",
        "\n"
      ],
      "execution_count": 0,
      "outputs": [
        {
          "output_type": "execute_result",
          "data": {
            "text/plain": [
              "array([[1, 1, 0, ..., 0, 0, 1],\n",
              "       [1, 2, 1, ..., 1, 2, 1],\n",
              "       [0, 0, 2, ..., 0, 1, 3],\n",
              "       ...,\n",
              "       [1, 0, 1, ..., 3, 2, 1],\n",
              "       [2, 3, 0, ..., 0, 1, 3],\n",
              "       [1, 1, 1, ..., 0, 0, 1]])"
            ]
          },
          "metadata": {
            "tags": []
          },
          "execution_count": 22
        }
      ]
    },
    {
      "cell_type": "code",
      "metadata": {
        "id": "3ISvwR4RL_eT",
        "colab_type": "code",
        "outputId": "9695bbd3-e74c-41a1-9846-ad438f413a2f",
        "colab": {
          "base_uri": "https://localhost:8080/",
          "height": 35
        }
      },
      "source": [
        "batch['image'][0].shape"
      ],
      "execution_count": 0,
      "outputs": [
        {
          "output_type": "execute_result",
          "data": {
            "text/plain": [
              "torch.Size([2000, 3])"
            ]
          },
          "metadata": {
            "tags": []
          },
          "execution_count": 61
        }
      ]
    },
    {
      "cell_type": "code",
      "metadata": {
        "id": "MQXXGh3GJSRf",
        "colab_type": "code",
        "outputId": "23c684cc-7a4f-467b-a8c6-e916bae70107",
        "colab": {
          "base_uri": "https://localhost:8080/",
          "height": 139
        }
      },
      "source": [
        "pred_np==np.array(batch['category'])"
      ],
      "execution_count": 0,
      "outputs": [
        {
          "output_type": "execute_result",
          "data": {
            "text/plain": [
              "array([[ True,  True,  True, ...,  True,  True,  True],\n",
              "       [ True,  True,  True, ...,  True,  True,  True],\n",
              "       [ True,  True,  True, ..., False,  True,  True],\n",
              "       ...,\n",
              "       [ True,  True,  True, ...,  True,  True,  True],\n",
              "       [ True,  True,  True, ...,  True,  True,  True],\n",
              "       [ True,  True,  True, ..., False,  True,  True]])"
            ]
          },
          "metadata": {
            "tags": []
          },
          "execution_count": 23
        }
      ]
    },
    {
      "cell_type": "code",
      "metadata": {
        "id": "60Mr2Bp7O9xu",
        "colab_type": "code",
        "colab": {}
      },
      "source": [
        "acc = (pred_np==np.array(batch['category']))"
      ],
      "execution_count": 0,
      "outputs": []
    },
    {
      "cell_type": "code",
      "metadata": {
        "id": "Jc1jLPj-PBo-",
        "colab_type": "code",
        "colab": {}
      },
      "source": [
        "resulting_acc = np.sum(acc, axis=1) / 2000"
      ],
      "execution_count": 0,
      "outputs": []
    },
    {
      "cell_type": "code",
      "metadata": {
        "id": "w8NwSbbz8jQ-",
        "colab_type": "code",
        "outputId": "eba05278-cf1a-425b-8462-7684e7a50101",
        "colab": {
          "base_uri": "https://localhost:8080/",
          "height": 156
        }
      },
      "source": [
        "resulting_acc"
      ],
      "execution_count": 0,
      "outputs": [
        {
          "output_type": "execute_result",
          "data": {
            "text/plain": [
              "array([0.863 , 0.906 , 0.91  , 0.867 , 0.9165, 0.882 , 0.9055, 0.8445,\n",
              "       0.8405, 0.9235, 0.8865, 0.8855, 0.903 , 0.884 , 0.8945, 0.85  ,\n",
              "       0.9125, 0.822 , 0.9345, 0.895 , 0.9135, 0.9395, 0.9385, 0.9165,\n",
              "       0.8865, 0.848 , 0.8765, 0.9105, 0.8805, 0.83  , 0.852 , 0.9225,\n",
              "       0.906 , 0.7705, 0.883 , 0.785 , 0.811 , 0.8565, 0.866 , 0.868 ,\n",
              "       0.7855, 0.7305, 0.9155, 0.8915, 0.9065, 0.805 , 0.875 , 0.89  ,\n",
              "       0.813 , 0.9005, 0.8325, 0.833 , 0.879 , 0.9215, 0.8185, 0.933 ,\n",
              "       0.9325, 0.9   , 0.833 , 0.8535, 0.8545, 0.895 , 0.8325, 0.9295])"
            ]
          },
          "metadata": {
            "tags": []
          },
          "execution_count": 18
        }
      ]
    },
    {
      "cell_type": "code",
      "metadata": {
        "id": "nnt7vxPHKamU",
        "colab_type": "code",
        "outputId": "1ab89e1a-d06d-47c3-dcae-2876e5c6d605",
        "colab": {
          "base_uri": "https://localhost:8080/",
          "height": 139
        }
      },
      "source": [
        "pred_np"
      ],
      "execution_count": 0,
      "outputs": [
        {
          "output_type": "execute_result",
          "data": {
            "text/plain": [
              "array([[1, 1, 0, ..., 0, 0, 1],\n",
              "       [1, 2, 1, ..., 1, 2, 1],\n",
              "       [0, 0, 2, ..., 0, 1, 3],\n",
              "       ...,\n",
              "       [1, 0, 1, ..., 3, 2, 1],\n",
              "       [2, 3, 0, ..., 0, 1, 3],\n",
              "       [1, 1, 1, ..., 0, 0, 1]])"
            ]
          },
          "metadata": {
            "tags": []
          },
          "execution_count": 25
        }
      ]
    },
    {
      "cell_type": "code",
      "metadata": {
        "id": "N9bgpbtnHC2E",
        "colab_type": "code",
        "outputId": "394d29a3-8cc0-4ee7-d480-edd452a0d1ce",
        "colab": {
          "base_uri": "https://localhost:8080/"
        }
      },
      "source": [
        "x,y,z=np.array(batch['image'][0]).T\n",
        "c = np.array(batch['category'][0]).T\n",
        "\n",
        "fig = go.Figure(data=[go.Scatter3d(x=x, y=y, z=z, \n",
        "                                   mode='markers',\n",
        "                                   marker=dict(\n",
        "        size=30,\n",
        "        color=c,                # set color to an array/list of desired values\n",
        "        colorscale='Viridis',   # choose a colorscale\n",
        "        opacity=1.0\n",
        "    ))])\n",
        "fig.update_traces(marker=dict(size=2,\n",
        "                              line=dict(width=2,\n",
        "                                        color='DarkSlateGrey')),\n",
        "                  selector=dict(mode='markers'))\n",
        "fig.show()"
      ],
      "execution_count": 0,
      "outputs": [
        {
          "output_type": "display_data",
          "data": {
            "text/html": [
              "<html>\n",
              "<head><meta charset=\"utf-8\" /></head>\n",
              "<body>\n",
              "    <div>\n",
              "            <script src=\"https://cdnjs.cloudflare.com/ajax/libs/mathjax/2.7.5/MathJax.js?config=TeX-AMS-MML_SVG\"></script><script type=\"text/javascript\">if (window.MathJax) {MathJax.Hub.Config({SVG: {font: \"STIX-Web\"}});}</script>\n",
              "                <script type=\"text/javascript\">window.PlotlyConfig = {MathJaxConfig: 'local'};</script>\n",
              "        <script src=\"https://cdn.plot.ly/plotly-latest.min.js\"></script>    \n",
              "            <div id=\"2e9bf89a-92b2-469b-8868-78b4bfdbb8e8\" class=\"plotly-graph-div\" style=\"height:525px; width:100%;\"></div>\n",
              "            <script type=\"text/javascript\">\n",
              "                \n",
              "                    window.PLOTLYENV=window.PLOTLYENV || {};\n",
              "                    \n",
              "                if (document.getElementById(\"2e9bf89a-92b2-469b-8868-78b4bfdbb8e8\")) {\n",
              "                    Plotly.newPlot(\n",
              "                        '2e9bf89a-92b2-469b-8868-78b4bfdbb8e8',\n",
              "                        [{\"marker\": {\"color\": [1, 1, 0, 0, 0, 3, 1, 1, 2, 0, 0, 0, 1, 0, 1, 0, 0, 0, 0, 1, 0, 1, 1, 0, 0, 0, 0, 0, 1, 1, 1, 1, 3, 1, 0, 1, 2, 1, 2, 0, 0, 1, 0, 1, 0, 1, 0, 1, 0, 0, 0, 0, 1, 1, 0, 0, 1, 2, 0, 0, 0, 0, 0, 0, 0, 0, 1, 0, 1, 1, 0, 1, 0, 1, 3, 0, 2, 0, 0, 1, 0, 0, 0, 1, 1, 0, 0, 0, 1, 1, 1, 3, 0, 2, 2, 0, 0, 0, 1, 0, 0, 0, 2, 0, 2, 1, 0, 0, 0, 0, 0, 0, 0, 3, 0, 0, 3, 3, 2, 0, 0, 1, 0, 0, 2, 2, 1, 3, 1, 1, 0, 0, 2, 1, 3, 0, 2, 1, 3, 0, 2, 0, 1, 0, 0, 1, 3, 3, 1, 0, 1, 0, 2, 1, 0, 0, 0, 1, 1, 0, 0, 3, 2, 0, 1, 2, 1, 0, 3, 0, 3, 0, 0, 1, 1, 0, 1, 1, 0, 1, 2, 1, 0, 0, 0, 0, 1, 1, 0, 2, 0, 1, 0, 1, 1, 2, 0, 2, 1, 0, 0, 2, 1, 1, 1, 0, 1, 1, 1, 1, 0, 0, 0, 3, 2, 0, 0, 0, 1, 3, 0, 0, 1, 0, 1, 0, 1, 1, 1, 1, 0, 0, 0, 0, 1, 2, 0, 0, 1, 3, 2, 0, 1, 2, 3, 2, 0, 3, 0, 0, 1, 0, 0, 3, 0, 3, 3, 0, 1, 3, 0, 0, 1, 3, 0, 0, 0, 0, 0, 0, 0, 1, 3, 0, 1, 0, 1, 0, 1, 3, 1, 0, 0, 2, 1, 1, 0, 0, 3, 0, 0, 3, 1, 1, 0, 1, 1, 0, 0, 0, 1, 3, 1, 0, 2, 1, 0, 1, 1, 1, 2, 0, 2, 2, 0, 0, 1, 3, 1, 1, 2, 1, 3, 0, 0, 1, 1, 1, 1, 0, 1, 0, 0, 0, 0, 2, 0, 0, 0, 0, 1, 1, 0, 1, 3, 0, 2, 1, 0, 0, 0, 0, 0, 3, 1, 0, 3, 1, 0, 1, 1, 0, 0, 1, 0, 0, 0, 0, 0, 3, 2, 0, 1, 1, 0, 0, 0, 1, 3, 1, 1, 3, 2, 3, 0, 0, 3, 3, 0, 2, 1, 3, 1, 1, 0, 3, 0, 2, 0, 0, 1, 0, 2, 1, 0, 1, 0, 1, 1, 0, 1, 0, 0, 0, 1, 0, 0, 1, 0, 0, 1, 3, 0, 0, 3, 0, 1, 1, 1, 1, 0, 1, 0, 0, 1, 1, 3, 1, 1, 0, 3, 0, 1, 0, 1, 2, 3, 1, 1, 0, 1, 1, 0, 1, 0, 1, 1, 1, 1, 0, 2, 0, 1, 0, 0, 3, 0, 3, 1, 1, 1, 0, 0, 0, 0, 0, 0, 2, 3, 3, 2, 2, 0, 0, 0, 0, 0, 1, 0, 1, 0, 0, 1, 0, 2, 0, 2, 2, 0, 1, 0, 0, 1, 0, 0, 1, 0, 1, 0, 0, 0, 0, 1, 0, 0, 0, 2, 1, 1, 1, 1, 1, 0, 2, 0, 0, 0, 1, 1, 0, 0, 2, 1, 1, 0, 0, 2, 0, 0, 3, 1, 3, 1, 0, 1, 0, 0, 3, 1, 1, 3, 2, 0, 0, 0, 3, 2, 1, 1, 1, 3, 0, 1, 0, 3, 0, 0, 0, 1, 0, 1, 1, 1, 0, 0, 3, 1, 2, 0, 0, 0, 1, 0, 0, 0, 2, 2, 0, 2, 2, 0, 0, 0, 3, 1, 0, 1, 1, 0, 1, 3, 0, 0, 1, 1, 1, 1, 0, 0, 2, 2, 1, 1, 0, 0, 2, 0, 1, 1, 1, 0, 1, 1, 1, 1, 0, 0, 0, 0, 0, 0, 0, 0, 1, 1, 1, 1, 0, 1, 1, 0, 1, 1, 1, 0, 1, 1, 0, 2, 1, 1, 1, 3, 1, 2, 0, 1, 1, 0, 0, 0, 1, 0, 1, 3, 3, 0, 3, 2, 0, 0, 3, 1, 0, 0, 1, 0, 3, 1, 0, 1, 0, 1, 0, 1, 1, 1, 1, 1, 1, 1, 1, 0, 0, 0, 1, 0, 0, 0, 0, 0, 0, 0, 0, 0, 0, 0, 1, 1, 0, 3, 0, 0, 0, 2, 1, 1, 1, 0, 2, 0, 2, 3, 0, 1, 1, 1, 0, 1, 1, 0, 0, 0, 1, 0, 1, 0, 0, 1, 2, 0, 0, 3, 0, 0, 0, 0, 1, 1, 0, 1, 0, 1, 3, 1, 1, 0, 1, 2, 2, 0, 1, 0, 0, 3, 0, 0, 0, 0, 0, 2, 1, 1, 0, 0, 1, 1, 3, 1, 0, 3, 1, 1, 0, 0, 0, 0, 3, 0, 0, 1, 0, 0, 0, 0, 2, 1, 1, 2, 3, 0, 0, 1, 2, 2, 0, 0, 0, 3, 0, 2, 0, 0, 1, 0, 3, 0, 1, 3, 3, 0, 0, 1, 1, 1, 1, 0, 1, 0, 3, 1, 1, 0, 1, 0, 3, 0, 1, 1, 1, 0, 1, 0, 0, 1, 0, 0, 1, 1, 1, 0, 1, 0, 0, 1, 0, 1, 0, 0, 1, 0, 0, 1, 1, 0, 0, 1, 2, 0, 0, 1, 1, 1, 0, 0, 0, 1, 0, 0, 2, 3, 0, 1, 0, 3, 0, 1, 0, 2, 1, 3, 1, 3, 0, 0, 1, 1, 0, 0, 0, 1, 0, 1, 0, 0, 0, 1, 3, 1, 3, 0, 1, 1, 0, 0, 0, 0, 1, 3, 0, 3, 3, 3, 1, 0, 0, 0, 0, 3, 0, 3, 3, 1, 0, 1, 0, 0, 0, 3, 1, 1, 1, 0, 1, 1, 3, 0, 1, 0, 3, 1, 0, 2, 0, 3, 1, 0, 0, 2, 2, 0, 2, 1, 0, 0, 0, 0, 0, 0, 3, 1, 0, 3, 1, 3, 1, 1, 0, 0, 1, 0, 2, 1, 0, 0, 1, 1, 0, 1, 0, 1, 1, 2, 0, 0, 3, 1, 1, 2, 1, 2, 0, 1, 0, 1, 1, 2, 0, 2, 0, 0, 1, 0, 0, 1, 0, 0, 0, 3, 1, 0, 0, 0, 0, 0, 1, 0, 1, 0, 0, 1, 0, 1, 0, 0, 0, 0, 0, 0, 3, 1, 1, 0, 1, 1, 2, 0, 1, 2, 1, 1, 1, 0, 0, 2, 0, 0, 0, 2, 0, 1, 3, 0, 0, 1, 0, 1, 0, 0, 0, 1, 0, 0, 0, 3, 0, 0, 0, 3, 0, 1, 0, 1, 1, 0, 0, 0, 0, 1, 0, 0, 1, 1, 0, 0, 1, 1, 1, 1, 1, 2, 0, 1, 2, 2, 2, 0, 0, 1, 0, 0, 2, 3, 3, 2, 1, 0, 3, 3, 1, 1, 0, 0, 0, 0, 3, 0, 1, 1, 3, 2, 0, 0, 1, 1, 1, 1, 0, 0, 0, 0, 0, 1, 1, 1, 0, 1, 1, 0, 0, 0, 0, 2, 1, 1, 0, 1, 0, 0, 0, 0, 1, 1, 1, 0, 0, 0, 1, 1, 0, 0, 0, 0, 0, 1, 0, 1, 3, 3, 3, 1, 3, 1, 1, 3, 1, 0, 0, 1, 1, 1, 2, 0, 0, 1, 0, 3, 1, 0, 3, 1, 0, 0, 1, 0, 2, 0, 0, 1, 3, 1, 2, 1, 0, 1, 0, 2, 0, 1, 3, 1, 2, 0, 0, 0, 1, 0, 1, 1, 1, 0, 0, 3, 0, 1, 1, 1, 1, 0, 0, 1, 1, 1, 2, 0, 2, 0, 2, 0, 2, 0, 0, 0, 2, 1, 1, 0, 1, 1, 1, 1, 0, 2, 1, 0, 2, 0, 0, 1, 0, 1, 0, 1, 0, 0, 0, 0, 0, 1, 0, 2, 1, 0, 0, 0, 3, 0, 0, 0, 2, 1, 1, 0, 0, 0, 0, 1, 2, 0, 0, 3, 1, 0, 0, 2, 0, 0, 1, 0, 3, 1, 0, 2, 1, 0, 0, 2, 0, 2, 2, 1, 0, 2, 0, 0, 0, 1, 0, 0, 0, 1, 1, 0, 0, 0, 0, 0, 0, 0, 0, 1, 0, 0, 0, 1, 0, 1, 1, 1, 0, 0, 2, 1, 1, 1, 1, 1, 0, 1, 1, 3, 0, 0, 0, 0, 0, 0, 0, 1, 0, 0, 3, 0, 0, 0, 0, 0, 2, 2, 1, 0, 0, 0, 0, 1, 0, 0, 3, 1, 1, 0, 0, 1, 0, 1, 1, 1, 3, 1, 1, 0, 0, 0, 1, 1, 1, 1, 0, 3, 0, 0, 1, 0, 0, 2, 0, 1, 3, 0, 3, 1, 2, 0, 0, 1, 0, 0, 1, 2, 3, 1, 1, 3, 2, 1, 1, 3, 2, 1, 0, 0, 0, 0, 0, 0, 0, 0, 2, 0, 0, 0, 0, 0, 0, 0, 2, 0, 0, 0, 0, 3, 0, 2, 2, 2, 1, 0, 0, 0, 2, 0, 0, 2, 1, 1, 0, 2, 1, 3, 1, 1, 1, 0, 1, 1, 1, 0, 0, 3, 1, 0, 1, 0, 1, 0, 0, 3, 1, 0, 1, 0, 0, 1, 0, 2, 0, 1, 0, 1, 0, 1, 0, 1, 1, 1, 0, 0, 3, 1, 1, 2, 2, 0, 0, 1, 0, 2, 2, 0, 3, 1, 0, 1, 0, 1, 0, 0, 3, 2, 0, 0, 1, 3, 1, 1, 1, 3, 0, 1, 1, 0, 1, 1, 0, 1, 1, 0, 1, 0, 0, 3, 0, 1, 0, 1, 1, 1, 0, 3, 0, 0, 0, 0, 0, 1, 0, 0, 1, 1, 0, 0, 1, 0, 1, 1, 3, 0, 1, 0, 0, 1, 2, 1, 2, 0, 0, 1, 0, 0, 0, 1, 0, 0, 1, 0, 0, 0, 3, 0, 1, 1, 1, 3, 2, 0, 0, 1, 2, 0, 0, 1, 0, 0, 1, 0, 2, 1, 1, 0, 1, 0, 2, 1, 0, 0, 1, 0, 0, 0, 1, 0, 0, 0, 0, 1, 3, 1, 1, 3, 1, 2, 1, 0, 2, 0, 0, 0, 2, 1, 2, 1, 3, 0, 2, 0, 1, 2, 0, 0, 0, 3, 1, 1, 3, 0, 1, 1, 3, 0, 0, 0, 0, 1, 0, 0, 1, 2, 2, 0, 1, 3, 0, 0, 0, 1, 0, 1, 1, 2, 3, 0, 1, 0, 1, 0, 0, 0, 2, 0, 3, 0, 0, 1, 0, 1, 1, 1, 0, 0, 0, 0, 0, 0, 0, 1, 0, 0, 1, 0, 0, 0, 2, 0, 2, 1, 0, 2, 1, 2, 2, 3, 2, 0, 0, 0, 0, 1, 1, 0, 1, 0, 0, 2, 1, 2, 1, 0, 0, 0, 1, 0, 0, 0, 3, 0, 0, 1, 1, 2, 1, 2, 0, 0, 1, 0, 1, 0, 1, 0, 1, 1, 2, 0, 1, 1, 0, 0, 1, 0, 0, 2, 2, 1, 0, 1, 1, 0, 0, 3, 2, 0, 3, 0, 0, 3, 1, 0, 2, 1, 0, 1, 1, 1, 0, 3, 0, 1, 0, 0, 0, 0, 1, 0, 0, 1, 2, 0, 0, 0, 1, 0, 3, 0, 3, 0, 3, 0, 1, 1, 1, 2, 1, 3, 1, 1, 1, 0, 1, 1, 1, 0, 2, 1, 1, 0, 0, 1, 2, 2, 0, 2, 3, 2, 1, 0, 1, 0, 0, 3, 0, 1, 3, 0, 2, 0, 0, 0, 0, 1, 0, 0, 1, 0, 1, 1, 0, 1, 1, 1, 1, 3, 0, 0, 1, 0, 0, 3, 2, 2, 2, 1, 1, 1, 1, 0, 1, 1, 2, 0, 0, 2, 0, 0, 0, 1, 1, 0, 2, 1, 0, 1, 1, 0, 1, 3, 1, 1, 3, 1, 0, 0, 0, 1, 1, 3, 0, 1, 0, 1, 0, 0, 1, 1, 3, 0, 1, 3, 1, 0, 0, 0, 0, 0, 1, 0, 1, 1, 0, 0, 1, 1, 1, 0, 1, 0, 0, 0, 0, 0, 3, 1, 1, 0, 0, 0, 0, 1, 0, 1, 1, 0, 3, 1, 1, 0, 1, 1, 0, 0, 2, 2, 1, 1, 0, 0, 2, 0, 0, 0, 1], \"colorscale\": [[0.0, \"#440154\"], [0.1111111111111111, \"#482878\"], [0.2222222222222222, \"#3e4989\"], [0.3333333333333333, \"#31688e\"], [0.4444444444444444, \"#26828e\"], [0.5555555555555556, \"#1f9e89\"], [0.6666666666666666, \"#35b779\"], [0.7777777777777778, \"#6ece58\"], [0.8888888888888888, \"#b5de2b\"], [1.0, \"#fde725\"]], \"line\": {\"color\": \"DarkSlateGrey\", \"width\": 2}, \"opacity\": 1.0, \"size\": 2}, \"mode\": \"markers\", \"type\": \"scatter3d\", \"x\": [-0.18204715847969055, 0.008825558237731457, 0.28726840019226074, 0.516332745552063, -0.39811140298843384, 0.008573263883590698, 0.014796005561947823, -0.1997537612915039, -0.6694600582122803, 0.2569137215614319, -0.030044933781027794, 0.22655582427978516, 0.31199219822883606, -0.11465325951576233, -0.13331381976604462, 0.22798730432987213, -0.1246134415268898, 0.5633187890052795, -0.03486041724681854, -0.10061885416507721, -0.38131117820739746, 0.019983960315585136, 0.02608443796634674, 0.10928181558847427, 0.7629696130752563, -0.7932978868484497, 0.3683227002620697, -0.21102634072303772, -0.08004835993051529, -0.10521233081817627, -0.24070438742637634, 0.00583606818690896, 0.10585290938615799, 0.23910079896450043, 0.6887805461883545, -0.2877293825149536, -0.667611837387085, 0.17028625309467316, -0.8401519656181335, -0.28943902254104614, -0.23781973123550415, 0.006418227683752775, -0.02594190463423729, 0.09331158548593521, -0.21419581770896912, 0.11144211143255234, 0.1586083173751831, -0.01405336707830429, 0.40935102105140686, 0.7572771906852722, -0.27653348445892334, -0.3816143870353699, -0.03618462011218071, -0.03288469836115837, -0.17537921667099, -0.07556185871362686, 0.2515173554420471, -0.7830376029014587, 0.251714289188385, 0.23557619750499725, 0.22430488467216492, -0.5885258316993713, -0.6343398094177246, -0.02785976231098175, 0.12517590820789337, 0.44872015714645386, -0.048352066427469254, 0.48982149362564087, -0.11715356260538101, -0.05458593741059303, -0.7295066118240356, 0.004216644912958145, 0.7777172327041626, 0.2765427827835083, 0.2912992835044861, -0.38744527101516724, -0.6270806789398193, 0.04577511548995972, -0.3632345199584961, 0.11809593439102173, 0.07002174109220505, 0.45952969789505005, 0.24447129666805267, 0.17650072276592255, -0.12253796309232712, 0.22558166086673737, -0.34743639826774597, 0.5865725874900818, -0.17998316884040833, 0.0486898347735405, -0.021130073815584183, 0.05140277370810509, -0.25129857659339905, -0.8311697840690613, -0.7235758900642395, -0.15842948853969574, 0.5688109993934631, -0.03772854432463646, -0.15719518065452576, 0.06506729871034622, -0.5839499235153198, 0.23440314829349518, -0.6951001286506653, 0.33169493079185486, -0.7367313504219055, 0.043391454964876175, -0.24384231865406036, 0.06059802696108818, -0.3574071526527405, -0.08813890814781189, 0.02108464390039444, 0.047482602298259735, 0.7665804028511047, 0.16447710990905762, -0.024042433127760887, -0.3832758367061615, 0.044351670891046524, 0.10937222093343735, -0.548343300819397, -0.016777165234088898, 0.7395799160003662, -0.03414095565676689, 0.14858724176883698, 0.271621435880661, -0.6687334179878235, -0.7260861396789551, 0.0014003933174535632, -0.09305134415626526, 0.22646372020244598, -0.1507975310087204, 0.26748648285865784, 0.09344672411680222, -0.6849833726882935, -0.00036706391256302595, 0.2654317021369934, -0.48342299461364746, -0.539662778377533, 0.16586914658546448, 0.034882672131061554, 0.033715661615133286, -0.7213607430458069, -0.38317835330963135, -0.06146230921149254, -0.07864927500486374, -0.07587619125843048, -0.006557682994753122, 0.13497236371040344, 0.2490396350622177, -0.06831572949886322, -0.1635872721672058, -0.07621221244335175, -0.3353368043899536, -0.6952455639839172, 0.05184940993785858, 0.22421708703041077, 0.15739765763282776, 0.06603451073169708, 0.20516136288642883, -0.05003362521529198, 0.22030705213546753, 0.08263742178678513, 0.2811288833618164, -0.7987158298492432, -0.61396723985672, -0.12011677026748657, -0.7868792414665222, -0.033485330641269684, -0.2772771120071411, 0.17256858944892883, 0.29692816734313965, 0.28751087188720703, -0.1354084312915802, 0.22807270288467407, 0.27685168385505676, 0.2835380434989929, -0.33589181303977966, 0.19400015473365784, -0.1788673847913742, -0.3379354774951935, -0.14748123288154602, -0.6385904550552368, 0.005326272454112768, -0.5072628855705261, 0.20831622183322906, -0.2996578514575958, -0.22167500853538513, 0.005661646835505962, 0.14947640895843506, 0.514086902141571, -0.7389038801193237, -0.07620931416749954, 0.13320763409137726, 0.41406235098838806, 0.24379630386829376, -0.029117349535226822, -0.7838708758354187, -0.20563718676567078, -0.7433456778526306, -0.08309271931648254, -0.24905765056610107, -0.1033354327082634, -0.5951971411705017, 0.07114330679178238, -0.06611791253089905, 0.014607902616262436, -0.4328133165836334, 0.19838671386241913, -0.042868807911872864, -0.07727579772472382, 0.27382731437683105, 0.26888343691825867, -0.2802812457084656, -0.08318260312080383, 0.28454211354255676, -0.7132824659347534, 0.41333943605422974, -0.16319791972637177, -0.169935405254364, 0.03738158196210861, 0.0011466597206890583, 0.1973119080066681, 0.19879890978336334, 0.01434234157204628, -0.0825899988412857, 0.2639109194278717, -0.13045573234558105, 0.001588770654052496, -0.09012951701879501, 0.14118780195713043, 0.0943494513630867, 0.372313916683197, 0.15023820102214813, 0.4075433015823364, 0.7611912488937378, 0.1145610362291336, -0.7666233777999878, 0.20399118959903717, -0.11703650653362274, -0.11462894082069397, 0.22733822464942932, -0.6516998410224915, -0.17107829451560974, -0.19168561697006226, -0.6781818866729736, 0.25642818212509155, -0.6312124133110046, -0.3578423261642456, 0.34705108404159546, 0.45568370819091797, -0.08034337311983109, -0.027946116402745247, -0.40016844868659973, 0.43755200505256653, 0.014023568481206894, -0.39284461736679077, 0.006318570114672184, 0.03887835517525673, -0.19014155864715576, 0.012621345929801464, 0.010287802666425705, 0.11716985702514648, 0.7489314079284668, -0.053182926028966904, -0.004206288140267134, 0.11044880747795105, 0.06376484781503677, -0.16399893164634705, -0.24935629963874817, -0.13932587206363678, 0.5258418917655945, -0.5461854338645935, 0.04169120639562607, 0.005959989037364721, -0.2514609694480896, -0.05189226567745209, -0.7669939398765564, 0.003096061060205102, 0.37374651432037354, -0.04683205485343933, 0.04177103191614151, 0.1012335941195488, 0.5770299434661865, 0.12607812881469727, -0.6701886057853699, -0.18626470863819122, 0.1963461935520172, -0.24663525819778442, -0.13287457823753357, 0.12491912394762039, -0.4309818148612976, 0.40316131711006165, -0.006365933455526829, 0.03161260858178139, -0.04345124587416649, 0.24772556126117706, 0.026545343920588493, -0.024322206154465675, 0.4535951018333435, -0.10253710299730301, -0.08831088989973068, 0.09117338806390762, 0.2482421100139618, -0.1772686392068863, -0.05468207225203514, -0.8033145070075989, 0.00973215140402317, 0.5382658839225769, -0.08712007105350494, 0.19479767978191376, 0.031016560271382332, -0.7566854953765869, 0.0013212352059781551, -0.6859123706817627, -0.6273081302642822, 0.38354653120040894, 0.015588325448334217, -0.0385579839348793, 0.07266267389059067, 0.049066800624132156, -0.12478262931108475, -0.7174545526504517, 0.02461746521294117, 0.22739790380001068, 0.800366997718811, -0.007195286452770233, -0.02519295923411846, 0.03082498162984848, 0.020126426592469215, 0.09263061732053757, 0.21165408194065094, 0.15578527748584747, 0.43908074498176575, 0.04863626882433891, 0.19019785523414612, -0.35477882623672485, -0.6583174467086792, 0.7465647459030151, 0.34560292959213257, -0.1574975699186325, 0.16026172041893005, 0.19859318435192108, 0.05696510896086693, 0.4259142577648163, 0.10272262245416641, -0.022881899029016495, 0.6023952960968018, -0.6739322543144226, -0.013526994735002518, 0.18819086253643036, 0.054448407143354416, 0.43863674998283386, -0.38279107213020325, 0.027615530416369438, 0.23424144089221954, -0.21752505004405975, 0.2703584134578705, 0.04228595271706581, 0.10399124026298523, 0.6441342234611511, 0.11525256186723709, 0.03768687695264816, -0.4874635636806488, 0.11393272131681442, -0.0053223115392029285, -0.4582980275154114, -0.2836463749408722, 0.3851054012775421, 0.4034789204597473, 0.29821914434432983, 0.2703358829021454, -0.6094627976417542, 0.44354772567749023, -0.1944914311170578, -0.055877916514873505, 0.08654144406318665, 0.07920517772436142, 0.11717838793992996, -0.1218230351805687, 0.06452760845422745, 0.054342012852430344, -0.054438237100839615, 0.08838135004043579, -0.7447034120559692, 0.06824485212564468, 0.0670962706208229, -0.2250807136297226, 0.08678733557462692, -0.010012617334723473, 0.2323312908411026, -0.6577723026275635, 0.07643331587314606, 0.3129495084285736, 0.09691562503576279, 0.03285560756921768, 0.2552105188369751, -0.014865938574075699, 0.350748211145401, -0.7160667777061462, 0.105601005256176, 0.44411852955818176, 0.004241215996444225, 0.26411116123199463, -0.6858750581741333, -0.020315207540988922, -0.05682031810283661, 0.35687553882598877, -0.524626612663269, -0.10307811200618744, 0.13986150920391083, 0.40928274393081665, -0.08186636120080948, -0.40986406803131104, -0.5176510810852051, 0.6660829186439514, -0.0422147773206234, 0.6662514805793762, 0.6963074803352356, -0.01886748895049095, -0.15392720699310303, 0.15204134583473206, -0.09512337297201157, 0.0685688778758049, -0.11736954003572464, 0.2343069463968277, 0.17348407208919525, 0.17236357927322388, -0.031999506056308746, -0.12794838845729828, 0.027201902121305466, -0.0017667703796178102, 0.1714501827955246, -0.09818318486213684, 0.008250430226325989, -0.569997251033783, -0.06442428380250931, 0.2343485951423645, 0.1472141444683075, 0.3481104373931885, 0.03288751840591431, 0.05230674147605896, 0.06927185505628586, 0.23891255259513855, -0.13116851449012756, 0.07054692506790161, -0.018432294949889183, -0.7818818688392639, 0.05629449337720871, 0.1415242701768875, 0.11872712522745132, -0.03886447846889496, -0.059164393693208694, 0.21541693806648254, -0.03522283956408501, 0.18093813955783844, -0.10588160157203674, 0.2432507872581482, -0.07561060786247253, -0.14042343199253082, -0.02481415867805481, -0.07001124322414398, -0.84220290184021, 0.2093908041715622, -0.13283559679985046, -0.05563827231526375, -0.12739968299865723, 0.04616929218173027, 0.6937574148178101, 0.29875075817108154, 0.1198083907365799, -0.10471227020025253, -0.004981254693120718, 0.2713092565536499, 0.45646795630455017, 0.22632767260074615, 0.24740800261497498, 0.24848225712776184, 0.49875304102897644, -0.7030101418495178, 0.31109270453453064, 0.1734912395477295, -0.7734447717666626, -0.7113800644874573, -0.20402660965919495, -0.2052428126335144, 0.37021180987358093, 0.07788310199975967, 0.28437539935112, 0.0002509909390937537, -0.0908375084400177, -0.025457536801695824, -0.2140396237373352, 0.22825059294700623, 0.053124409168958664, 0.05512641370296478, -0.7214981317520142, 0.19888509809970856, -0.4528161585330963, -0.773981511592865, -0.456220805644989, 0.10609845817089081, 0.13783995807170868, 0.28691720962524414, 0.021877139806747437, 0.11585737019777298, 0.09288128465414047, -0.06922250986099243, 0.6480482816696167, -0.0539083369076252, -0.08808371424674988, 0.11892805993556976, 0.3404591679573059, -0.43415167927742004, -0.14685551822185516, 0.25218236446380615, -0.5446950793266296, 0.3583144247531891, -0.6108213067054749, 0.2267606556415558, 0.0818680077791214, 0.13702213764190674, -0.05085732042789459, 0.07774671912193298, 0.034152839332818985, -0.5747339725494385, -0.19954876601696014, -0.613956868648529, 0.5795957446098328, -0.03156095743179321, -0.023711111396551132, -0.07327817380428314, 0.05411027744412422, -0.770839512348175, -0.20601604878902435, -0.05422862246632576, 0.5525846481323242, 0.5083427429199219, -0.7490547895431519, 0.09671774506568909, 0.14657200872898102, 0.30349698662757874, -0.0557696670293808, 0.27433526515960693, 0.35421082377433777, 0.294114351272583, 0.08682011812925339, 0.2603921890258789, 0.30181556940078735, 0.09227301180362701, 0.08553653955459595, -0.09848885238170624, 0.04916280135512352, -0.7411603927612305, -0.06730903685092926, 0.10104087740182877, 0.36619138717651367, 0.18981751799583435, -0.778172492980957, -0.1886683702468872, 0.010562869720160961, 0.190257266163826, 0.25215011835098267, 0.6528069376945496, -0.20571501553058624, 0.25284087657928467, 0.2364843785762787, 0.3436731696128845, 0.027892116457223892, 0.9107779860496521, 0.16908985376358032, -0.314056396484375, 0.00424332357943058, -0.016585256904363632, -0.11538796871900558, -0.45275619626045227, 0.6731365919113159, 0.06507836282253265, 0.1721084862947464, -0.5357602834701538, -0.23779214918613434, 0.38288143277168274, 0.390178918838501, 0.12397398799657822, 0.5609108209609985, 0.8202567100524902, 0.10673151910305023, -0.7673418521881104, -0.7487030029296875, -0.6870633363723755, -0.6473571062088013, -0.7327409982681274, -0.14588357508182526, 0.3600808084011078, 0.7550161480903625, 0.18623347580432892, -0.23137427866458893, -0.18291617929935455, 0.0351497121155262, -0.05608123168349266, 0.11902844905853271, 0.01539206225425005, 0.32170331478118896, -0.32711049914360046, -0.18433263897895813, 0.19200706481933594, 0.14674371480941772, -0.01386615913361311, 0.33909571170806885, -0.0070624565705657005, 0.2462933361530304, -0.8141157031059265, -0.7464207410812378, -0.08643855154514313, 0.08672016859054565, 0.07713869214057922, 0.6868219971656799, -0.6827045679092407, 0.3161807358264923, -0.05753322318196297, -0.21518945693969727, -0.0317237488925457, -0.2045711725950241, 0.17189384996891022, 0.25573983788490295, -0.0200152900069952, 0.1860673427581787, 0.2092629224061966, -0.7795445919036865, -0.531687319278717, -0.499066561460495, 0.5103675127029419, -0.1440613865852356, 0.4509408473968506, -0.05548081547021866, -0.16975507140159607, 0.24948841333389282, -0.06698935478925705, -0.006002467591315508, -0.1237621158361435, -0.030223917216062546, 0.2194054275751114, 0.4103718400001526, -0.004284851718693972, 0.19951263070106506, 0.1692665070295334, -0.10124055296182632, 0.02437783218920231, 0.22020119428634644, 0.3378979563713074, -0.582496702671051, 0.027537239715456963, 0.2598969340324402, -0.002720814198255539, 0.11092620342969894, -0.05743139237165451, -0.809802234172821, 0.6410708427429199, 0.1617470681667328, -0.15476565062999725, -0.16541720926761627, 0.1363307386636734, 0.23996508121490479, -0.14684994518756866, 0.00013260047126095742, -0.11258069425821304, 0.060963790863752365, 0.15049304068088531, 0.6349275708198547, 0.2349604070186615, -0.686832845211029, -0.41853588819503784, -0.12072437256574631, 0.06368489563465118, 0.14302490651607513, 0.28060033917427063, 0.3358536660671234, 0.10579431056976318, -0.6732767224311829, 0.12840048968791962, -0.1251555234193802, 0.7399364709854126, 0.20383433997631073, 0.2491883933544159, -0.22331921756267548, -0.2412525713443756, 0.06898712366819382, -1.971635538211558e-05, -0.12228807806968689, -0.05991510674357414, -0.09629463404417038, 0.20101022720336914, 0.00142732635140419, -0.18655286729335785, 0.46718111634254456, 0.11493214964866638, 0.5270931124687195, -0.0033969131764024496, 0.5450164675712585, 0.39929595589637756, 0.5663999319076538, -0.27494052052497864, 0.6592472195625305, -0.6095879077911377, -0.1481231451034546, -0.26554983854293823, 0.1263258457183838, -0.08898624032735825, 0.5632754564285278, 0.012669607065618038, 0.13493649661540985, 0.3819715976715088, -0.02868334949016571, -0.010791520588099957, -0.5677003264427185, -0.7229304313659668, -0.502403199672699, 0.07812570780515671, 0.06160386651754379, 0.049229249358177185, -0.42568808794021606, -0.725348174571991, 0.26097503304481506, -0.7698318362236023, 0.34936678409576416, 0.14855070412158966, -0.04269324243068695, -0.07199797034263611, -0.09270057082176208, -0.08852853626012802, -0.22032524645328522, -0.1874748021364212, -0.6893994808197021, -0.25680217146873474, -0.36715129017829895, 0.14073967933654785, 0.28833121061325073, -0.03259875997900963, 0.28718459606170654, 0.11138556897640228, 0.11193856596946716, -0.6785014271736145, 0.39472177624702454, 0.6401762366294861, 0.07900525629520416, -0.11601535230875015, 0.03060484118759632, 0.7154972553253174, 0.5204628705978394, 0.219646155834198, 0.2010069638490677, -0.5802494287490845, 0.2393941879272461, -0.08036670088768005, -0.11239293962717056, 0.30161958932876587, -0.018615378066897392, 0.027157500386238098, -0.18329811096191406, 0.1396511197090149, -0.6874458193778992, -0.7749080657958984, 0.3173196017742157, 0.253080278635025, -0.31992730498313904, 0.2395603060722351, 0.28364691138267517, 0.35286861658096313, -0.4728403091430664, -0.35111182928085327, 0.43423697352409363, 0.03420038893818855, -0.7007639408111572, -0.02989349327981472, 0.08913109451532364, 0.31236809492111206, 0.13623610138893127, -0.09297550469636917, -0.20216117799282074, 0.05161110684275627, -0.0006380740087479353, -0.015613860450685024, 0.04774513095617294, -0.0069338115863502026, -0.11332794278860092, 0.3923117518424988, 0.35086020827293396, 0.2902432382106781, 0.680698812007904, 0.06166987866163254, 0.29423874616622925, 0.7786148190498352, 0.07897436618804932, -0.19056779146194458, 0.46045342087745667, 0.7296829223632812, -0.6327376365661621, -0.6291103363037109, 0.23316487669944763, -0.13542000949382782, -0.7399643063545227, 0.16856294870376587, 0.21870288252830505, -0.4151553809642792, -0.0831279382109642, -0.6970338225364685, -0.7539084553718567, 0.48261168599128723, -0.14561931788921356, -0.03683874383568764, 0.0556744784116745, -0.24686647951602936, -0.6877284646034241, -0.7307760715484619, 0.28115156292915344, 0.19339798390865326, -0.13104766607284546, 0.18954481184482574, 0.2749004662036896, 0.20922429859638214, 0.2641923129558563, 0.02383699081838131, -0.10662595182657242, 0.4231529235839844, -0.03174456208944321, 0.011381318792700768, 0.00457282830029726, 0.009223048575222492, -0.13512076437473297, 0.05824846029281616, -0.15882419049739838, -0.012821702286601067, 0.24002060294151306, -0.17239882051944733, 0.3339466452598572, 0.004082932602614164, 0.34408852458000183, 0.07443736493587494, -0.01582355611026287, 0.22620359063148499, 0.022069096565246582, 0.06406590342521667, -0.1279979646205902, 0.08553747087717056, 0.45747697353363037, 0.7320288419723511, 0.07578319311141968, 0.1333867460489273, 0.2437976449728012, 0.23425821959972382, 0.15859363973140717, -0.21071483194828033, -0.538666307926178, 0.11203734576702118, 0.2514122724533081, 0.7600816488265991, 0.09240758419036865, -0.02726851776242256, 0.09429460763931274, 0.20332330465316772, -0.37855735421180725, 0.3400038778781891, 0.605063796043396, 0.7468962669372559, 0.00835554301738739, -0.15762841701507568, -0.0015518536092713475, 0.38743773102760315, -0.1183922067284584, -0.6892570853233337, -0.40637868642807007, -0.10237044095993042, 0.036951206624507904, -0.04375624284148216, -0.17409329116344452, -0.0012969011440873146, 0.29951784014701843, -0.2252684384584427, 0.058774229139089584, 0.2433987259864807, -0.1454247534275055, -0.6179457306861877, 0.04244797304272652, 0.04352553188800812, 0.16446039080619812, -0.2547588050365448, 0.27346599102020264, 0.7932766079902649, -0.1355428546667099, -0.23462611436843872, -0.6962278485298157, 0.019422845914959908, 0.2946457266807556, 0.07099360227584839, 0.23382993042469025, -0.17557837069034576, -0.04152388870716095, 0.013770965859293938, -0.005918026901781559, 0.053407784551382065, -0.39016193151474, 0.4283875524997711, -0.29331037402153015, 0.31255200505256653, 0.027272222563624382, 0.7366945147514343, 0.03990347683429718, 0.1203056275844574, 0.06526823341846466, 0.10415218025445938, 0.2857784032821655, 0.09299758821725845, -0.10242432355880737, 0.0735844075679779, -0.03626701980829239, -0.23494961857795715, -0.4302314519882202, 0.20067107677459717, -0.4474509060382843, 0.017878377810120583, -0.05956914648413658, -0.17005737125873566, -0.016398776322603226, 0.030059263110160828, 0.20903809368610382, 0.15865811705589294, -0.013606812804937363, 0.38278627395629883, 0.35166552662849426, 0.022299688309431076, 0.2253810167312622, 0.30691248178482056, 0.056334733963012695, 0.29451337456703186, -0.15041281282901764, -0.027448346838355064, -0.03013109229505062, 0.5015560388565063, -0.28572869300842285, 0.37562865018844604, 0.06387799233198166, 0.04157783463597298, -0.2028866857290268, 0.17543436586856842, 0.5885641574859619, -0.06776133179664612, -0.004237378481775522, 0.06144044175744057, 0.7742592096328735, -0.02012730948626995, 0.19661052525043488, -0.007403308991342783, -0.008983831852674484, -0.013212497346103191, -0.7496673464775085, 0.2827437222003937, 0.16895270347595215, -0.07474227249622345, 0.07839136570692062, -0.01059273723512888, -0.6849539875984192, -0.7515642642974854, -0.5424874424934387, -0.7503726482391357, 0.16806048154830933, 0.2778662443161011, -0.022293640300631523, 0.16275429725646973, 0.3406895399093628, 0.019008610397577286, 0.6653071045875549, 0.19489403069019318, 0.17643550038337708, -0.19158971309661865, 0.06980270147323608, -0.1427631676197052, 0.06433941423892975, -0.15664353966712952, -0.054337020963430405, -0.4152233600616455, 0.0426623672246933, -0.04247170686721802, 0.25206536054611206, -0.4711114764213562, 0.0629071295261383, 0.06363879889249802, -0.29746076464653015, 0.04330664873123169, 0.12772449851036072, -0.04483006149530411, 0.03503742814064026, -0.38802239298820496, -0.05350107327103615, 0.12333458662033081, -0.5325879454612732, -0.5939297080039978, 0.37332355976104736, 0.059414852410554886, 0.13611051440238953, -0.11318192631006241, -0.772036075592041, 0.2573840022087097, -0.6759705543518066, 0.23848848044872284, -0.0020341300405561924, 0.1592867076396942, 0.045886315405368805, -0.008995849639177322, -0.6361415386199951, -0.05586656928062439, -0.7481486797332764, 0.594404399394989, 0.633973240852356, 0.047844287008047104, 0.6764125823974609, 0.029105639085173607, 0.3057161569595337, -0.3250625431537628, 0.31303536891937256, 0.21140407025814056, 0.15931935608386993, 0.10752036422491074, -0.02214779332280159, -0.5358040928840637, -0.5653610825538635, 0.33414891362190247, -0.12205331027507782, -0.08718010783195496, -0.0798882246017456, -0.007301063276827335, 0.626797080039978, -0.176024928689003, -0.19843925535678864, 0.3382667899131775, -0.13382093608379364, -0.12597598135471344, -0.0711127519607544, 0.18999405205249786, 0.7112872004508972, 0.20829422771930695, 0.18775534629821777, 0.09340488910675049, -0.12294333428144455, 0.1295125037431717, -0.5789275169372559, 0.037885528057813644, -0.20190314948558807, -0.7030487060546875, -0.04409279301762581, 0.0235984455794096, -0.7466049194335938, 0.10196974128484726, -0.21038900315761566, 0.22176258265972137, 0.426762193441391, 0.21970537304878235, -0.6220513582229614, -0.10074977576732635, 0.5177993774414062, -0.06171615049242973, -0.5951199531555176, -0.06868531554937363, 0.06233971193432808, -0.03713516145944595, -0.3779057562351227, -0.6963700652122498, 0.0703827440738678, 0.5591844320297241, 0.24375605583190918, 0.7437891960144043, 0.5623445510864258, 0.5591555237770081, 0.108924500644207, 0.3244999945163727, 0.08219005912542343, -0.20095011591911316, 0.10297583788633347, 0.3101250231266022, -0.04331018775701523, 0.2072717696428299, 0.014380890876054764, 0.5704231262207031, -0.024032143875956535, 0.04807174578309059, -0.07216296344995499, -0.07773703336715698, 0.5213528871536255, -0.15159043669700623, 0.19512401521205902, -0.22252994775772095, 0.004175978247076273, -0.25057676434516907, 0.6643953919410706, 0.2503714859485626, -0.17052946984767914, -0.28209543228149414, -0.15998496115207672, 0.17676034569740295, 0.024877896532416344, -0.0344928503036499, 0.29339614510536194, 0.001003125449642539, -0.6371672749519348, 0.6107034087181091, -0.028962839394807816, -0.7039551138877869, -0.7471551299095154, -0.6963173747062683, -0.0628422200679779, -0.12148749083280563, 0.13102945685386658, 0.38099032640457153, 0.397085964679718, -0.8179076313972473, 0.020420687273144722, 0.07573285698890686, -0.7489887475967407, -0.15631356835365295, -0.19739891588687897, 0.11586321890354156, 0.09372754395008087, 0.03297242522239685, -0.031645938754081726, 0.18495187163352966, 0.04467228800058365, 0.33486443758010864, 0.6910340189933777, 0.21876727044582367, -0.43047019839286804, 0.23294182121753693, 0.10096435993909836, 0.17210714519023895, -0.5688955783843994, -0.0525241494178772, 0.28105074167251587, 0.08050044625997543, 0.09599287807941437, -0.02090858481824398, 0.1449737697839737, 0.020509501919150352, 0.49602413177490234, -0.18363447487354279, -0.13020937144756317, 0.32115617394447327, -0.0849272757768631, -0.20015500485897064, -0.06960456818342209, -0.2783091366291046, -0.0907207503914833, 0.1294139176607132, 0.7995315790176392, -0.4787907302379608, -0.17192305624485016, 0.5158731341362, -0.6532961130142212, -0.09812141954898834, -0.1246129646897316, -0.4514060616493225, -0.06369482725858688, 0.3493083119392395, 0.1818753480911255, -0.41608402132987976, 0.16299420595169067, 0.11496318131685257, 0.3136211335659027, 0.07166989892721176, -0.4236218333244324, -0.34504345059394836, -0.020175078883767128, -0.01592889241874218, -0.22482402622699738, 0.2987000644207001, 0.6641407012939453, 0.3012813925743103, 0.21944357454776764, 0.3763352334499359, 0.18296034634113312, -0.138083815574646, 0.07776950299739838, 0.2880723178386688, 0.2012084722518921, 0.29279929399490356, 0.13630183041095734, 0.12451422959566116, 0.2386898249387741, 0.07978508621454239, 0.2030472457408905, 0.01453919243067503, -0.24302886426448822, -0.4364904463291168, 0.04559210687875748, -0.08219077438116074, 0.08133192360401154, -0.7680435180664062, 0.39705172181129456, -0.10795402526855469, -0.25391310453414917, 0.06736208498477936, 0.12245382368564606, 0.12655793130397797, 0.06044235825538635, 0.22062544524669647, 0.09292971342802048, 0.5427908897399902, 0.0823332890868187, 0.0089880945160985, 0.26510190963745117, -0.6458126902580261, 0.15348991751670837, 0.3240662217140198, -0.03157457709312439, 0.04218998923897743, -0.01935456320643425, -0.7590730786323547, -0.16664007306098938, 0.35416874289512634, 0.05876271799206734, 0.23434482514858246, -0.7713943123817444, 0.769719123840332, -0.09292346239089966, -0.021061046048998833, -0.05817808583378792, -0.7810690402984619, 0.30672046542167664, -0.20207729935646057, -0.2269667387008667, -0.17652425169944763, 0.17735707759857178, -0.025510530918836594, 0.2503544092178345, -0.07373492419719696, 0.401286244392395, -0.43696507811546326, 0.2729811668395996, 0.0681552141904831, -0.054316844791173935, 0.11842052638530731, 0.18082034587860107, 0.06598586589097977, 0.41348007321357727, -0.4615764021873474, -0.19384971261024475, 0.04901556298136711, -0.10397524386644363, -0.6670714020729065, 0.0733867734670639, -0.6775851249694824, 0.5439854264259338, -0.6959958076477051, -0.45866677165031433, -0.7477855682373047, -0.08364452421665192, 0.40305274724960327, 0.07089576870203018, -0.715711236000061, -0.06797371804714203, 0.23346751928329468, 0.39316824078559875, -0.062117911875247955, 0.1086973026394844, 0.12306646257638931, 0.07785078138113022, 0.2764906585216522, -0.7468820214271545, 0.12309306859970093, 0.6744241118431091, -0.620158314704895, -0.19414851069450378, -0.352820485830307, 0.025599969550967216, 0.17163439095020294, 0.01368914358317852, 0.09865442663431168, -0.10097457468509674, -0.6003754734992981, -0.31073907017707825, 0.10479786992073059, 0.04647955298423767, -0.23815640807151794, -0.048773281276226044, 0.2015606313943863, -0.5595653653144836, -0.02606569230556488, -0.14480966329574585, 0.412110298871994, 0.027814354747533798, 0.19365929067134857, -0.23538382351398468, -0.10996202379465103, 0.6234545111656189, -0.7812480330467224, 0.14958447217941284, -0.04891596734523773, 0.34488558769226074, -0.23639647662639618, -0.04523459076881409, -0.11382317543029785, -0.07928089797496796, -0.7233747839927673, 0.16377536952495575, -0.12108665704727173, -0.003168828319758177, -0.16881924867630005, 0.027268406003713608, -0.11263066530227661, -0.684938907623291, 0.8414227366447449, -0.1807820051908493, 0.20806609094142914, 0.30684810876846313, 0.23317864537239075, 0.12783007323741913, 0.3758941888809204, -0.7486521005630493, -0.08430150896310806, 0.33680418133735657, -0.045179110020399094, -0.7961146235466003, 0.13840696215629578, -0.7998083233833313, -0.7286145091056824, -0.1623733639717102, 0.2555851638317108, -0.7810547947883606, 0.282722532749176, 0.6394798755645752, 0.1863020360469818, 0.08248160779476166, -0.08272790163755417, -0.462118536233902, -0.7397918105125427, 0.06753376871347427, -0.04144969955086708, 0.1923132836818695, 0.21801994740962982, 0.04915011674165726, 0.012953012250363827, -0.025692040100693703, 0.5289128422737122, 0.5463801622390747, 0.2263835221529007, -0.058650556951761246, -0.10879380255937576, 0.5307096242904663, 0.32203325629234314, -0.19353748857975006, 0.013074882328510284, -0.06797334551811218, 0.182789608836174, 0.1869327425956726, -0.465507835149765, -0.2730178236961365, -0.6833640336990356, -0.1563052386045456, 0.11859828978776932, 0.14000441133975983, 0.024086905643343925, 0.12687267363071442, -0.18762069940567017, 0.15887224674224854, -0.04263877868652344, -0.0984133705496788, -0.01412198320031166, 0.21326245367527008, 0.3996700942516327, 0.6972728967666626, -0.18992939591407776, 0.644731342792511, 0.36744675040245056, -0.09639767557382584, -0.0032295796554535627, 0.12308301776647568, 0.08023707568645477, 0.46531087160110474, -0.2439642697572708, 0.3499579131603241, -0.5190690755844116, 0.20251451432704926, -0.7012835144996643, -0.7492787837982178, 0.08739056438207626, -0.061672549694776535, 0.6086443066596985, -0.4582073390483856, 0.29037949442863464, 0.09212151914834976, -0.27872782945632935, 0.18301662802696228, 0.029389789327979088, 0.0184700395911932, 0.1072799414396286, -0.5233128666877747, 0.8028513193130493, -0.13436761498451233, -0.7866440415382385, 0.07541469484567642, 0.24791082739830017, -0.13255375623703003, 0.04186428710818291, 0.09059493988752365, -0.27088722586631775, -0.37572744488716125, -0.4604310393333435, 0.5763821601867676, 0.09800874441862106, 0.0702829360961914, -0.01046090479940176, -0.05313009396195412, -0.4063897430896759, 0.28011366724967957, 0.6968693137168884, 0.6841381192207336, 0.10677839815616608, -0.11274062842130661, 0.5402776002883911, -0.769018292427063, -0.042612046003341675, 0.3389618694782257, 0.2545749545097351, 0.26024916768074036, 0.2833459675312042, 0.2865527868270874, -0.7015983462333679, -0.18601486086845398, 0.37088701128959656, -0.08819025754928589, -0.47144535183906555, 0.12958243489265442, 0.07173649221658707, -0.7195831537246704, 0.2507435381412506, 0.11615844070911407, -0.1710570603609085, -0.018506959080696106, -0.5626033544540405, -0.2047276794910431, 0.0009708217694424093, 0.13951382040977478, -0.6783672571182251, 0.20587165653705597, 0.09170066565275192, 0.16889414191246033, -0.13179649412631989, 0.354983925819397, 0.28740233182907104, -0.12982141971588135, -0.28020545840263367, 0.23743866384029388, -0.655703604221344, -0.003973715472966433, 0.3968285024166107, -0.15045732259750366, 0.47485804557800293, -0.43043047189712524, 0.26550015807151794, -0.1397610306739807, -0.6375795602798462, 0.574714183807373, -0.4034164845943451, 0.24940557777881622, -0.3263624906539917, 0.07471852004528046, 0.26810845732688904, -0.7250048518180847, -0.741154670715332, -0.6736282110214233, 0.09324125200510025, 0.6859158873558044, -0.06985948234796524, 0.2597096264362335, -0.6483544707298279, 0.8248534202575684, 0.5264707207679749, -0.6596183180809021, -0.16658318042755127, 0.021019110456109047, -0.13323727250099182, -0.7445037364959717, -0.07503712177276611, 0.28220441937446594, 0.2748982012271881, -0.21383343636989594, 0.144410640001297, 0.02247895672917366, 0.2060215175151825, -0.00832019466906786, 0.031406499445438385, 0.4031508266925812, -0.4961637854576111, -0.04627017676830292, 0.26308128237724304, 0.6510564684867859, -0.06879976391792297, 0.1539309173822403, -0.04427412897348404, -0.14375117421150208, -0.7201170921325684, -0.01354436669498682, -0.011904986575245857, -0.4732281565666199, -0.028080489486455917, 0.8290677070617676, -0.23915614187717438, -0.026827620342373848, -0.34908175468444824, -0.6476100087165833, -0.4944922924041748, 0.046394847333431244, 0.3642573952674866, -0.19064876437187195, -0.24136883020401, 0.24421830475330353, -0.0465916246175766, 0.1045449748635292, 0.2692945897579193, -0.08086447417736053, -0.07850740849971771, -0.21892373263835907, 0.2595039904117584, -0.017358997836709023, 0.32860779762268066, -0.7040603160858154, -0.7053676843643188, 0.7594120502471924, -0.16458918154239655, -0.035065487027168274, 0.23207351565361023, -0.6584078669548035, -0.7503061294555664, 0.8757532238960266, 0.10048595070838928, 0.15148790180683136, -0.23065754771232605, -0.17385832965373993, -0.1296958178281784, -0.04301920533180237, 0.47570303082466125, 0.3549579679965973, 0.23069141805171967, -0.728359580039978, 0.4997577667236328, 0.1266634315252304, -0.17497950792312622, 0.007405763957649469, 0.04772767052054405, 0.19988863170146942, -0.01922878623008728, -0.027072813361883163, 0.06697540730237961, 0.13040056824684143, -0.08275679498910904, 0.2855958640575409, -0.03155671805143356, 0.0712207779288292, 0.2555306553840637, -0.12354222685098648, -0.09353329241275787, -0.48978862166404724, 0.20059019327163696, 0.6120288372039795, -0.09160319715738297, 0.019208354875445366, -0.09752383083105087, 0.05838191509246826, 0.2135743647813797, -0.01713380217552185, 0.22058680653572083, 0.10494393855333328, -0.20158745348453522, 0.282335489988327, 0.2606082260608673, -0.16519713401794434, 0.02103765308856964, 0.5114861726760864, 0.4113248288631439, 0.06615091860294342, -0.13716770708560944, -0.13830098509788513, 0.19245606660842896, 0.2559315264225006, 0.02232392504811287, -0.17812968790531158, 0.1450827568769455, 0.5135505199432373, 0.041419822722673416, -0.15013821423053741, 0.3087802231311798, 0.11007709801197052, 0.1413346379995346, 0.2131219506263733, 0.6751968264579773, -0.12529048323631287, -0.7623079419136047, -0.012922379188239574, -0.6712186336517334, 0.20517852902412415, -0.7608650922775269, 0.15794022381305695, -0.4188416600227356, 0.017018577083945274, -0.6320183277130127, 0.057033464312553406, -0.11428685486316681, 0.4802253544330597, -0.10835178941488266, -0.45250239968299866, -0.6341204047203064, -0.0561726875603199, -0.005768653471022844, 0.097721628844738, 0.12088865041732788, -0.05252458527684212, 0.001767304027453065, 0.24426372349262238, -0.6765033006668091, 0.23543228209018707, -0.41648557782173157, 0.0819450244307518, -0.5247950553894043, -0.3157460391521454, 0.10490099340677261, 0.21833908557891846, -0.14749298989772797, 0.49489304423332214, 0.09082487225532532, -0.3229687809944153, -0.705834150314331, -0.19602976739406586, 0.17000576853752136, 0.17138999700546265, -0.24034099280834198, 0.13087104260921478, -0.7688748836517334, -0.026498043909668922, 0.3983052670955658, -0.2904173731803894, -0.07312554121017456, -0.06775356084108353, 0.12287993729114532, 0.42843958735466003, 0.09687841683626175, 0.619274914264679, 0.2309681624174118, -0.06173039227724075, 0.5334998965263367, -0.06681005656719208, -0.06443540006875992, -0.26260945200920105, -0.02934987284243107, 0.00899062305688858, 0.21417491137981415, -0.6443300843238831, 0.10331081598997116, -0.6990906000137329, -0.7408195734024048, 0.00988820381462574, 0.1078515276312828, 0.5425169467926025, -0.6723288297653198, 0.0547892227768898, -0.6047288775444031, -0.01820702664554119, 0.031608860939741135, 0.5496367812156677, -0.7521671652793884, 0.2500956356525421, 0.11181191354990005, -0.6153668165206909, 0.3429650366306305, 0.16455788910388947, -0.37451231479644775, -0.06964077055454254, -0.09001754969358444, 0.11489937454462051, 0.2156832218170166, -0.22902332246303558, 0.10176382958889008, -0.027789024636149406, -0.03317652642726898, -0.27593109011650085, 0.25012892484664917, 0.17984512448310852, 0.4170357286930084, 0.06479497998952866, -0.12309427559375763, 0.365384578704834, 0.03554356470704079, -0.7040532827377319, -0.543460488319397, 0.3438422977924347, 0.023039162158966064, -3.081534669036046e-05, -0.15230876207351685, -0.13181212544441223, -0.08420562744140625, -0.2298746407032013, -0.7387328743934631, -0.11894620209932327, 0.0051474920473992825, -0.7287430763244629, 0.0934402346611023, 0.06936836987733841, 0.22722846269607544, -0.16314522922039032, 0.20558899641036987, 0.4278443157672882, -0.5196767449378967, -0.34882843494415283, -0.6459550857543945, 0.10281012207269669, 0.06139008328318596, -0.1693563461303711, 0.17134442925453186, 0.19889099895954132, 0.4062314033508301, -0.0883016511797905, -0.26136383414268494, -0.25237947702407837, -0.11563917994499207, 0.35751640796661377, -0.40162762999534607, -0.1442621499300003, 0.39575445652008057, 0.14621858298778534, -0.20737047493457794, 0.07779738306999207, 0.027081986889243126, -0.44449084997177124, -0.042897779494524, -0.4072501063346863, 0.5815649032592773, -0.1589156538248062, -0.7585152983665466, -0.19816534221172333, -0.7753766775131226, 0.04381353408098221, -0.439675897359848, -0.7530332803726196, -0.05210825428366661, -0.7008283138275146, -0.5095228552818298, 0.23407341539859772, -0.7454944849014282, -0.6673253774642944, -0.25883081555366516, -0.6273939609527588, -0.03534434363245964, 0.21721141040325165, 0.037447042763233185, 0.45410481095314026, 0.052484914660453796, -0.18619361519813538, 0.7323389649391174, -0.6766851544380188, -0.05677973851561546, -0.6809983849525452, 0.2534960210323334, 0.4400565028190613, 0.12483319640159607, 0.06207681819796562, 0.03675976023077965, -0.16138437390327454, 0.37644684314727783, -0.07114378362894058, 0.21097426116466522, 0.2030724585056305, -0.14716622233390808, 0.16741500794887543, -0.06744131445884705, -0.7137075662612915, -0.1372496485710144, -0.7952722907066345, -0.10873550176620483, -0.5302774906158447, -0.02410784736275673, -0.18485984206199646, 0.17102409899234772, -0.058597907423973083, -0.0845683217048645, 0.8057500720024109, 0.012222391553223133, 0.10025830566883087, -0.7303726673126221, 0.23436634242534637, -0.11184992641210556, -0.017719680443406105, -0.18234984576702118, -0.2105094939470291, 0.053823042660951614, -0.23913362622261047, 0.8679825067520142, -0.7391201853752136, -0.6962505578994751, -0.014785549603402615, 0.00584546709433198, 0.24630680680274963, -0.12055043131113052, -0.7289195656776428, -0.613163948059082, 0.041772693395614624, -0.6758870482444763, -0.13880211114883423, 0.0354313850402832, 0.10815255343914032, 0.1657916009426117, 0.09147860109806061, 0.03754753991961479, 0.09893413633108139, -0.7350427508354187, 0.1974032074213028, 0.319736510515213, 0.00920238345861435, 0.07633046805858612, -0.13973748683929443, 0.00448048347607255, 0.30905383825302124, -0.4776371419429779, 0.04759242758154869, 0.40653741359710693, -0.6039829254150391, -0.27899685502052307, -0.20000240206718445, -0.012349586002528667, -0.09520277380943298, 0.12252817302942276, 0.08223865926265717, -0.7695709466934204, -0.3793901801109314, -0.1015843078494072, 0.27329328656196594, 0.09817294776439667, 0.8339496850967407, 0.004045015666633844, -0.680264949798584, 0.007324825506657362, -0.5365613698959351, 0.22613458335399628, -0.38022997975349426, -0.049675531685352325, -0.03784050792455673, -0.19080060720443726, -0.6780843734741211, -0.14259158074855804, 0.023239722475409508, 0.2905903160572052, -0.05771688371896744, 0.014161794446408749, 0.2985650599002838, -0.07563754916191101, 0.022969024255871773, -0.14086243510246277, 0.20419545471668243, -0.7248000502586365, 0.06529615074396133, 0.06748608499765396, 0.5693708062171936, 0.07677241414785385, -0.01089036650955677, -0.7199177145957947, -0.7466775178909302, -0.1805371344089508, -0.6740846037864685, 0.033705562353134155, -0.7007713913917542, 0.09019149839878082, 0.7872896790504456, -0.00468403147533536, 0.4655025005340576, -0.5378948450088501, 0.25216928124427795, 0.25964850187301636, -0.05914347246289253, 0.25830668210983276, -0.36527127027511597, -0.6401609182357788, 0.07379420101642609, 0.4795534014701843, -0.12469673901796341, 0.4234325885772705, -0.15891161561012268, 0.06590668857097626, -0.08811141550540924, -0.04808811470866203, 0.824515700340271, 0.04365123435854912, -0.06863369792699814, -0.23251204192638397, -0.14910884201526642, -0.02453034557402134, 0.1068972498178482, -0.04411926865577698, 0.028834307566285133, 0.4256885051727295, -0.07888094335794449, 0.09224094450473785, 0.1245618462562561, 0.3557116687297821, 0.2907959818840027, -0.8003532886505127, -0.6444615721702576, -0.7885913848876953, -0.07182210683822632, -0.06568096578121185, -0.18509423732757568, 0.25123849511146545, -0.5715132355690002, -0.03046858310699463, -0.004085042979568243, -0.6872770190238953, -0.4485552906990051, 0.15040963888168335, -0.672599196434021, 0.5148428678512573, 0.3000417947769165, -0.18878017365932465, 0.06498563289642334, -0.09134112298488617, 0.060627199709415436, -0.8313491940498352, -0.12937556207180023, 0.21029256284236908, -0.018040621653199196, -0.14401254057884216, -0.010916003957390785, 0.08451908081769943, 0.23238758742809296, -0.011018202640116215, -0.002744541270658374, 0.09063668549060822, 0.1353401392698288, 0.061368051916360855, -0.4163174629211426, 0.3171776235103607, 0.03338077664375305, -0.18923525512218475, -0.039105918258428574, 0.7171261310577393, 0.2059243619441986, 0.7684415578842163, 0.22541989386081696, -0.1478835940361023, -0.016044966876506805, 0.10700175166130066, 0.1726643294095993, 0.05625840649008751, 0.4765665531158447, 0.005333323962986469, 0.16687797009944916, -0.05204784497618675, 0.7891268730163574, -0.34493157267570496, 0.0845223143696785, -0.6555942296981812, -0.6542847156524658, -0.2536427676677704, -0.20875583589076996, -0.14903123676776886, -0.004341405350714922, -0.2699313461780548, 0.10238593071699142, 0.15370823442935944, 0.16621924936771393, 0.26460009813308716, 0.4080142080783844, -0.15984077751636505, -0.4061121642589569, -0.6951216459274292, 0.04251695051789284, 0.4223170876502991, 0.2576921880245209, 0.22751760482788086, 0.05919293686747551, 0.12318403273820877, -0.5115383267402649, -0.006260771304368973, 0.42396488785743713, -0.1656513661146164, -0.22992964088916779, 0.7422449588775635, 0.10274266451597214, 0.21704989671707153, -0.03905230388045311, 0.20104137063026428, 0.036247774958610535, 0.04608713835477829, 0.08599837124347687, -0.006729641929268837, 0.1052236333489418, 0.42140993475914, 0.5599886775016785, -0.7199887633323669, -0.8089298605918884, 0.016041526570916176, 0.08617272228002548, 0.47121793031692505, 0.02445564977824688, -0.7343763709068298, 0.4032469689846039, 0.5587058067321777, -0.06514289230108261, -0.007383881602436304], \"y\": [0.01420473214238882, 0.011701079085469246, -0.04211970046162605, -0.03543436899781227, 0.1517280638217926, -0.030419688671827316, -0.015470809303224087, 0.07582098990678787, 0.16405491530895233, -0.013758747838437557, -0.10888898372650146, -0.066635362803936, -0.07957649976015091, 0.05599227175116539, -0.00033595255808904767, -0.0987023264169693, -0.09313631057739258, -0.22470855712890625, -0.08709079772233963, 0.08333039283752441, -0.002726854057982564, 0.0027653726283460855, -0.022565023973584175, -0.006423862185329199, -0.17374219000339508, 0.194815531373024, -0.161920428276062, 0.08416131883859634, 0.012048732489347458, 0.07008856534957886, 0.09800239652395248, 0.0034747750032693148, -0.11724746227264404, -0.05301043763756752, -0.1338331699371338, 0.12243787944316864, 0.3395722806453705, 0.001372128608636558, 0.2119176834821701, 0.05379001423716545, 0.044335659593343735, -0.04244082421064377, 0.03648127615451813, -0.10215231031179428, -0.05025557428598404, -0.06919296830892563, -0.08069770783185959, -0.0005358029738999903, -0.10431521385908127, -0.12778304517269135, 0.10264243185520172, -0.011686093173921108, -0.03707094117999077, 0.0028581316582858562, -0.054088491946458817, 0.0458705797791481, -0.11478786170482635, 0.20574580132961273, 0.010986113920807838, -0.1563957780599594, -0.03801781311631203, 0.16680467128753662, 0.18314580619335175, -0.03537904471158981, 0.06135781481862068, -0.07380839437246323, -0.038763076066970825, -0.1830509752035141, 0.016140053048729897, 0.030516643077135086, 0.1504707634449005, 0.014864684082567692, -0.180596262216568, -0.06686091423034668, -0.16546961665153503, 0.07047472894191742, 0.21605822443962097, -0.13711276650428772, 0.1272077113389969, -0.08405063301324844, -0.11053890734910965, -0.13709425926208496, -0.03344400227069855, -0.021433265879750252, 0.07835786789655685, -0.002849708078429103, 0.1144624799489975, -0.14218267798423767, 0.061613913625478745, -0.010222606360912323, -0.00904686190187931, -0.04329463094472885, 0.1432211697101593, 0.23075489699840546, 0.207525372505188, 0.05064902454614639, -0.012592892162501812, 0.04848775267601013, 0.03385221213102341, -0.03293851763010025, 0.1987771838903427, 0.010566460900008678, 0.2288697212934494, -0.12496408820152283, 0.4564923942089081, 0.006934004835784435, -0.019816888496279716, 0.015267926268279552, -0.0073760091327130795, -0.04063712805509567, -0.12788565456867218, 0.007547010667622089, -0.23590633273124695, -0.08663011342287064, 0.0646175667643547, 0.0013793794205412269, -0.04978165030479431, -0.03146376460790634, 0.23281726241111755, 0.01854613795876503, -0.21285736560821533, -0.018281864002346992, 0.00707855774089694, -0.14941024780273438, 0.44927164912223816, 0.2320677638053894, -0.010827451944351196, -0.011551039293408394, -0.0741705521941185, 0.08252973854541779, -0.16573239862918854, 0.02823457680642605, 0.4167432188987732, -0.014942655339837074, -0.16593720018863678, 0.18680252134799957, 0.24378584325313568, -0.050493594259023666, -0.06368718296289444, -0.034958742558956146, 0.2108612358570099, 0.04983484372496605, 0.008603484369814396, 0.07863875478506088, 0.013345704413950443, 0.005067072808742523, -0.045027684420347214, -0.13158279657363892, -0.0029314684215933084, -0.06593640893697739, -0.05277281254529953, 0.16510792076587677, 0.1866668164730072, -0.030381405726075172, -0.10332594811916351, 0.004882668610662222, -0.10173813998699188, -0.09340664744377136, -0.014218289405107498, 0.016143612563610077, 0.029319170862436295, -0.0940859466791153, 0.2597102224826813, 0.13534073531627655, 0.08668937534093857, 0.20873041450977325, -0.03459157049655914, 0.15496233105659485, -0.13228678703308105, -0.06529229879379272, -0.12590670585632324, -0.10006015002727509, -0.08188473433256149, -0.061500776559114456, -0.06194141134619713, 0.16212615370750427, -0.08796128630638123, 0.08944051712751389, 0.06451830267906189, -0.002934299409389496, 0.17926707863807678, 0.04152774065732956, 0.04913843795657158, -0.08297581970691681, -0.017821118235588074, 0.025319436565041542, -0.05647945776581764, -0.04766596108675003, -0.028101466596126556, 0.25440341234207153, -0.018451429903507233, -0.03159894421696663, -0.16665321588516235, -0.08883623033761978, 0.01692686602473259, 0.2631538212299347, -0.06793362647294998, 0.46498364210128784, 0.011589769273996353, 0.04747670888900757, 0.04587746411561966, 0.16243016719818115, -0.035526156425476074, 0.04283400624990463, -0.004817929584532976, 0.09631296992301941, -0.06027521565556526, -0.006077546160668135, 0.027111975476145744, -0.10176590830087662, 0.020927006378769875, 0.02176276221871376, 0.050254352390766144, -0.11606328934431076, 0.20034611225128174, -0.07491608709096909, 0.08223322778940201, 0.06620604544878006, -0.008447282016277313, -0.04811064898967743, 0.01571018062531948, 0.025721436366438866, 0.022466884925961494, 0.046047061681747437, -0.09542959183454514, 0.03285248205065727, -0.03836112096905708, 0.061618007719516754, -0.02386653795838356, -0.02331383526325226, -0.11640110611915588, -0.015900345519185066, -0.15535129606723785, -0.2550038695335388, -0.07111819833517075, 0.4791845381259918, -0.16580019891262054, -0.04440256580710411, 0.049796465784311295, -0.16067908704280853, 0.4186037480831146, 0.008556719869375229, 0.07176046073436737, 0.33299723267555237, -0.1684480458498001, 0.21451662480831146, 0.03050217218697071, -0.1547199934720993, -0.14035241305828094, 0.007925840094685555, -0.006107359658926725, 0.04027824476361275, -0.08687008172273636, -0.03880136460065842, 0.18076905608177185, -0.03766362741589546, -0.09526459872722626, 0.03278196230530739, 0.038870956748723984, -0.010685515590012074, -0.11225136369466782, -0.11732847988605499, -0.00980729702860117, -0.13898654282093048, -0.12317781895399094, -0.02494462952017784, -0.004235423170030117, 0.11612409353256226, 0.08479060977697372, -0.18372195959091187, 0.17371010780334473, -0.013757364824414253, -0.01357327215373516, 0.03587482124567032, 0.008706389926373959, 0.21226128935813904, 0.007129894103854895, -0.13300448656082153, 0.004685019608587027, -0.06615094095468521, -0.05347223952412605, -0.09531690180301666, 0.03460210561752319, 0.37360680103302, 0.11585585027933121, -0.05996302142739296, -0.016091346740722656, -0.02818676456809044, -0.15742431581020355, 0.018708325922489166, -0.13621440529823303, -0.030139939859509468, -0.028917551040649414, -0.04059017449617386, -0.12282197922468185, 0.011674126610159874, -0.022750554606318474, -0.014199919067323208, -0.007345859427005053, 0.11196772754192352, 0.017204422503709793, -0.16550667583942413, 0.08107992261648178, -0.024056268855929375, 0.20565739274024963, -0.025217324495315552, -0.19188351929187775, 0.036616645753383636, -0.031243277713656425, -0.07087378203868866, 0.22674167156219482, 0.04230068251490593, 0.2711141109466553, 0.18963690102100372, -0.06797175854444504, -0.13869957625865936, 0.008258440531790257, -0.02869279496371746, -0.06617692857980728, 0.036174897104501724, 0.20562101900577545, -0.0902697741985321, -0.10169484466314316, -0.213881716132164, 0.04251709207892418, 0.044278644025325775, 0.023538656532764435, 0.025615260004997253, -0.08475112915039062, -0.10779455304145813, -0.051791712641716, -0.08773402869701385, -0.059838905930519104, -0.10166952759027481, 0.16428226232528687, 0.3099311292171478, -0.20759128034114838, -0.04726383462548256, 0.16255192458629608, -0.0013554923934862018, -0.055055562406778336, -0.05762269347906113, -0.10924152284860611, -0.029377993196249008, -0.02929551713168621, -0.06315748393535614, 0.24044622480869293, -0.027063429355621338, -0.010592087171971798, 0.04894517362117767, -0.08967190235853195, 0.15814144909381866, 0.010978871025145054, -0.08236569911241531, 0.0641181692481041, 0.03674149513244629, -0.10285043716430664, -0.040019821375608444, -0.22874480485916138, -0.06981906294822693, -0.02899007685482502, 0.18585479259490967, -0.10461768507957458, 0.04558410122990608, 0.17538850009441376, 0.15047933161258698, -0.08831477165222168, -0.12421296536922455, -0.049033574759960175, -0.13833114504814148, 0.2757723033428192, -0.18921269476413727, 0.09078320860862732, 0.0005513735814020038, -0.1168571338057518, -0.030576054006814957, 0.0032831879798322916, 0.04689095914363861, -0.046000488102436066, -0.04983997344970703, -0.015545070171356201, -0.08389443904161453, 0.2431735098361969, -0.019288474693894386, 0.014221016317605972, 0.10005231946706772, -0.01622202806174755, -0.003954366780817509, -0.13746781647205353, 0.27704042196273804, -0.022356223315000534, -0.15738651156425476, -0.05843852087855339, -0.0579962320625782, -0.0980575755238533, -0.03763442113995552, -0.119707852602005, 0.4795706272125244, 0.010496657341718674, -0.1518435925245285, -0.01460576057434082, -0.06796946376562119, 0.30288460850715637, 0.03516421839594841, -0.0728745386004448, -0.14258939027786255, 0.07909689098596573, 0.053809624165296555, -0.04663103446364403, -0.025382226333022118, 0.02684331312775612, 0.0422227643430233, 0.06583604961633682, -0.13109761476516724, -0.03939654678106308, -0.04090600460767746, -0.20286163687705994, 0.03866885229945183, 0.014878981746733189, 0.00566411018371582, 0.04389877989888191, -0.09240616112947464, 0.0788029283285141, -0.15595434606075287, -0.1147167757153511, 0.03428353741765022, -0.0036256741732358932, -0.024644816294312477, -0.006664728745818138, -0.02613089792430401, -0.022027820348739624, 0.04237235710024834, -0.030924556776881218, 0.1296055018901825, 0.021465057507157326, -0.1093512549996376, -0.11952611058950424, -0.09453930705785751, 0.003913824912160635, 0.017934594303369522, -0.05412919819355011, -0.14471954107284546, 0.049808304756879807, 0.04038799926638603, -0.0036894564982503653, 0.22820070385932922, -0.10639592260122299, -0.05317132920026779, -0.03928200528025627, 0.024875421077013016, -0.031853705644607544, -0.05494280904531479, -0.08643031120300293, -0.029018040746450424, 0.08663243800401688, -0.004909239709377289, 0.0031361740548163652, 0.04775959253311157, 0.023030754178762436, 0.003619760274887085, 0.2594713866710663, -0.041420843452215195, 0.07245782017707825, -0.028443770483136177, -0.06490712612867355, -0.1006348729133606, -0.2626793086528778, -0.10996734350919724, -0.044521886855363846, 0.06629043072462082, -0.057325828820466995, -0.09312561899423599, -0.21575360000133514, 0.0036629883106797934, -0.1477038860321045, -0.15420681238174438, -0.1904892772436142, 0.41683945059776306, -0.11706709116697311, -0.13031238317489624, 0.23383240401744843, 0.22126737236976624, 0.0721413791179657, 0.05454974249005318, -0.10222519189119339, -0.12680266797542572, 0.023460550233721733, 0.043906647711992264, -0.10085979849100113, -0.01610296219587326, 0.05448412150144577, -0.16935354471206665, -0.05549057945609093, 0.0385253019630909, 0.33515292406082153, 0.025073159486055374, 0.21634067595005035, 0.2593202292919159, 0.1440759003162384, -0.04313979297876358, -0.12959922850131989, -0.1574927419424057, -0.02844170853495598, 0.06183834373950958, 0.050076816231012344, 0.0278236735612154, -0.09025804698467255, -0.03958316892385483, -0.019692644476890564, -0.1111086905002594, -0.047631584107875824, 0.12750659883022308, 0.045874420553445816, -0.016958197578787804, 0.059913214296102524, -0.14164651930332184, 0.41121384501457214, -0.12621276080608368, -0.04108072817325592, -0.019589347764849663, 0.038711171597242355, -0.0064873830415308475, -0.02006036974489689, 0.24506263434886932, 0.07191773504018784, 0.1938086599111557, -0.20717328786849976, -0.023939551785588264, 0.030771620571613312, -0.0623013898730278, 0.014443616382777691, 0.2236720770597458, 0.11669386178255081, 0.040910907089710236, -0.017710005864501, -0.05237346887588501, 0.224918395280838, -0.03775070980191231, -0.14870376884937286, -0.10352935642004013, 0.046105556190013885, -0.163602814078331, -0.11023799329996109, -0.1794481873512268, -0.044107355177402496, -0.022657038643956184, -0.10296928882598877, -0.008870819583535194, -0.02893199771642685, 0.05974484607577324, -0.08392669260501862, 0.2147287130355835, -0.02276204153895378, -0.1977417916059494, -0.08103539794683456, -0.11210794746875763, 0.5214359760284424, 0.0901685431599617, -0.03246418386697769, -0.05269794166088104, -0.19083203375339508, -0.22235552966594696, 0.0957820788025856, -0.16349567472934723, -0.1873866319656372, -0.017458535730838776, 0.012347763404250145, -0.17303821444511414, -0.04156622290611267, 0.022152788937091827, -0.01902967505156994, -0.03901474177837372, 0.052436210215091705, 0.08103301376104355, -0.1542530357837677, -0.024121979251503944, -0.09697060286998749, 0.2830076217651367, -0.04315081611275673, -0.06628768891096115, -0.10872340947389603, -0.033674947917461395, -0.036599304527044296, -0.21863111853599548, 0.016844866797327995, 0.49165502190589905, 0.2049761414527893, 0.24431201815605164, 0.19230501353740692, 0.26448920369148254, -0.015067057684063911, -0.046975284814834595, -0.2608262300491333, -0.09032002091407776, 0.08214650303125381, 0.08499132096767426, 0.03208548575639725, -0.0011033471673727036, 0.030936893075704575, -0.04131262004375458, -0.1581422984600067, 0.17328117787837982, 0.04108981043100357, -0.12695060670375824, -0.012188813649117947, 0.01625094935297966, -0.11472289264202118, 0.01618429273366928, -0.1594287008047104, 0.252939909696579, 0.18708975613117218, -0.0238795205950737, -0.026652293279767036, -0.03414943441748619, -0.04812977835536003, 0.4983583688735962, -0.018007991835474968, -0.019435497000813484, 0.08338577300310135, 0.017761414870619774, -0.07655299454927444, -0.015146092511713505, -0.046466387808322906, -0.0009110732353292406, -0.02383429929614067, -0.025310754776000977, 0.22994500398635864, 0.07434079051017761, 0.10347989201545715, -0.10465259850025177, 0.0011491255136206746, -0.17411339282989502, 0.03849472105503082, 0.07616592943668365, -0.06979596614837646, 0.008955903351306915, 0.014428569935262203, 0.030976617708802223, 0.012036741711199284, -0.04466840252280235, -0.17680692672729492, 0.01666487380862236, -0.0790737047791481, -0.07811564207077026, 0.03211422637104988, -0.029546480625867844, -0.07092370092868805, -0.16315272450447083, 0.3173668384552002, -0.05166367068886757, -0.0734042301774025, -0.016679301857948303, -0.039382196962833405, -0.016508961096405983, 0.2577502727508545, -0.2435666173696518, -0.035882242023944855, 0.0747838020324707, -0.048444200307130814, 0.03242156282067299, -0.1553243100643158, 0.006767716724425554, -0.07610291987657547, 0.03819798678159714, -0.05186082422733307, -0.14068521559238434, -0.08941947668790817, -0.1726531684398651, 0.3766239285469055, 0.18991075456142426, -0.058777742087841034, -0.04588990658521652, -0.07625442743301392, -0.1460348516702652, -0.18936394155025482, -0.04301660507917404, 0.21349096298217773, -0.06463005393743515, 0.02871711552143097, -0.2624586522579193, -0.018193203955888748, -0.0836525484919548, 0.05902673304080963, 0.0016746146138757467, -0.05195553973317146, -0.024860581383109093, 0.0878303125500679, 0.03011333756148815, 0.013275519013404846, -0.06065596640110016, -0.024129288271069527, 0.10894311219453812, -0.19528158009052277, -0.002359595615416765, -0.04188740253448486, -0.023597002029418945, -0.02502543292939663, -0.08978131413459778, -0.1414804756641388, 0.1466183364391327, -0.1795336753129959, 0.21306760609149933, -0.03036157786846161, 0.1421683132648468, -0.08217452466487885, -0.07011957466602325, -0.12743188440799713, 0.012815006077289581, -0.05499805882573128, -0.07661581039428711, -0.024051006883382797, 0.020873013883829117, 0.17870742082595825, 0.26568254828453064, 0.2113857865333557, -0.03035956434905529, -0.003631239291280508, -0.04078664630651474, 0.13803550601005554, 0.2357102334499359, -0.08024632185697556, 0.25060924887657166, -0.13065561652183533, -0.09503801167011261, 0.007258549798280001, 0.0407065749168396, -0.025396136566996574, -0.009327616542577744, 0.11006425321102142, 0.07661400735378265, 0.2088870108127594, 0.09293621778488159, -0.003984449896961451, -0.10075311362743378, -0.1501920372247696, 0.02653372846543789, -0.02142532542347908, -0.09722321480512619, -0.027028337121009827, 0.3659113645553589, -0.035078417509794235, -0.09128545224666595, -0.013188517652451992, 0.0033140000887215137, 0.0471392422914505, -0.0993000939488411, -0.04548676311969757, -0.1598350554704666, -0.11543308943510056, 0.10928638279438019, -0.1463673710823059, -0.07801973819732666, -0.006021387409418821, -0.1121586263179779, -0.061733875423669815, -0.02531271241605282, 0.03095119819045067, -0.029192181304097176, 0.2117622196674347, 0.21197648346424103, -0.13108807802200317, -0.08382230252027512, 0.0810326337814331, -0.08753851056098938, -0.11750255525112152, -0.17837370932102203, 0.05371307581663132, 0.03569334000349045, -0.05583571270108223, 0.021861383691430092, 0.40359362959861755, 0.01895669847726822, -0.043157048523426056, -0.08214449882507324, -0.005854124668985605, 0.04518529027700424, 0.10729265958070755, -0.043443795293569565, 0.012201058678328991, -0.030137615278363228, -0.022788843140006065, 0.00606992794200778, 0.05644552782177925, -0.18894916772842407, -0.08027248829603195, -0.20172522962093353, -0.11714542657136917, -0.013724768534302711, 0.020783279091119766, -0.23980017006397247, -0.050842370837926865, 0.009821191430091858, -0.16307520866394043, -0.17670652270317078, 0.14309194684028625, 0.22285577654838562, -0.054058730602264404, 0.058101631700992584, 0.2151331901550293, -0.1111035868525505, 0.009942676872015, 0.09450001269578934, -0.011707494035363197, 0.20334520936012268, 0.1893986463546753, -0.13770829141139984, 0.04324353113770485, 0.07692163437604904, -0.049016401171684265, -0.04273153468966484, 0.20021216571331024, 0.2400740385055542, -0.19899190962314606, -0.03901192173361778, 0.07640236616134644, -0.06806240975856781, 0.022468585520982742, -0.0715375691652298, -0.07029811292886734, -0.021347584202885628, 0.08649794012308121, 0.016730137169361115, -0.03588197007775307, -0.04264998808503151, -0.001229271525517106, 0.026226706802845, 0.004224152769893408, 0.015874726697802544, 0.05359066650271416, 0.009613043628633022, -0.0628160685300827, 0.09873183071613312, -0.10234950482845306, -0.06933314353227615, -0.001013997825793922, -0.08642017096281052, -0.10231159627437592, -0.04088530316948891, -0.044781289994716644, -0.008545296266674995, -0.0046606604009866714, -0.10160738229751587, -0.13818685710430145, -0.1378065049648285, 0.03594517335295677, -0.19034847617149353, -0.07284398376941681, -0.09448141604661942, -0.07224498689174652, 0.07290312647819519, 0.21983817219734192, -0.08042411506175995, -0.1676308512687683, -0.09521006047725677, 0.008412533439695835, -0.004590725991874933, -0.0033584570046514273, -0.007387168705463409, 0.08304652571678162, -0.1187933161854744, -0.09605088084936142, -0.22585584223270416, -0.02051350101828575, 0.07025349140167236, -0.12191175669431686, -0.11081395298242569, 0.021483464166522026, 0.22340410947799683, -0.007268227636814117, 0.04589977115392685, -0.06506949663162231, 0.04407120868563652, 0.07339166849851608, -0.11316296458244324, 0.03648454323410988, 0.07662711292505264, -0.061497922986745834, -0.15109586715698242, 0.00028324773302301764, 0.2310919314622879, 0.008694360964000225, -0.026749813929200172, -0.002421104349195957, 0.16353446245193481, -0.15142643451690674, -0.26387399435043335, 0.08972655981779099, -0.06522893905639648, 0.34317708015441895, -0.011448197066783905, -0.09486702084541321, -0.01756146363914013, -0.15610143542289734, -0.00022457318846136332, -0.0187960397452116, 0.07675538212060928, -0.02622949704527855, -0.10130999237298965, 0.18060877919197083, -0.17490766942501068, 0.14269296824932098, -0.023490294814109802, -0.015393934212625027, -0.20006045699119568, -0.04237424209713936, -0.08496525883674622, -0.060616929084062576, -0.055467408150434494, -0.08509460091590881, -0.12428651005029678, 0.06724745035171509, -0.015377311035990715, 0.06562844663858414, -0.015476269647479057, 0.030957821756601334, 0.016563022509217262, 0.1644277721643448, 0.0049087186343967915, -0.06154647469520569, 0.06397651135921478, -0.017163854092359543, -0.06689053028821945, -0.11039315909147263, -0.060396116226911545, -0.13062383234500885, -0.023257698863744736, -0.1639941930770874, -0.08186796307563782, -0.15358078479766846, -0.1418735235929489, -0.07179074734449387, -0.06756296753883362, 0.03378140553832054, -0.08214554935693741, -0.025472309440374374, -0.18199478089809418, 0.17088477313518524, -0.17642593383789062, -0.0733395591378212, -0.0832168310880661, 0.07752722501754761, -0.10772143304347992, -0.14927059412002563, 0.0414557047188282, -0.020671652629971504, -0.10445360839366913, -0.07628809660673141, 0.028881704434752464, -0.11223606765270233, -0.0015378935495391488, -0.0026990852784365416, 0.015496959909796715, 0.2599244713783264, -0.18943902850151062, -0.08807836472988129, -0.0013023049104958773, 0.04761891812086105, -0.09744565933942795, 0.37528812885284424, 0.19834406673908234, 0.12018833309412003, 0.23584598302841187, -0.07390482723712921, -0.07803110778331757, -0.07554009556770325, -0.13285128772258759, -0.022862983867526054, 0.018448345363140106, -0.19399788975715637, -0.05356438457965851, -0.014343256130814552, -0.017910344526171684, -0.07420775294303894, 0.03760937601327896, -0.032010629773139954, 0.020042188465595245, -0.047975048422813416, 0.1549305021762848, -0.08982222527265549, 0.005409832112491131, -0.060213472694158554, 0.1916082352399826, -0.039132408797740936, -0.0681949332356453, 0.015062065795063972, -0.008280226029455662, -0.045031119138002396, -0.08790894597768784, -0.02196970209479332, 0.1563091278076172, 0.02916911616921425, -0.036190275102853775, 0.20562529563903809, 0.17637528479099274, -0.06347081810235977, -0.12239785492420197, -0.05061773583292961, 0.00220195553265512, 0.2300582379102707, -0.1027609258890152, 0.21599452197551727, -0.00043570445268414915, -0.0048166182823479176, -0.1499331295490265, -0.02234761044383049, -0.03442561626434326, 0.18332655727863312, 0.038171060383319855, 0.22228209674358368, -0.05058795586228371, -0.09859047085046768, -0.08886531740427017, -0.05133134126663208, 0.06156332790851593, -0.07523645460605621, 0.037257496267557144, -0.07996847480535507, -0.14903642237186432, -0.12790293991565704, -0.0504317507147789, -0.10579156875610352, 0.09259329736232758, 0.17439353466033936, -0.16957718133926392, 0.03521590307354927, 0.03256490081548691, -0.06016925349831581, -0.007131221704185009, -0.1564255803823471, -0.047621726989746094, 0.09559174627065659, -0.004934750031679869, 0.07260496914386749, -0.026479491963982582, 0.0435100719332695, 0.00830189511179924, -0.1385132372379303, -0.01208860706537962, -0.16587407886981964, -0.05855155736207962, 0.04519391804933548, 0.013939958065748215, 0.08158720284700394, -0.043013326823711395, 0.04930023103952408, 0.26585909724235535, -0.09235028922557831, -0.05537721514701843, 0.2295617312192917, -0.047309666872024536, 0.11834914982318878, -0.08399521559476852, -0.1844959259033203, -0.11607995629310608, 0.2446475625038147, -0.03246667981147766, -0.01688462123274803, 0.07197073847055435, 0.2877958118915558, 0.10577230900526047, -0.03841133043169975, -0.0004044783127028495, 0.03077874518930912, 0.19575481116771698, 0.04008655250072479, -0.1664862334728241, -0.06873258203268051, -0.24672631919384003, -0.19017839431762695, -0.013855215162038803, -0.029966626316308975, 0.023243436589837074, -0.08809538185596466, 0.009441029280424118, -0.1038224846124649, 0.002691718516871333, 0.025476621463894844, 0.025333397090435028, -0.026851285248994827, 0.00381252053193748, -0.021188996732234955, 0.03328045457601547, 0.028886253014206886, 0.06648562848567963, -0.12914270162582397, -0.01053580641746521, 0.0036564082838594913, 0.10615464299917221, -0.06611395627260208, 0.10184844583272934, -0.06633388996124268, -0.09773676842451096, -0.001979802269488573, 0.03278420493006706, 0.09745506942272186, -0.032058458775281906, -0.0022720866836607456, 0.028546355664730072, -0.05435219407081604, 0.016390178352594376, 0.406981885433197, -0.11556945741176605, 0.03631521761417389, 0.22595544159412384, 0.226296529173851, 0.21051086485385895, -0.06543297320604324, 0.03865638002753258, -0.03761773556470871, -0.15406234562397003, 0.015294077806174755, 0.2434707134962082, -0.04996076226234436, -0.08742476999759674, 0.237741157412529, 0.05166993662714958, 0.07592255622148514, -0.08441510051488876, -0.07365081459283829, 0.00958751980215311, 0.024736717343330383, -0.022051015868782997, -0.02855648100376129, -0.1003880575299263, -0.19478489458560944, -0.1612289994955063, 0.08829140663146973, -0.11970072239637375, -0.03357922285795212, -0.10183265060186386, 0.2847725749015808, -0.044800642877817154, -0.1177404448390007, -0.0955776497721672, -0.004161780700087547, -0.006473280023783445, -0.08015580475330353, -0.11450643092393875, -0.15065862238407135, 0.08199793845415115, -0.07123912125825882, -0.04121239483356476, 0.04780030623078346, 0.09829242527484894, 0.04162222519516945, -0.018165552988648415, -0.027627646923065186, -0.02525503933429718, -0.14691562950611115, 0.11753301322460175, -0.013713299296796322, -0.1482914388179779, 0.2074732780456543, 0.07387012243270874, 0.06629770249128342, 0.03033442609012127, 0.05481499433517456, 0.012959066778421402, -0.005017412826418877, 0.004854549188166857, -0.15675237774848938, -0.05359921231865883, -0.11539650708436966, 0.01967589184641838, 0.01433673407882452, 0.1449366807937622, -0.13365182280540466, -0.003527147928252816, 0.09904689341783524, -0.0009334179922007024, -0.10116662830114365, -0.004590801429003477, -0.11531173437833786, -0.16059686243534088, -0.047216180711984634, -0.019029591232538223, -0.0046953922137618065, -0.09784571081399918, -0.1217900887131691, -0.11949370801448822, -0.023677468299865723, -0.08476944267749786, -0.03818351402878761, -0.012469608336687088, -0.05598919093608856, 0.014196624048054218, -0.05865338444709778, 0.022233158349990845, -0.033775970339775085, 0.04536230117082596, -0.0707738995552063, 0.20846007764339447, -0.08295810967683792, 0.039448659867048264, 0.1382804960012436, 0.038884323090314865, -0.11610261350870132, -0.05364180728793144, -0.10111775994300842, -0.15488703548908234, -0.005362218711525202, -0.0032112100161612034, 0.0371558740735054, 0.00031949166441336274, -0.15763340890407562, 0.3286469876766205, -0.13498163223266602, -0.008185308426618576, -0.006865587551146746, -0.0870819017291069, -0.025759996846318245, 0.20447556674480438, 0.10113107413053513, -0.060842566192150116, -0.007925251498818398, -0.16061997413635254, 0.20280317962169647, -0.19081291556358337, 0.03294237703084946, -0.0586833693087101, -0.004127857740968466, 0.24461255967617035, -0.12149381637573242, 0.05999796465039253, 0.10975869745016098, 0.09025595337152481, -0.12734757363796234, -0.03352360799908638, -0.08321066200733185, 0.04359177500009537, -0.16210491955280304, 0.15490484237670898, -0.15803122520446777, -0.11290792375802994, -0.03411523997783661, -0.02756265178322792, -0.06648052483797073, -0.02613852545619011, -0.11763754487037659, 0.10694504529237747, 0.07639767974615097, 0.0008789482526481152, -0.0006312570767477155, 0.2021494060754776, -0.14850737154483795, 0.20611019432544708, -0.030636673793196678, 0.21689307689666748, 0.024940187111496925, 0.47202345728874207, 0.09598161280155182, -0.1281571388244629, -0.060072652995586395, 0.2427452802658081, 0.025494437664747238, -0.10847695171833038, -0.12016115337610245, -0.015118568204343319, -0.029278822243213654, -0.0214387197047472, 0.013934841379523277, -0.06592187285423279, 0.22681520879268646, 0.0015246724942699075, -0.07986707985401154, 0.2096959352493286, -0.009290431626141071, 0.12479027360677719, -0.04128405824303627, -0.10340981185436249, -0.05625927820801735, 0.030127154663205147, 0.015529190190136433, 0.2045668661594391, 0.006385191343724728, -0.05841537192463875, -0.07828571647405624, 0.006910891737788916, 0.020851466804742813, -0.08758197724819183, 0.22617517411708832, 0.022832678630948067, -0.048401959240436554, -0.14253734052181244, -0.031363312155008316, -0.18725723028182983, -0.01658712513744831, -0.07861243188381195, -0.06391911953687668, 0.2272917628288269, -0.09461691975593567, -0.07367926836013794, -0.08960210531949997, -0.03266891837120056, -0.007192869205027819, -0.016067244112491608, -0.004189548548310995, 0.37573379278182983, -0.09780721366405487, 0.03045983612537384, -0.08798779547214508, 0.08130568265914917, -0.11313855648040771, 0.07383701205253601, 0.20327216386795044, -0.15249702334403992, -0.03810732811689377, -0.08901171386241913, -0.21808303892612457, -0.051851145923137665, -0.04040387272834778, -0.18515023589134216, 0.22134333848953247, 0.011289156973361969, -0.0023734290152788162, -0.0023602452129125595, 0.18295647203922272, -0.006353363860398531, 0.2324175387620926, 0.22502347826957703, 0.09289771318435669, -0.1301928460597992, 0.21853993833065033, -0.14153477549552917, -0.20921964943408966, -0.09699607640504837, 0.028057992458343506, 0.0604742094874382, 0.0724584236741066, 0.266060471534729, -0.04538736864924431, 0.0367807038128376, 0.012942010536789894, -0.09828003495931625, 0.018691975623369217, -0.15806230902671814, -0.10202524065971375, -0.024558331817388535, -0.18646889925003052, -0.13170671463012695, -0.005408384837210178, 0.013941818848252296, -0.14752137660980225, -0.07702809572219849, 0.05397695675492287, -0.014016148634254932, 0.04255075752735138, -0.07217930257320404, -0.03135247901082039, 0.1848824918270111, 0.032136790454387665, 0.26489952206611633, 0.06373989582061768, -0.03736509010195732, 0.0011476001236587763, -0.012032322585582733, -0.06739199906587601, 0.06856478750705719, -0.013241124339401722, -0.01625492051243782, 0.047459542751312256, -0.09171900153160095, -0.13468672335147858, -0.13427630066871643, -0.11615538597106934, 0.05094792693853378, -0.1952013075351715, -0.14228178560733795, 0.02086460031569004, -0.11198226362466812, 0.011176218278706074, -0.03385185822844505, -0.13535471260547638, 0.011603280901908875, -0.03800574317574501, 0.18114571273326874, -0.11645910143852234, 0.3788042664527893, 0.19670742750167847, 0.01313620712608099, 0.008554660715162754, -0.1363234519958496, 0.013678710907697678, -0.12196499109268188, -0.037844955921173096, -0.010360564105212688, 5.129903001943603e-05, 0.000736720860004425, -0.047255631536245346, -0.004853737540543079, 0.19968202710151672, -0.2294560819864273, 0.09776932746171951, 0.23300446569919586, 0.01162128709256649, -0.11869952082633972, 0.09948155283927917, -0.10729378461837769, -0.00416202750056982, 0.14074352383613586, 0.13444353640079498, 0.12486132234334946, -0.18128110468387604, -0.07605728507041931, -0.025169428437948227, 0.051004763692617416, 0.02433786913752556, 0.08281205594539642, -0.1547209918498993, -0.1899673044681549, -0.04572456702589989, -0.02057291753590107, -0.07336153090000153, -0.19112788140773773, 0.23354962468147278, -0.05760148912668228, -0.11758595705032349, -0.14473088085651398, -0.08758685737848282, -0.09659741073846817, -0.13848009705543518, 0.22515420615673065, 0.002935427473857999, -0.025387290865182877, 0.01904483512043953, 0.1324966847896576, 0.02080227993428707, -0.06036969646811485, 0.47924506664276123, -0.07383543252944946, -0.06929579377174377, 0.08401264995336533, -0.011352858506143093, 0.2507901191711426, 0.12152785807847977, -0.014049933291971684, -0.08415193110704422, 0.21098606288433075, -0.10741488635540009, -0.13474559783935547, -0.1711939573287964, -0.06286067515611649, -0.18911157548427582, -0.08029808849096298, 0.10769444704055786, 0.16674882173538208, -0.0081262718886137, 0.324523389339447, -0.04790924862027168, -0.048630114644765854, 0.09871288388967514, -0.13116900622844696, 0.025351347401738167, -0.171493798494339, -0.008557664230465889, 0.20202092826366425, -0.24804997444152832, 0.04252602905035019, -0.013929259032011032, 0.11063121259212494, -0.07694166898727417, -0.14142122864723206, 0.4741368293762207, 0.1861119568347931, 0.49339449405670166, -0.02201942540705204, -0.053395580500364304, 0.09317383915185928, -0.1294696182012558, 0.20875060558319092, -0.20496687293052673, -0.1940476894378662, 0.19322314858436584, 0.06424322724342346, -0.0694546177983284, 0.08245574682950974, 0.22019468247890472, 0.004616094287484884, -0.13240724802017212, -0.1403730809688568, 0.09867282956838608, -0.11945315450429916, -0.1441536843776703, -0.0594542995095253, -0.04643828049302101, -0.0005283314385451376, 0.04041744023561478, 0.04346170648932457, -0.0276839267462492, -0.0726747140288353, -0.24982258677482605, 0.05228092148900032, -0.09599984437227249, -0.052675530314445496, 0.10595926642417908, 0.21246500313282013, -0.0709555596113205, -0.0076621524058282375, 0.17516003549098969, -0.03245168924331665, -0.21268032491207123, -0.014623599126935005, -0.02570248395204544, 0.019828282296657562, 0.29569700360298157, 0.08949079364538193, -0.029119089245796204, -0.10706935077905655, 0.07220649719238281, 0.03989100456237793, -0.08809442818164825, -0.035840459167957306, -0.07751236110925674, -0.1299661099910736, 0.03446544334292412, -0.04721808433532715, 0.10596700757741928, -0.14615480601787567, -0.06552228331565857, -0.1351267248392105, 0.22832024097442627, 0.20808707177639008, -0.15634529292583466, 0.06314960867166519, 0.019877003505825996, -0.1697857677936554, 0.1876278817653656, 0.21642856299877167, -0.19163164496421814, -0.11894360929727554, -0.07545088231563568, 0.03555866330862045, 0.09100861102342606, 0.0704544261097908, 0.048587195575237274, -0.190322145819664, -0.11443924903869629, -0.09972503036260605, 0.2253808081150055, -0.2121240347623825, -0.114683136343956, 0.046404480934143066, -0.019582584500312805, -0.03251262381672859, -0.10413704067468643, -0.010618213564157486, -0.023922599852085114, -0.08428213000297546, -0.021541468799114227, 0.02425435557961464, 0.008462653495371342, -0.008100438863039017, -0.01574346423149109, -0.15043701231479645, 0.05898790434002876, 0.023439548909664154, 0.1253172755241394, -0.03450721502304077, -0.10151423513889313, 0.060189079493284225, -0.044669803231954575, -0.030985891819000244, -0.07317935675382614, -0.09665599465370178, -0.028486736118793488, -0.10683459788560867, -0.06106489151716232, -0.020929936319589615, -0.15992358326911926, -0.024830643087625504, -0.003203874221071601, -0.12665604054927826, -0.037574443966150284, 0.005183291621506214, -0.07941809296607971, -0.08464094251394272, -0.015288288705050945, -0.09001682698726654, -0.11707957834005356, -0.12263932079076767, -0.005213324911892414, -0.02819119393825531, -0.17807559669017792, 0.008392337709665298, 0.03849228471517563, -0.1417904794216156, -0.02935134992003441, -0.05356185510754585, -0.05338050425052643, -0.07776574790477753, 0.048532113432884216, 0.1945420354604721, 0.01377751026302576, 0.23951099812984467, -0.032364990562200546, 0.1798131763935089, -0.07610134035348892, 0.009506617672741413, 0.030519092455506325, 0.20802102982997894, -0.03228132426738739, -0.008778355084359646, -0.16436977684497833, 0.06431955099105835, 0.12995831668376923, 0.21040880680084229, -0.03789437189698219, -0.03859386593103409, 0.040466826409101486, -0.08390682935714722, -0.024868030101060867, -0.014134280383586884, -0.10893978178501129, 0.27731063961982727, -0.11550520360469818, 0.09956125169992447, -0.07204210758209229, 0.22772130370140076, 0.05612456053495407, 0.036473918706178665, -0.0431567020714283, -0.03450954332947731, -0.11087312549352646, 0.0036508766934275627, 0.03108447790145874, 0.2283909022808075, 0.09390515089035034, -0.03426498919725418, -0.13887673616409302, 0.12278971076011658, -0.06966110318899155, 0.2323194444179535, 0.011643226258456707, -0.06485597789287567, -0.027399113401770592, 0.015852902084589005, -0.07221800833940506, 0.011659715324640274, 0.009067066013813019, -0.044689424335956573, -0.22309480607509613, -0.011903590522706509, 0.01647469960153103, -0.11958581209182739, 0.001654670573771, -0.009636136703193188, 0.12255335599184036, -0.012584047392010689, -0.06674143671989441, -0.08214348554611206, 0.1742863804101944, -0.07080607861280441, 0.16220569610595703, 0.438562273979187, -0.08372630178928375, 0.0011540139093995094, -0.20845311880111694, 0.20075750350952148, -0.08477810770273209, 0.2813025712966919, -0.033386074006557465, -0.02418539859354496, -0.15871742367744446, 0.21663863956928253, -0.15170209109783173, -0.08321456611156464, 0.21641740202903748, -0.05014055594801903, 0.009180048480629921, 0.002213464118540287, -0.04513844847679138, -0.012043684720993042, -0.05858384072780609, -0.1297135353088379, 0.16599540412425995, 0.003526428248733282, -0.03084879368543625, -0.07557700574398041, 0.11597228050231934, -0.07635436952114105, -0.031232208013534546, -0.11745265871286392, -0.01168463472276926, -0.055957574397325516, -0.03229103609919548, -0.004625388886779547, 0.34715744853019714, 0.2715023159980774, -0.137527197599411, -0.005890651140362024, -0.018506640568375587, -0.05773519352078438, 0.005489277187734842, -0.048484671860933304, 0.09159311652183533, 0.21734967827796936, 0.03275809809565544, 0.003544948296621442, 0.24139507114887238, -0.10515241324901581, 0.027917388826608658, -0.08010020107030869, 0.0774809792637825, -0.08479667454957962, -0.15000610053539276, 0.08844538778066635, 0.1297423094511032, 0.3943485617637634, 0.016706427559256554, -0.014743070118129253, -0.06852396577596664, -0.14533457159996033, -0.05609142407774925, -0.03186643868684769, 0.08063360303640366, 0.10601311922073364, 0.13662342727184296, 0.09265220165252686, -0.00930116418749094, 0.1378534436225891, -0.049855176359415054, -0.05303843691945076, 0.011563156731426716, 0.09455172717571259, -0.03315367549657822, -0.10537707060575485, 0.13908028602600098, -0.012953488156199455, 0.1756623238325119, -0.09343977272510529, 0.06356806308031082, 0.3739716410636902, 0.014956413768231869, 0.24566471576690674, -0.016652097925543785, 0.07227148860692978, 0.2037583589553833, 0.023096049204468727, 0.3457353115081787, 0.16471010446548462, -0.1384345293045044, 0.23869366943836212, 0.1878029704093933, -0.010297330096364021, 0.1356256902217865, 0.11051110923290253, -0.04034501314163208, 0.01799962669610977, -0.07628519833087921, -0.012078833766281605, 0.04667217284440994, -0.21305543184280396, 0.21413104236125946, -0.047499001026153564, 0.2088186889886856, -0.03359714895486832, -0.18269936740398407, -0.04033520817756653, -0.13044248521327972, 0.021901065483689308, -0.05530492588877678, -0.04106960445642471, -0.09785597026348114, -0.12267617881298065, -0.10033354163169861, 0.09796316921710968, -0.11099247634410858, 0.04407006874680519, 0.44612032175064087, 0.03998769819736481, 0.22066383063793182, -0.04505804181098938, 0.12346198409795761, -0.0903051495552063, 0.11026185005903244, -0.0669746920466423, -0.08351942896842957, 0.03502930700778961, -0.19820794463157654, -0.035439424216747284, -0.0911889374256134, 0.24174797534942627, -0.18268705904483795, 0.027714600786566734, -0.016421617940068245, 0.030872881412506104, 0.05922452732920647, 0.001624292810447514, -0.006289930082857609, -0.20864656567573547, 0.4567979574203491, 0.19677093625068665, -0.0010369402589276433, 0.037210892885923386, -0.05067126452922821, 0.06229152902960777, 0.20284496247768402, 0.12503652274608612, -0.08402272313833237, 0.2901791036128998, -0.05094357207417488, 0.00018555540009401739, 0.007508561480790377, 0.04395661875605583, -0.017959188669919968, -0.02576945349574089, -0.12752577662467957, 0.1911262571811676, -0.009903762489557266, -0.0773245245218277, -0.02620617114007473, -0.016474014148116112, 0.06904943287372589, -0.03489924594759941, -0.12393137812614441, 0.026079028844833374, -0.06839696317911148, -0.16958965361118317, 0.10797896236181259, -0.03915567696094513, -0.011641033925116062, -0.011718160472810268, -0.08438234776258469, -0.04490156099200249, -0.06484874337911606, 0.22474652528762817, 0.1726822406053543, -0.07671626657247543, 0.028292285278439522, -0.043614961206912994, -0.10898739099502563, -0.016167782247066498, 0.12854385375976562, -0.005669817328453064, 0.20941556990146637, -0.0869770348072052, 0.019113298505544662, 0.025363313034176826, 0.008107868954539299, 0.09753169864416122, 0.42702165246009827, -0.016378024592995644, -0.06692589074373245, -0.11548639088869095, 0.039104096591472626, -0.025571076199412346, -0.0862664058804512, -0.006373595912009478, -0.013593737967312336, 0.03832555189728737, -0.1596299558877945, 0.4281289279460907, -0.01368879247456789, -0.033467307686805725, -0.07372801750898361, -0.11476671695709229, -0.026477154344320297, 0.20820912718772888, 0.20996986329555511, 0.04123127460479736, 0.38154831528663635, -0.03937320411205292, 0.3407292664051056, -0.06794735789299011, -0.12644898891448975, -0.04759654030203819, -0.04813803359866142, 0.15676788985729218, -0.16586145758628845, -0.12180318683385849, -0.022266648709774017, -0.08176883310079575, 0.03102090209722519, 0.2990169823169708, 0.0206263717263937, -0.1819540560245514, -0.06303556263446808, -0.14567892253398895, 0.05229886993765831, -0.04502732679247856, -0.10825726389884949, -0.025477059185504913, -0.19361825287342072, 0.027539266273379326, 0.023834150284528732, 0.032675568014383316, 0.03508290648460388, 0.01432798895984888, -0.0454537458717823, 0.004898497834801674, 0.001435411162674427, -0.1672251969575882, -0.032860808074474335, -0.03164862468838692, -0.1444346010684967, -0.18769246339797974, -0.0915386974811554, 0.2308313250541687, 0.1813454031944275, 0.2029922902584076, 0.04613344743847847, -0.0011289063841104507, 0.11394694447517395, -0.050547968596220016, 0.1624130755662918, -0.03709608316421509, -0.00639255391433835, 0.22955723106861115, 0.19635173678398132, -0.12053771317005157, 0.20613087713718414, -0.17784997820854187, -0.04102784022688866, 0.06733958423137665, -0.003979446366429329, -0.029126957058906555, -0.11174339056015015, 0.23054781556129456, 0.019685793668031693, -0.11202573031187057, 0.01637861132621765, 0.09856048971414566, -0.02696894109249115, -0.012320280075073242, -0.08229653537273407, 0.0223565511405468, -0.036917272955179214, -0.07672390341758728, 0.002264244481921196, -0.06986777484416962, 0.09170565754175186, -0.14753340184688568, -0.02177560143172741, 0.08907050639390945, -0.01411350630223751, -0.06421899050474167, -0.08117476105690002, -0.13166552782058716, -0.025561438873410225, -0.05206829681992531, -0.1152939572930336, -0.04463819041848183, -0.07437846064567566, -0.051419440656900406, -0.21030698716640472, 0.038795355707407, -0.10555487871170044, 0.0005835997289977968, -0.2114272266626358, 0.04945673048496246, -0.0348670557141304, 0.17175336182117462, 0.19238804280757904, 0.13039618730545044, 0.024503394961357117, 0.0756731778383255, -0.021481923758983612, 0.14289192855358124, 0.02189190872013569, -0.040759000927209854, -0.10542700439691544, -0.08579535037279129, 0.010443601757287979, 0.03919534757733345, 0.19628089666366577, 0.18371176719665527, -0.09787722676992416, -0.22068338096141815, -0.0137555580586195, -0.1931164711713791, -0.04044732451438904, -0.06384218484163284, 0.08016840368509293, 0.07664813101291656, -0.07139047235250473, -0.012356714345514774, 0.07574932277202606, -0.06810753792524338, -0.03498603776097298, -0.04268390312790871, 0.09342533349990845, -0.10218895226716995, 0.025483936071395874, 0.011518329381942749, -0.10797610133886337, -0.001801750622689724, -0.03606615960597992, 0.000263620080659166, -0.17210271954536438, 0.22547873854637146, 0.2284143567085266, -0.02492113597691059, -0.027265438809990883, -0.17334632575511932, 0.01737290434539318, 0.19614046812057495, -0.16598597168922424, -0.2375527024269104, -0.010447821579873562, 0.03108065016567707], \"z\": [0.5471690893173218, 0.20125454664230347, -0.012358231469988823, 0.012906922958791256, 0.08086445182561874, 0.6479799151420593, 0.5292737483978271, -0.7991794347763062, 0.008453188464045525, 0.053177542984485626, 0.07679452002048492, 0.08990062028169632, -0.16523908078670502, 0.09641746431589127, 0.5785070657730103, -0.013497895561158657, -0.027775241062045097, -0.004679066129028797, -0.04540430009365082, -0.7718818783760071, -0.04384881258010864, 0.18311189115047455, -0.20877179503440857, -0.004816764499992132, -0.12159504741430283, 0.021576547995209694, -0.05395583063364029, -0.06403721123933792, -0.5453358888626099, 0.5878852605819702, -0.8518037796020508, -0.44438546895980835, 0.6287471652030945, -0.12729404866695404, 0.057418566197156906, 0.9368683695793152, -0.01436160784214735, -0.10769932717084885, 0.306101530790329, 0.08744178712368011, -0.07118236273527145, 0.2252560406923294, -0.0303135197609663, -0.1546945571899414, 0.043866097927093506, -0.4325568377971649, -0.09409994632005692, 0.39907342195510864, 0.07641400396823883, -0.046577684581279755, -0.06391129642724991, 0.041916266083717346, -0.11632838845252991, 0.39458391070365906, -0.00179866433609277, -0.027193687856197357, -0.0823768675327301, 0.04965010657906532, -0.036803681403398514, 0.04673544690012932, 0.07852932065725327, -0.07318827509880066, -0.028781497851014137, 0.07612787932157516, 0.011505513451993465, -0.13352814316749573, 0.09900839626789093, -0.017319511622190475, 0.532036304473877, 0.6329835057258606, -0.007649132516235113, 0.25124359130859375, 0.05085614323616028, -0.11931896954774857, 0.2971055209636688, 0.061795517802238464, 0.05594572797417641, -0.03471999987959862, -0.10834569483995438, 0.025037294253706932, -0.08912329375743866, 0.09049353003501892, 0.08801867067813873, 0.1732282191514969, 0.7132078409194946, 0.012224048376083374, 0.05046011880040169, -0.08258304744958878, -0.7800542712211609, 0.24560125172138214, -0.35047706961631775, -0.6167699098587036, -0.04527607932686806, -0.27526742219924927, -0.17428386211395264, -0.048953115940093994, -0.03821810334920883, 0.0721307247877121, 0.5797635316848755, 0.14413949847221375, -0.03276962786912918, 0.04401096701622009, 0.08019183576107025, 0.05597010254859924, 0.01729092374444008, 0.369244247674942, 0.02567947842180729, -0.050563935190439224, 0.03833378851413727, -0.09077233821153641, -0.009706984274089336, 0.06328509002923965, 0.006238668225705624, -0.30952224135398865, 0.07360919564962387, -0.02223564125597477, -0.6348701119422913, 0.6316497921943665, -0.024081751704216003, 0.07135935872793198, -0.02739952690899372, 0.20328091084957123, -0.08014057576656342, -0.031078148633241653, -0.012030758894979954, -0.23388728499412537, 0.44002336263656616, 0.607820987701416, 0.053960055112838745, 0.5808101296424866, -0.04468456655740738, -0.0777008906006813, 0.0383804626762867, 0.10206717997789383, 0.2754514515399933, 0.05718378350138664, -0.009807007387280464, 0.1996086984872818, 0.6580118536949158, 0.07464177161455154, 0.06020188704133034, 0.09880398213863373, -0.617371141910553, -0.10251780599355698, -0.06805067509412766, 0.18623118102550507, 0.5888110399246216, -0.24763186275959015, -0.5671248435974121, 0.059752121567726135, -0.02081281505525112, -0.002060679718852043, -0.020859865471720695, -0.3127084970474243, 0.06078576669096947, -0.07983669638633728, 0.07045064121484756, -0.11384046822786331, -0.22247378528118134, -0.050041522830724716, 0.05190055072307587, -0.2740269899368286, -0.19671621918678284, -0.07577499002218246, -0.6771820187568665, 0.024569861590862274, -0.11390729993581772, -0.01548727136105299, 0.3196716010570526, 0.08913713693618774, -0.3150314390659332, -0.08050241321325302, 0.0828087329864502, -0.08532699197530746, 0.15977826714515686, -0.02783771976828575, -0.2774430513381958, -0.8170739412307739, 0.056789085268974304, 0.5684008002281189, 0.005498179234564304, 0.28307467699050903, 0.046061448752880096, -0.09230785816907883, 0.062167227268218994, 0.050645340234041214, 0.17008952796459198, -0.19215306639671326, -0.013894915580749512, -0.03586428239941597, -0.04828353971242905, -0.23245695233345032, -0.03946884721517563, 0.15963754057884216, 0.4578385353088379, 0.1617640256881714, -0.005414603278040886, 0.009690632112324238, 0.42143845558166504, 0.07892510294914246, -0.027788979932665825, 0.018983187153935432, -0.3831339180469513, 0.6300774812698364, -0.3577205538749695, -0.06990434974431992, 0.07775963097810745, 0.54611736536026, 0.5379427671432495, -0.092929407954216, -0.04988932982087135, 0.10236921161413193, -0.050721656531095505, -0.21539705991744995, 0.06815497577190399, -0.06934143602848053, 0.035174936056137085, -0.052560221403837204, -0.2941189706325531, 0.6672617197036743, 0.030286675319075584, -0.007192132528871298, -0.6206186413764954, -0.051682889461517334, -0.05303788185119629, -0.08707195520401001, 0.21073761582374573, 0.7386847138404846, 0.33391961455345154, -0.39069345593452454, -0.05559263378381729, -0.10288949310779572, 0.005220470018684864, -0.085359588265419, -0.28714680671691895, -0.01585756242275238, -0.021193765103816986, -0.0747542679309845, -0.8153606653213501, 0.2658173441886902, -0.004351569805294275, 0.03145936131477356, -0.8960369825363159, -0.003175074467435479, -0.300349622964859, -0.06232871487736702, 0.05989041179418564, 0.26281484961509705, 0.06701764464378357, 0.10704286396503448, 0.28944098949432373, 0.0728026032447815, 0.09609192609786987, 0.5854397416114807, -0.029444022104144096, 0.6126376390457153, 0.6244145035743713, -0.1125161200761795, -0.48644915223121643, 0.5373110771179199, -0.029413027688860893, 0.062042172998189926, 0.4177248179912567, -0.6218056082725525, -0.04850213602185249, 0.09838587790727615, 0.004018682055175304, -0.08746974915266037, 0.03483277186751366, 0.05355655401945114, 0.009450271725654602, -0.1988789588212967, -0.5982142090797424, -0.09750741720199585, 0.32721999287605286, -0.03442844748497009, -0.24889850616455078, 0.03298599272966385, 0.20171022415161133, -0.6226489543914795, -0.3107128143310547, -0.07077307254076004, 0.07190142571926117, 0.007908971980214119, -0.8652961850166321, -0.2291688770055771, -0.05615411326289177, -0.0014371369034051895, -0.3212808668613434, -0.029128804802894592, 0.04780619964003563, 0.6271973848342896, 0.2793373167514801, -0.44074583053588867, 0.07993994653224945, 0.37449711561203003, 0.38826969265937805, -0.035256512463092804, 0.0948740541934967, 0.013227440416812897, -0.32919439673423767, 0.24810713529586792, 0.7412696480751038, 0.0941295474767685, 0.18307511508464813, -0.4129941165447235, -0.05454978719353676, 0.6027951240539551, -0.2863156497478485, -0.14071200788021088, -0.00025218064547516406, -0.1095612570643425, 0.023984940722584724, 0.04625902697443962, -0.07662370800971985, 0.03180206939578056, 0.46255606412887573, 0.6111277341842651, -0.12500344216823578, -0.4687475860118866, -0.05676214396953583, 0.06682896614074707, -0.29326608777046204, -0.027006471529603004, 0.053182799369096756, 0.6334582567214966, 0.4291583299636841, 0.326237291097641, -0.25474870204925537, 0.09825554490089417, 0.16710758209228516, 0.01886504516005516, 0.1315978765487671, 0.08060771971940994, 0.07111135125160217, -0.0381627082824707, -0.02093515172600746, -0.044836271554231644, 0.023936713114380836, -0.01351445633918047, 0.0727706030011177, -0.32351770997047424, -0.07704221457242966, 0.29166698455810547, -0.6238419413566589, 0.03559448570013046, -0.021416299045085907, -0.2419198602437973, -0.03546923026442528, 0.059686336666345596, 0.08811681717634201, -0.004888505209237337, 0.07109635323286057, -0.29072409868240356, 0.8486765027046204, 0.036445267498493195, 0.5912500023841858, -0.29054173827171326, 0.03974888473749161, -0.2856072783470154, 0.4341984689235687, 0.05170219764113426, 0.04807516932487488, -0.37987667322158813, -0.02321586385369301, 0.017882555723190308, -0.11254773288965225, -0.04037437215447426, 0.06457877159118652, 0.251437783241272, 0.009221548214554787, -0.03639993444085121, 0.8141356110572815, -0.3728070855140686, -0.05498518422245979, 0.10248547792434692, -0.05943828448653221, -0.6969839930534363, -0.607729971408844, -0.22009830176830292, 0.3876705467700958, 0.5751728415489197, 0.05474967136979103, 0.649347186088562, -0.08249916881322861, 0.0008280046749860048, 0.5659311413764954, 0.5632185339927673, -0.088937908411026, -0.010173855349421501, -0.4369957447052002, -0.34120801091194153, 0.26389825344085693, 0.33511805534362793, 0.12722431123256683, 0.5581552982330322, -0.023094387724995613, 0.00863390602171421, -0.06841695308685303, 0.031529832631349564, -0.4301746189594269, -0.08630543202161789, 0.026624087244272232, 0.27212032675743103, -0.12862348556518555, -0.06156902760267258, 0.054029352962970734, -0.7287651896476746, -0.014839127659797668, -0.025208208709955215, -0.5242884755134583, 0.008480227552354336, 0.01690709963440895, -0.10346511751413345, -0.2515292167663574, -0.018234075978398323, 0.021180883049964905, -0.43021151423454285, -0.07872709631919861, 0.09990675002336502, 0.559026300907135, 0.5693079233169556, -0.0018490975489839911, -0.11574175208806992, -0.31617972254753113, 0.0574219711124897, -0.3027406930923462, -0.30285584926605225, -0.4017360508441925, 0.1427198350429535, 0.09813600033521652, -0.49412137269973755, 0.07470688223838806, -0.04214523732662201, -0.6092802882194519, -0.16164067387580872, -0.301213800907135, -0.0049408962950110435, -0.3371426463127136, -0.11942561715841293, -0.6701532006263733, -0.027521561831235886, 0.6893423199653625, -0.10082244873046875, 0.22233375906944275, -0.11335038393735886, -0.6104509234428406, 0.12648101150989532, 0.3676258623600006, 0.12722940742969513, 0.16837795078754425, -0.2874525785446167, 0.030158109962940216, -0.07757572084665298, 0.05244384706020355, -0.20116005837917328, -0.3086208403110504, -0.7174063920974731, 0.41100025177001953, 0.10761918872594833, 0.2786008417606354, -0.09970277547836304, -0.5427899360656738, 0.08722807466983795, -0.014347419142723083, -0.6204867362976074, 0.011763314716517925, 0.29863718152046204, -0.05532325804233551, -0.6768400073051453, 0.015483945608139038, 0.09536008536815643, 0.005561353173106909, -0.08339434117078781, -0.04334643483161926, -0.07355035841464996, -0.06590808182954788, -0.024807950481772423, 0.30878186225891113, 0.25114455819129944, -0.051247525960206985, 0.07564536482095718, -0.03075568564236164, -0.109861820936203, 0.04902401939034462, -0.042333681136369705, -0.02356385439634323, -0.5463461875915527, 0.09151536971330643, 0.2890801429748535, 0.08147836476564407, 0.02366786077618599, -0.30136045813560486, 0.059006594121456146, -0.012259291484951973, 0.021411558613181114, 0.026523971930146217, 0.3283356726169586, 0.042230650782585144, 0.42776378989219666, 0.0075972662307322025, -0.003555722301825881, 0.3848848342895508, 0.03822855278849602, 0.003422036999836564, -0.656425952911377, 0.06498757749795914, -0.45130759477615356, 0.10318122804164886, 0.1080588698387146, -0.071817547082901, -0.11116641759872437, 0.8866503834724426, 0.05123964697122574, -0.011198718100786209, -0.09322292357683182, -0.013116215355694294, 0.05001934990286827, 0.1158236563205719, 0.10446923971176147, 0.5295308232307434, -0.11231227219104767, -0.08132454752922058, -0.01393258199095726, -0.08834882080554962, -0.053594689816236496, 0.042700137943029404, 0.36093148589134216, 0.49326005578041077, -0.14861486852169037, -0.06024909391999245, -0.038625989109277725, 0.8656693696975708, 0.5522528290748596, 0.08396559208631516, 0.04240741953253746, 0.2040202021598816, -0.1108609288930893, 0.011970024555921555, -0.31089529395103455, 0.4350045323371887, 0.27169689536094666, -0.042648810893297195, 0.06501594185829163, 0.17333263158798218, -0.09931699186563492, 0.09092572331428528, -0.5760571360588074, 0.38181978464126587, -0.6200422048568726, 0.5938156247138977, 0.21980158984661102, -0.0792536661028862, 0.044888388365507126, -0.0565367117524147, 0.2813884913921356, -0.005352263804525137, -0.6831035017967224, 0.1484893560409546, -0.17019635438919067, 0.2871009111404419, -0.027968984097242355, -0.8857231736183167, -0.055851180106401443, 0.21238850057125092, -0.021225444972515106, -0.08624731004238129, -0.01634897105395794, -0.059005383402109146, -0.05227555334568024, -0.35804644227027893, 0.3953288197517395, -0.7761569023132324, 0.0737486407160759, -0.11809327453374863, 0.5691208839416504, 0.20506377518177032, -0.007829682901501656, 0.05071341246366501, 0.09892429411411285, 0.0860731229186058, -0.36932411789894104, 0.018266523256897926, -0.019981812685728073, -0.08510429412126541, 0.010693917982280254, -0.17159515619277954, 0.028864379972219467, 0.04688538983464241, 0.19161498546600342, 0.08908163011074066, -0.006477236282080412, 0.008754556998610497, -0.2530069053173065, -0.8170789480209351, 0.06599369645118713, 0.1585308462381363, -0.22702854871749878, -0.014468176290392876, -0.2688399851322174, -0.33908072113990784, 0.05665496736764908, -0.13046836853027344, 0.25556427240371704, -0.28511154651641846, -0.4528219997882843, 0.10329294204711914, -0.07733027637004852, 0.02777349390089512, 0.2769938111305237, -0.056663427501916885, 0.46455082297325134, 0.42217114567756653, -0.10327702760696411, 0.02090921252965927, 0.03618614748120308, -0.11553429812192917, 0.07392242550849915, -0.8145972490310669, 0.4022132158279419, -0.01571073941886425, 0.25510501861572266, -0.12012339383363724, 0.34006673097610474, -0.19552811980247498, -0.08082844316959381, 0.03802665323019028, -0.07005880028009415, -0.05970679596066475, 0.09062757343053818, -0.11202007532119751, -0.006047294475138187, -0.04833218455314636, 0.8397085070610046, 0.10248453915119171, -0.6013272404670715, -0.49030575156211853, -0.05366504192352295, -0.6275932192802429, -0.22282807528972626, -0.035373058170080185, -0.4511778950691223, -0.11994487047195435, 0.1922588348388672, 0.05756700411438942, 0.5097997784614563, 0.14987675845623016, 0.07754707336425781, 0.0018218935001641512, -0.11451420187950134, 0.1290578693151474, -0.3062339723110199, -0.6009883284568787, 0.3064568042755127, 0.19445984065532684, -0.030709855258464813, 0.2504408657550812, 0.8695626258850098, -0.07534491270780563, -0.033797286450862885, -0.05035710707306862, 0.5141041278839111, 0.04289332404732704, 0.7653114199638367, 0.6089998483657837, 0.2646520435810089, 0.10558655858039856, 0.27108094096183777, 0.012405379675328732, -0.04612709581851959, 0.046963952481746674, 0.5902528762817383, -0.2919074296951294, -0.07718701660633087, 0.03832438960671425, -0.42461520433425903, -0.03853287547826767, -0.596596360206604, 0.6584009528160095, 0.0017999225528910756, 0.14938656985759735, -0.10313225537538528, 0.8038525581359863, 0.03287387266755104, 0.4026167690753937, -0.24782168865203857, 0.5622565746307373, 0.43370288610458374, 0.5809869766235352, -0.22617340087890625, -0.4863087236881256, 0.9062604904174805, 0.043415214866399765, 0.05786070227622986, 0.02542640082538128, -0.4771255552768707, -0.011922327801585197, 0.07308150082826614, 0.07806812226772308, -0.0023116811644285917, -0.0901387557387352, -0.012166040949523449, 0.032846931368112564, -0.07306958734989166, -0.004777361638844013, -0.06366345286369324, -0.06746560335159302, 0.3607921600341797, 0.3609968423843384, -0.054933641105890274, 0.58173006772995, -0.08226457983255386, 0.019751129671931267, -0.011499213986098766, -0.0070548527874052525, 0.1687711924314499, -0.2763182520866394, -0.18927356600761414, -0.0704144611954689, 0.13392774760723114, 0.07543573528528214, 0.1257627159357071, 0.26448628306388855, 0.0746481716632843, 0.4361271560192108, 0.6244556307792664, 0.5493614673614502, -0.0860741063952446, -0.8604228496551514, -0.7064447999000549, 0.00770470779389143, 0.050818078219890594, 0.04642628878355026, -0.05086734518408775, -0.005938592366874218, -0.5040194392204285, -0.009382404386997223, 0.11385385692119598, 0.3754030168056488, 0.005782697815448046, 0.04469885677099228, 0.05854099243879318, -0.5905767679214478, 0.08148864656686783, -0.02348109520971775, -0.000603884516749531, 0.05736677721142769, 0.05366349220275879, 0.1095198541879654, 0.0239095538854599, -0.08978975564241409, 0.08348049223423004, 0.3546810746192932, -0.2565308213233948, 0.05362923443317413, 0.4197674095630646, -0.05773242190480232, -0.21159417927265167, 0.22006483376026154, 0.23768600821495056, -0.1023237407207489, 0.1017063707113266, 0.09433018416166306, -0.10815583169460297, 0.2657243013381958, -0.03518986701965332, -0.054072827100753784, 0.09825867414474487, -0.04684535786509514, 0.10720204561948776, -0.01482580415904522, 0.5986254811286926, -0.33620554208755493, 0.09977760910987854, -0.03517235070466995, -0.6356168985366821, -0.8818234205245972, -0.5821215510368347, -0.5960037708282471, 0.10293981432914734, 0.5662486553192139, -0.6730434894561768, 0.7328535914421082, 0.05809279903769493, 0.14245200157165527, 0.010306167416274548, -0.08440949022769928, 0.5803247690200806, -0.012225274927914143, -0.02672578953206539, 0.13759295642375946, 0.038640908896923065, 0.06514454632997513, -0.055156003683805466, 0.005818162113428116, -0.08065911382436752, -0.15127386152744293, 0.6480339169502258, -0.12726335227489471, -0.3110840916633606, 0.053499072790145874, -0.0673016682267189, -0.38140133023262024, 0.080123670399189, -0.09188645333051682, 0.060297854244709015, -0.07777035236358643, -0.05357804521918297, -0.5624395608901978, -0.04003801569342613, -0.1734599471092224, -0.027662090957164764, 0.01713753677904606, 0.024508904665708542, -0.05121908709406853, -0.2953490912914276, 0.03643297031521797, -0.2792590856552124, -0.2712792158126831, 0.6353159546852112, -0.03289686143398285, -0.013044256716966629, 0.14292629063129425, 0.034918881952762604, -0.060494523495435715, 0.048056215047836304, -0.07660068571567535, 0.5253871083259583, -0.004028123337775469, -0.6075983643531799, -0.29023507237434387, -0.8892259001731873, 0.09187030047178268, 0.06961119920015335, -0.057213135063648224, -0.621632993221283, -0.06844593584537506, -0.09998492151498795, -0.4129623770713806, -0.2767736315727234, 0.040499527007341385, -0.07529117912054062, 0.04311581701040268, 0.07818913459777832, -0.3132103383541107, 0.07614178955554962, 0.09192404896020889, 0.2324797660112381, 0.22774113714694977, 0.8266013264656067, 0.047227468341588974, 0.1773800402879715, -0.014500212855637074, -0.03450961038470268, -0.32419511675834656, 0.07673827558755875, 0.24560680985450745, -0.004704675637185574, 0.05946909263730049, -0.06396301090717316, -0.07225868105888367, -0.03600531816482544, -0.6014918088912964, -0.7768421173095703, 0.053787536919116974, 0.04996093362569809, -0.5124717354774475, -0.18595601618289948, -0.040481921285390854, 0.028941206634044647, 0.19558700919151306, -0.6287363171577454, 0.7728608846664429, 0.02009139582514763, 0.02985243685543537, -0.07481911778450012, -0.15082788467407227, -0.11883393675088882, -0.033300355076789856, -0.058493711054325104, 0.5842927694320679, -0.09920527040958405, 0.10279770195484161, 0.014958418905735016, 0.2787182927131653, 0.053306154906749725, 0.7551478743553162, 0.018317999318242073, -0.012188538908958435, 0.2577584385871887, -0.286851704120636, 0.290497750043869, 0.3194141685962677, -0.09023675322532654, 0.08671000599861145, -0.44664129614830017, -0.3551851809024811, 0.05627886578440666, -0.053631462156772614, 0.0498100109398365, -0.970256507396698, -0.058887023478746414, 0.1796218752861023, -0.057321541011333466, -0.08146683126688004, -0.11302303522825241, 0.06599058210849762, 0.5630159974098206, 0.05442823842167854, 0.6329148411750793, 0.017509428784251213, -0.23317822813987732, 0.6756866574287415, -0.08582471311092377, -0.012519274838268757, -0.08799475431442261, -0.04202713444828987, -0.5074794888496399, 0.6441872715950012, 0.0635029748082161, 0.5914444327354431, 0.6491125226020813, 0.33141660690307617, 0.029670121148228645, 0.03659607470035553, -0.09356213361024857, 0.006137272343039513, 0.1253795027732849, 0.30708134174346924, 0.06156441569328308, -0.5630910396575928, 0.3051225543022156, 0.7379185557365417, -0.003180514555424452, -0.6142200231552124, 0.06178658828139305, -0.00865894090384245, -0.06497011333703995, 0.6476830840110779, 0.08547785878181458, -0.883823037147522, -0.03663225844502449, 0.07244285941123962, 0.35370075702667236, -0.37111663818359375, 0.5982643365859985, -0.006374581716954708, 0.36366888880729675, 0.02671646513044834, 0.6423301100730896, -0.27842968702316284, 0.06980454176664352, -0.14771553874015808, 0.018044646829366684, -0.33229589462280273, -0.4149407148361206, 0.061609089374542236, -0.027360817417502403, -0.02411547675728798, -0.20357564091682434, 0.008321256376802921, 0.2618107497692108, 0.13707055151462555, 0.0842139795422554, -0.05451728031039238, -0.030032256618142128, -0.05275055021047592, 0.10874195396900177, 0.0525185652077198, 0.29543372988700867, 0.1290774643421173, -0.07156482338905334, 0.6065707206726074, -0.766454815864563, -0.6244198679924011, -0.6373684406280518, 0.11075274646282196, 0.036329612135887146, 0.05005168542265892, -0.37158864736557007, 0.11690272390842438, 0.018733344972133636, -0.40586259961128235, 0.10341408103704453, 0.12454186379909515, 0.004122743383049965, -0.30470651388168335, -0.11099129915237427, 0.2150251567363739, 0.03205562010407448, 0.6329689025878906, 0.39803293347358704, -0.008244329132139683, -0.06398608535528183, -0.024441933259367943, 0.5811322331428528, -0.28597861528396606, 0.5310240387916565, -0.01732185110449791, -0.11221640557050705, -0.1422712206840515, -0.07540848851203918, -0.6058530211448669, 0.02456975355744362, 0.37188127636909485, 0.11684195697307587, 0.00345179857686162, -0.11041661351919174, -0.1011536493897438, -0.09538903832435608, 0.059151142835617065, 0.024592863395810127, -0.03031254932284355, -0.0828406885266304, -0.13632729649543762, -0.10471790283918381, -0.08846212178468704, 0.020175093784928322, 0.2731294631958008, 0.41113874316215515, -0.10064993053674698, 0.04029560834169388, 0.07481040805578232, -0.04861815646290779, 0.04039229452610016, -0.5529310703277588, 0.04229080677032471, -0.4716199040412903, 0.08720629662275314, 0.08444341272115707, 0.8555694222450256, 0.0033508071210235357, -0.7935426235198975, -0.08260580897331238, -0.11769999563694, 0.041094470769166946, 0.0746864378452301, -0.08167645335197449, -0.009603957645595074, 0.5913984179496765, 0.5701336860656738, -0.3466785252094269, -0.0015713872853666544, -0.22202371060848236, 0.7724977731704712, -0.020648077130317688, 0.03805295377969742, -0.4573744535446167, -0.19600917398929596, -0.3471827507019043, -0.8558341264724731, -0.20192338526248932, -0.02217787504196167, 0.06262746453285217, 0.03816232085227966, 0.015524260699748993, 0.0003454791731201112, 0.058125510811805725, -0.014810922555625439, -0.06453858315944672, -0.2398258000612259, 0.6054089665412903, -0.07328037172555923, -0.05115320906043053, 0.3340701758861542, -0.09319764375686646, -0.13076113164424896, -0.0009632944129407406, -0.069786436855793, -0.003387527307495475, -0.30903804302215576, -0.019250601530075073, 0.039252933114767075, 0.010113602504134178, -0.6524332761764526, 0.07076992839574814, 0.0344979390501976, -0.0310321357101202, -0.5907663106918335, 0.015024715103209019, -0.2600511312484741, -0.026399580761790276, 0.5360603928565979, -0.6369361281394958, -0.12603659927845, -0.10790776461362839, -0.09232484549283981, 0.0007927336264401674, 0.1109732836484909, -0.09387866407632828, -0.0010443911887705326, -0.13564203679561615, 0.4324508011341095, -0.08549358695745468, -0.11348555982112885, 0.12741123139858246, -0.4263010621070862, 0.4157344102859497, 0.07572273910045624, -0.6373466849327087, -0.012767446227371693, -0.10214869678020477, -0.45866215229034424, 0.034767162054777145, -0.112760029733181, -0.02735530398786068, 0.08353796601295471, -0.1129009872674942, 0.24870334565639496, -0.06405947357416153, 0.04837435856461525, -0.226116344332695, 0.5900909304618835, -0.5973690748214722, 0.2449159175157547, 0.6750490665435791, 0.03797958791255951, -0.6214964985847473, 0.565375566482544, -0.20499853789806366, 0.6242324113845825, -0.0925242230296135, -0.13758458197116852, 0.08238037675619125, 0.07783675193786621, 0.26050248742103577, 0.0597410574555397, -0.17462731897830963, 0.25990939140319824, -0.273281991481781, -0.016344204545021057, -0.0545014962553978, -0.05941435694694519, 0.07533032447099686, -0.028947239741683006, -0.49258658289909363, -0.31886839866638184, 0.07870204746723175, -0.05068043991923332, 0.020350122824311256, -0.07882110029459, -0.07444026321172714, -0.6506515145301819, 0.81548011302948, 0.5064030289649963, 0.06316830962896347, 0.08307746052742004, -0.3050832152366638, 0.043291449546813965, -0.07580161839723587, 0.002636349992826581, -0.07192394137382507, -0.02297004871070385, -0.7226710915565491, 0.6852999329566956, -0.021539578214287758, 0.6297339797019958, -0.03371771052479744, -0.10817698389291763, -0.005078266374766827, -0.0264523196965456, -0.09876107424497604, 0.06673093140125275, 0.28655484318733215, 0.006891749333590269, -0.050211627036333084, 0.04155804589390755, -0.6216578483581543, 0.7953192591667175, -0.006000559311360121, 0.0511481836438179, -0.07872002571821213, 0.09954964369535446, -0.056218426674604416, -0.18089067935943604, 0.14786697924137115, 0.3022381663322449, 0.2749023735523224, 0.2442854791879654, 0.2336743175983429, -0.3705843389034271, 0.5917399525642395, 0.0818878710269928, -0.4672923982143402, -0.275444895029068, -0.0683925449848175, -0.06995722651481628, -0.07330325990915298, 0.14594990015029907, 0.6606891751289368, -0.284659743309021, -0.17837120592594147, 0.0242946594953537, -0.0912756621837616, 0.9188072681427002, -0.05898607149720192, -0.6112619042396545, 0.255899578332901, 0.09177946299314499, 0.32451358437538147, 0.41495975852012634, -0.01841743476688862, -0.09512187540531158, -0.5221653580665588, -0.04355917498469353, -0.0151144377887249, -0.012871691957116127, 0.026858406141400337, -0.6372243762016296, -0.6037036180496216, -0.32227206230163574, 0.2335679680109024, -0.8288964033126831, -0.0799160823225975, 0.3071464002132416, -0.06276757270097733, -0.24506694078445435, -0.03360668569803238, 0.7169839143753052, -0.5822707414627075, 0.3166246712207794, -0.08406976610422134, 0.08011816442012787, 0.07254792004823685, 0.04729718714952469, 0.8170283436775208, 0.005049398634582758, 0.30039939284324646, 0.16152207553386688, -0.5907033085823059, -0.06640821695327759, -0.056155312806367874, 0.2978236675262451, -0.08416203409433365, 0.4252658784389496, 0.307547390460968, -0.2698637843132019, 0.3854037821292877, -0.07742540538311005, -0.1267203688621521, -0.7761474251747131, 0.4218159317970276, -0.46782955527305603, 0.15599052608013153, -0.08296094089746475, -0.0701402947306633, -0.04157821089029312, -0.014994007535278797, -0.055413808673620224, -0.04405580088496208, 0.028819898143410683, -0.06352274864912033, 0.1388002336025238, 0.030937356874346733, 0.6237239241600037, 0.1007838025689125, 0.05587164685130119, 0.6002280712127686, 0.15467070043087006, -0.3281383514404297, 0.33698365092277527, -0.07791054248809814, 0.18230122327804565, -0.1631058007478714, -0.032813213765621185, -0.1207636296749115, -0.07927514612674713, -0.06579792499542236, 0.3993913233280182, -0.127393901348114, 0.07755031436681747, 0.012304162606596947, 0.43425238132476807, -0.0831960067152977, 0.031110454350709915, 0.094444639980793, -0.034251485019922256, -0.1036839708685875, -0.41185107827186584, -0.13629150390625, 0.005240392871201038, -0.41673004627227783, -0.03476164862513542, -0.008988121524453163, -0.13736668229103088, -0.30367311835289, 0.058268506079912186, -0.015234828926622868, -0.07236853986978531, -0.1924799680709839, 0.10632969439029694, -0.3605290651321411, 0.0631512925028801, -0.05869932845234871, 0.13378261029720306, -0.05979447066783905, 0.4486480951309204, -0.02700798213481903, 0.07720161974430084, -0.052783120423555374, 0.620147168636322, -0.7721120119094849, 0.023103946819901466, -0.059130456298589706, 0.0335959829390049, 0.05946190282702446, 0.043270330876111984, 0.32698798179626465, 0.035333968698978424, -0.27769267559051514, -0.34769830107688904, -0.03308110684156418, -0.24633507430553436, 0.6049189567565918, -0.030753303319215775, 0.12844912707805634, -0.30529436469078064, -0.06027122959494591, 0.24143022298812866, 0.09060784429311752, -0.7494338750839233, -0.14113037288188934, 0.23660317063331604, 0.09208011627197266, -0.026110857725143433, 0.09457974135875702, -0.05005484074354172, 0.07033580541610718, -0.06005570665001869, -0.0032340851612389088, 0.06298841536045074, 0.47465062141418457, -0.08950202912092209, 0.11060265451669693, 0.03949552774429321, 0.015546195209026337, 0.04608866944909096, 0.0075315372087061405, 0.04501047730445862, 0.04966835305094719, 0.14410735666751862, -0.0847376212477684, -0.09207016229629517, 0.08247634023427963, -0.6949185729026794, -0.020832186564803123, 0.5590407848358154, -0.1783706545829773, -0.2099667638540268, 0.032847482711076736, 0.08566492795944214, 0.011788860894739628, -0.634274959564209, -0.1430877447128296, 0.3488633632659912, 0.2537241578102112, 0.16807568073272705, -0.01876102201640606, -0.33173438906669617, 0.12644124031066895, 0.5896490812301636, -0.10085619986057281, 0.025687837973237038, 0.07224185764789581, -0.013508835807442665, -0.0011495238868519664, 0.008556951768696308, 0.08476416766643524, 0.6910953521728516, 0.07036718726158142, -0.02536597289144993, -0.6232150197029114, -0.09493884444236755, -0.10570885986089706, -0.08721069991588593, 0.005460107699036598, -0.02466941624879837, 0.01416295487433672, -0.04696820303797722, 0.23563751578330994, -0.06001678854227066, -0.08788684010505676, -0.02851446531713009, -0.05467681586742401, 0.26003143191337585, 0.025892268866300583, -0.06675921380519867, 0.6247469186782837, -0.6250705122947693, 0.2896827757358551, 0.02423543483018875, -0.054644640535116196, -0.5919301509857178, 0.028314536437392235, -0.25362536311149597, -0.049377813935279846, 0.7469456195831299, 0.607162594795227, -0.20327851176261902, -0.9184104204177856, -0.05362926796078682, 0.07517894357442856, -0.017859304323792458, 0.05283470079302788, 0.30370113253593445, 0.6884812712669373, -0.3903048038482666, 0.059514764696359634, -0.25189265608787537, 0.042408838868141174, 0.02474364824593067, 0.4066709578037262, 0.07198246568441391, -0.03607773408293724, -0.26589280366897583, -0.06372641026973724, -0.07902511954307556, -0.3493141829967499, 0.10814636945724487, -0.3202594518661499, -0.07047846168279648, -0.14325100183486938, -0.061644457280635834, 0.06886507570743561, 0.4563179612159729, 0.06712628901004791, -0.06458361446857452, 0.3060597777366638, 0.018934734165668488, 0.307308167219162, 0.21434855461120605, 0.8022025227546692, 0.6408963203430176, 0.00319433375261724, -0.867859959602356, 0.31754007935523987, -0.6000723242759705, 0.10025306791067123, -0.06688683480024338, -0.0859568864107132, -0.010317808948457241, -0.045457590371370316, -0.044169314205646515, 0.06702181696891785, -0.007953506894409657, -0.023540420457720757, 0.056343428790569305, -0.023911070078611374, 0.08009108901023865, -0.016478030011057854, -0.09280736744403839, 0.06330113112926483, 0.012319504283368587, -0.04564020410180092, 0.07124828547239304, -0.01813669130206108, -0.018025754019618034, 0.008572914637625217, 0.06298376619815826, -0.06606853008270264, 0.5722705125808716, 0.11212647706270218, -0.009858086705207825, 0.21775375306606293, 0.03868996351957321, 0.3716692328453064, -0.027745595201849937, 0.005388474091887474, -0.11795971542596817, -0.026718689128756523, -0.009558544494211674, -0.07300184667110443, -0.11576128751039505, -0.756740391254425, -0.09876219183206558, -0.06965447962284088, 0.11871921271085739, -0.5477503538131714, 0.22553640604019165, 0.05698341503739357, 0.8937695026397705, 0.08159970492124557, -0.04636378958821297, 0.1797553151845932, -0.20513609051704407, 0.3629433810710907, -0.011504522524774075, 0.08661697059869766, -0.5907787680625916, 0.13828282058238983, 0.030313430353999138, 0.44247451424598694, -0.04203886538743973, -0.05452120676636696, 0.007943272590637207, -0.029974807053804398, 0.6220901608467102, 0.10862746089696884, -0.005112598184496164, 0.11566091328859329, -0.07693701982498169, -0.04785021021962166, -0.11963792145252228, -0.051972728222608566, -0.006618264596909285, 0.02651938982307911, 0.37636512517929077, -0.06648144870996475, -0.7942735552787781, -0.06867723166942596, -0.15725770592689514, 0.10667800158262253, -0.2073274850845337, 0.01583613082766533, -0.6268324255943298, 0.00986685324460268, -0.09981884062290192, 0.2332705706357956, 0.0806269720196724, -0.09572426229715347, 0.06285490840673447, -0.05124533548951149, 0.05666765943169594, -0.0735899955034256, -0.37436336278915405, -0.04654785245656967, -0.040727801620960236, -0.12835831940174103, 0.012580083683133125, 0.5882197618484497, -0.15366557240486145, -0.08986208587884903, 0.8732521533966064, -0.07676892727613449, -0.6034764051437378, 0.02147405780851841, 0.1018565222620964, -0.27702122926712036, 0.1340421736240387, 0.012383820489048958, 0.04207472503185272, 0.6589697003364563, 0.5727683901786804, -0.3270297348499298, 0.09940814971923828, 0.23425376415252686, 0.6526712775230408, -0.06545539200305939, -0.14850862324237823, -0.33573779463768005, -0.08980119228363037, -0.18622849881649017, 0.36385974287986755, -0.09328670799732208, -0.7442864775657654, -0.630128026008606, 0.11247173696756363, 0.054238684475421906, -0.06657815724611282, 0.06014743074774742, 0.6869097948074341, -0.09387188404798508, -0.22872331738471985, 0.03378664329648018, -0.22931703925132751, -0.08067123591899872, 0.15657921135425568, -0.039931267499923706, 0.2800874710083008, -0.07612385600805283, 0.0177810937166214, -0.10051875561475754, 0.04956338554620743, -0.05097051337361336, -0.20494602620601654, 0.04372064769268036, -0.08790882676839828, -0.09751487523317337, -0.09098920226097107, -0.04158448800444603, 0.07984527200460434, 0.2656102180480957, 0.03985428065061569, 0.5074431896209717, -0.7436885237693787, 0.3160528242588043, 0.08354166895151138, 0.315499484539032, -0.11218521744012833, -0.05814952030777931, -0.6367509961128235, -0.04004320874810219, 0.29566583037376404, -0.053025100380182266, -0.07270655781030655, -0.010136454366147518, -0.14465144276618958, -0.03279494866728783, -0.04318736866116524, 0.03390011563897133, 0.12513642013072968, -0.12391385436058044, 0.06177207827568054, 0.652395486831665, -0.06412972509860992, -0.05718154460191727, 0.06388236582279205, -0.6119376420974731, -0.06389281153678894, -0.12917350232601166, -0.2439633011817932, 0.3229118883609772, 0.27139848470687866, 0.0030850369948893785, 0.12809976935386658, -0.08411668241024017, 0.023495962843298912, 0.016793139278888702, -0.07557356357574463, 0.047621950507164, -0.22076062858104706, 0.08617746829986572, 0.062424179166555405, -0.1309610903263092, 0.07049519568681717, 0.2471902072429657, 0.8209159970283508, 0.19512997567653656, -0.0027862032875418663, -0.8859637379646301, -0.11854956299066544, 0.03654417023062706, 0.5430073738098145, -0.010262466967105865, 0.00047237458056770265, -0.6362401247024536, 0.02577899768948555, 0.016560617834329605, 0.004589753225445747, 0.31710323691368103, 0.04506105184555054, -0.05429429933428764, -0.09848622232675552, 0.07349909842014313, -0.5658089518547058, -0.5856492519378662, -0.9251492619514465, -0.30513593554496765, 0.6409410834312439, -0.2233041673898697, -0.08816474676132202, -0.08449581265449524, 0.037829428911209106, -0.008695059455931187, -0.02377655915915966, 0.002537229098379612, -0.07099846750497818, 0.043353743851184845, -0.15158285200595856, -0.009697954170405865, 0.35791897773742676, -0.5941144824028015, 0.06592083722352982, 0.26076698303222656, -0.019794471561908722, 0.07132125645875931, 0.0024062988813966513, -0.12381883710622787, -0.031409360468387604, -0.08730486780405045, 0.6347033381462097, -0.48404020071029663, -0.08760076761245728, 0.2680957317352295, -0.05824965611100197, 0.3997330963611603, 0.3315458297729492, 0.5905159711837769, 0.057736679911613464, -0.12238028645515442, 0.1115020215511322, -0.03141695633530617, 0.3754561245441437, 0.09956567734479904, 0.015299295075237751, -0.36911603808403015, 0.04024582356214523, -0.019667213782668114, -0.10134377330541611, -0.06377345323562622, 0.6133289933204651, 0.03425018861889839, 0.06528890132904053, -0.09505973756313324, -0.9041411280632019, -0.03795471042394638, -0.46780920028686523, 0.2368212193250656, 0.08463641256093979, -0.6409048438072205, 0.09545453637838364, 0.0980067104101181, 0.03603295981884003, 0.04074550420045853, 0.07826793938875198, 0.04089440032839775, 0.01643555797636509, -0.012521529570221901, -0.0018536633579060435, -0.6251466274261475, -0.012727875262498856, -0.07498645037412643, -0.23097233474254608, -0.0034854253754019737, -0.758418083190918, 0.9353517889976501, -0.8959789872169495, 0.019997920840978622, 0.06655514985322952, 0.03745611757040024, -0.08474211394786835, 0.03806965798139572, 0.04754089564085007, -0.09136485308408737, -0.26096946001052856, -0.015378793701529503, -0.01460903137922287, 0.3928191363811493, -0.045907702296972275, -0.10730686038732529, 0.10125105082988739, -0.008855857886373997, -0.04619213566184044, 0.04358053207397461, -0.4591635465621948, -0.08046186715364456, 0.044425979256629944, -0.5972367525100708, -0.036483194679021835, 0.005223505664616823, -0.2619853913784027, -0.0983244925737381, 0.057712480425834656, -0.06801136583089828, -0.03903328627347946, -0.05199229344725609, -0.11350490897893906, -0.5333333015441895, 0.09721782803535461, -0.2343250811100006, -0.01168157160282135, -0.05892045423388481, 0.003340085968375206, 0.09765918552875519, 0.0625525563955307, -0.0972122773528099, 0.03060957044363022, -0.09748809784650803, -0.05762697011232376, -0.48554879426956177, -0.017872866243124008, -0.04823630303144455, -0.0425521545112133, -0.25200480222702026, -0.11685167253017426, -0.06251655519008636, -0.03910023346543312, 0.44336003065109253, 0.015668313950300217, 0.618850827217102, 0.2643314599990845, 0.004159851465374231, 0.018757561221718788, -0.05565979704260826, -0.04816848412156105, 0.1291951686143875, -0.006369263865053654, 0.5458621382713318, 0.016742566600441933, -0.3156423270702362, -0.16835738718509674, 0.14740952849388123, -0.09248820692300797, -0.47895941138267517, -0.06926961243152618, -0.08935312181711197, -0.05052097886800766, -0.20898845791816711, -0.065376415848732, 0.009323866106569767, 0.03338425233960152, -0.1377163678407669, -0.5454522371292114, 0.055624715983867645, -0.1541978418827057, 0.6029255986213684, -0.014798547141253948, 0.0172180887311697, -0.6895226836204529, -0.004386791493743658, 0.00341800251044333, -0.6126919388771057, 0.07917643338441849, -0.07361462712287903, -0.6520255208015442, 0.2826262414455414, 0.13470281660556793, 0.09380259364843369, -0.2872462868690491, 0.06199028715491295, -0.04836719110608101, -0.09929551929235458, 0.7474117875099182, -0.1280931830406189, -0.26302260160446167, -0.025944560766220093, -0.21816737949848175, 0.056632332503795624, -0.03453930467367172, 0.03825341910123825, -0.011629009619355202, -0.35748499631881714, -0.02905280701816082, -0.1009763702750206, -0.38868358731269836, -0.1537994146347046, 0.08392924070358276, -0.08464459329843521, 0.03757454454898834, 0.26220330595970154, 0.024698743596673012, -0.5677956342697144, 0.019994111731648445, -0.6230255961418152, -0.0008319885237142444, -0.2713647186756134, -0.002127922372892499, 0.5887486338615417, 0.21197819709777832, 0.8621765375137329, -0.014739502221345901, 0.41959354281425476, 0.6040460467338562, -0.030346078798174858, -0.5730572938919067, 0.30156242847442627, 0.11785376071929932, 0.40020251274108887, -0.02799954265356064, -0.6522153615951538, 0.09744704514741898, -0.01623593084514141, -0.3813905715942383, 0.1551944464445114, 0.054935406893491745, -0.085565946996212, 0.3600773513317108, 0.06541786342859268, -0.06647952646017075, -0.11324182897806168, 0.004672501236200333, -0.6036107540130615, 0.008222597651183605, 0.22776146233081818, 0.060994647443294525, 0.3492628037929535, -0.011011354625225067, -0.0624973438680172, -0.2863406240940094, 0.0830029621720314, -0.23318606615066528, -0.32551491260528564, 0.08106762170791626, -0.006898179650306702, 0.08084328472614288, 0.06343299895524979, -0.10383570194244385, 0.09223085641860962, 0.7208014726638794, 0.0898381769657135, 0.0263728778809309, 0.35180187225341797, 0.028677992522716522, -0.3099164366722107, 0.39178019762039185, 0.08728670328855515, 0.6099549531936646, -0.4311313331127167, 0.13410189747810364, 0.27008840441703796, -0.6476758718490601, -0.04091082140803337, -0.06033601611852646, -0.19094987213611603, 0.006422084290534258, 0.08521074801683426, -0.2783125340938568, 0.22484268248081207, 0.05318564176559448, 0.18102875351905823, 0.396125465631485, 0.3015478253364563, -0.8924290537834167, -0.2540801763534546, -0.07701871544122696, -0.38427865505218506, -0.44492992758750916, 0.05870288237929344, -0.029148319736123085, -0.02748716250061989, -0.07341182976961136, -0.07009026408195496, -0.10799526423215866, 0.09964866936206818, 0.31095194816589355, 0.368764191865921, 0.06390517204999924, -0.2693769037723541, -0.4467083215713501, -0.12083014845848083, 0.48417899012565613, 0.8159723877906799, -0.05728207901120186, 0.06882356852293015, -0.2439696192741394, -0.5281084179878235, -0.1529034972190857, -0.6824914813041687, 0.2799968421459198, -0.07527255266904831, 0.12163247913122177, -0.06215761601924896, -0.2800361216068268, 0.876916229724884, 0.6097944974899292, -0.017976408824324608, -0.09905126690864563, 0.06717142462730408, 0.07770418375730515, 0.03387649729847908, -0.036168452352285385, -0.06386742740869522, -0.2858029901981354, -0.6813793778419495, -0.0338253378868103, -0.584210991859436, 0.2679084539413452, -0.6174368858337402, -0.027450228109955788, 0.069882333278656, 0.11779942363500595, -0.04761334881186485, -0.05002769082784653, 0.8974925875663757, 0.10551188886165619, -0.7456066012382507, -0.16482171416282654, 0.004742843098938465, -0.06325527280569077, 0.25704309344291687, -0.08143004775047302, -0.07893063127994537, 0.0030510725919157267, 0.5384446382522583, 0.06652338057756424, -0.03589842841029167, 0.0832681804895401, 0.014512610621750355, 0.05575601011514664, -0.257946252822876, 0.1754993200302124, 0.21077993512153625, -0.09492366015911102, -0.10247974842786789, -0.07775980234146118, 0.012813381850719452, -0.795818030834198, -0.050541117787361145, 0.04030593857169151, -0.30262017250061035, -0.05651363730430603, -0.21701203286647797, -0.48683708906173706, 0.4648585319519043, 0.014528394676744938, -0.056319400668144226, 0.2582574188709259, -0.0195561982691288, -0.056011784821748734, 0.21426743268966675, -0.2559703290462494, -0.10525374859571457, -0.08300594240427017, 0.03385203331708908, 0.07196417450904846, 0.24718299508094788, -0.05658986046910286, -0.06575604528188705, -0.1056130900979042, -0.6605895161628723]}],\n",
              "                        {\"template\": {\"data\": {\"bar\": [{\"error_x\": {\"color\": \"#2a3f5f\"}, \"error_y\": {\"color\": \"#2a3f5f\"}, \"marker\": {\"line\": {\"color\": \"#E5ECF6\", \"width\": 0.5}}, \"type\": \"bar\"}], \"barpolar\": [{\"marker\": {\"line\": {\"color\": \"#E5ECF6\", \"width\": 0.5}}, \"type\": \"barpolar\"}], \"carpet\": [{\"aaxis\": {\"endlinecolor\": \"#2a3f5f\", \"gridcolor\": \"white\", \"linecolor\": \"white\", \"minorgridcolor\": \"white\", \"startlinecolor\": \"#2a3f5f\"}, \"baxis\": {\"endlinecolor\": \"#2a3f5f\", \"gridcolor\": \"white\", \"linecolor\": \"white\", \"minorgridcolor\": \"white\", \"startlinecolor\": \"#2a3f5f\"}, \"type\": \"carpet\"}], \"choropleth\": [{\"colorbar\": {\"outlinewidth\": 0, \"ticks\": \"\"}, \"type\": \"choropleth\"}], \"contour\": [{\"colorbar\": {\"outlinewidth\": 0, \"ticks\": \"\"}, \"colorscale\": [[0.0, \"#0d0887\"], [0.1111111111111111, \"#46039f\"], [0.2222222222222222, \"#7201a8\"], [0.3333333333333333, \"#9c179e\"], [0.4444444444444444, \"#bd3786\"], [0.5555555555555556, \"#d8576b\"], [0.6666666666666666, \"#ed7953\"], [0.7777777777777778, \"#fb9f3a\"], [0.8888888888888888, \"#fdca26\"], [1.0, \"#f0f921\"]], \"type\": \"contour\"}], \"contourcarpet\": [{\"colorbar\": {\"outlinewidth\": 0, \"ticks\": \"\"}, \"type\": \"contourcarpet\"}], \"heatmap\": [{\"colorbar\": {\"outlinewidth\": 0, \"ticks\": \"\"}, \"colorscale\": [[0.0, \"#0d0887\"], [0.1111111111111111, \"#46039f\"], [0.2222222222222222, \"#7201a8\"], [0.3333333333333333, \"#9c179e\"], [0.4444444444444444, \"#bd3786\"], [0.5555555555555556, \"#d8576b\"], [0.6666666666666666, \"#ed7953\"], [0.7777777777777778, \"#fb9f3a\"], [0.8888888888888888, \"#fdca26\"], [1.0, \"#f0f921\"]], \"type\": \"heatmap\"}], \"heatmapgl\": [{\"colorbar\": {\"outlinewidth\": 0, \"ticks\": \"\"}, \"colorscale\": [[0.0, \"#0d0887\"], [0.1111111111111111, \"#46039f\"], [0.2222222222222222, \"#7201a8\"], [0.3333333333333333, \"#9c179e\"], [0.4444444444444444, \"#bd3786\"], [0.5555555555555556, \"#d8576b\"], [0.6666666666666666, \"#ed7953\"], [0.7777777777777778, \"#fb9f3a\"], [0.8888888888888888, \"#fdca26\"], [1.0, \"#f0f921\"]], \"type\": \"heatmapgl\"}], \"histogram\": [{\"marker\": {\"colorbar\": {\"outlinewidth\": 0, \"ticks\": \"\"}}, \"type\": \"histogram\"}], \"histogram2d\": [{\"colorbar\": {\"outlinewidth\": 0, \"ticks\": \"\"}, \"colorscale\": [[0.0, \"#0d0887\"], [0.1111111111111111, \"#46039f\"], [0.2222222222222222, \"#7201a8\"], [0.3333333333333333, \"#9c179e\"], [0.4444444444444444, \"#bd3786\"], [0.5555555555555556, \"#d8576b\"], [0.6666666666666666, \"#ed7953\"], [0.7777777777777778, \"#fb9f3a\"], [0.8888888888888888, \"#fdca26\"], [1.0, \"#f0f921\"]], \"type\": \"histogram2d\"}], \"histogram2dcontour\": [{\"colorbar\": {\"outlinewidth\": 0, \"ticks\": \"\"}, \"colorscale\": [[0.0, \"#0d0887\"], [0.1111111111111111, \"#46039f\"], [0.2222222222222222, \"#7201a8\"], [0.3333333333333333, \"#9c179e\"], [0.4444444444444444, \"#bd3786\"], [0.5555555555555556, \"#d8576b\"], [0.6666666666666666, \"#ed7953\"], [0.7777777777777778, \"#fb9f3a\"], [0.8888888888888888, \"#fdca26\"], [1.0, \"#f0f921\"]], \"type\": \"histogram2dcontour\"}], \"mesh3d\": [{\"colorbar\": {\"outlinewidth\": 0, \"ticks\": \"\"}, \"type\": \"mesh3d\"}], \"parcoords\": [{\"line\": {\"colorbar\": {\"outlinewidth\": 0, \"ticks\": \"\"}}, \"type\": \"parcoords\"}], \"scatter\": [{\"marker\": {\"colorbar\": {\"outlinewidth\": 0, \"ticks\": \"\"}}, \"type\": \"scatter\"}], \"scatter3d\": [{\"line\": {\"colorbar\": {\"outlinewidth\": 0, \"ticks\": \"\"}}, \"marker\": {\"colorbar\": {\"outlinewidth\": 0, \"ticks\": \"\"}}, \"type\": \"scatter3d\"}], \"scattercarpet\": [{\"marker\": {\"colorbar\": {\"outlinewidth\": 0, \"ticks\": \"\"}}, \"type\": \"scattercarpet\"}], \"scattergeo\": [{\"marker\": {\"colorbar\": {\"outlinewidth\": 0, \"ticks\": \"\"}}, \"type\": \"scattergeo\"}], \"scattergl\": [{\"marker\": {\"colorbar\": {\"outlinewidth\": 0, \"ticks\": \"\"}}, \"type\": \"scattergl\"}], \"scattermapbox\": [{\"marker\": {\"colorbar\": {\"outlinewidth\": 0, \"ticks\": \"\"}}, \"type\": \"scattermapbox\"}], \"scatterpolar\": [{\"marker\": {\"colorbar\": {\"outlinewidth\": 0, \"ticks\": \"\"}}, \"type\": \"scatterpolar\"}], \"scatterpolargl\": [{\"marker\": {\"colorbar\": {\"outlinewidth\": 0, \"ticks\": \"\"}}, \"type\": \"scatterpolargl\"}], \"scatterternary\": [{\"marker\": {\"colorbar\": {\"outlinewidth\": 0, \"ticks\": \"\"}}, \"type\": \"scatterternary\"}], \"surface\": [{\"colorbar\": {\"outlinewidth\": 0, \"ticks\": \"\"}, \"colorscale\": [[0.0, \"#0d0887\"], [0.1111111111111111, \"#46039f\"], [0.2222222222222222, \"#7201a8\"], [0.3333333333333333, \"#9c179e\"], [0.4444444444444444, \"#bd3786\"], [0.5555555555555556, \"#d8576b\"], [0.6666666666666666, \"#ed7953\"], [0.7777777777777778, \"#fb9f3a\"], [0.8888888888888888, \"#fdca26\"], [1.0, \"#f0f921\"]], \"type\": \"surface\"}], \"table\": [{\"cells\": {\"fill\": {\"color\": \"#EBF0F8\"}, \"line\": {\"color\": \"white\"}}, \"header\": {\"fill\": {\"color\": \"#C8D4E3\"}, \"line\": {\"color\": \"white\"}}, \"type\": \"table\"}]}, \"layout\": {\"annotationdefaults\": {\"arrowcolor\": \"#2a3f5f\", \"arrowhead\": 0, \"arrowwidth\": 1}, \"colorscale\": {\"diverging\": [[0, \"#8e0152\"], [0.1, \"#c51b7d\"], [0.2, \"#de77ae\"], [0.3, \"#f1b6da\"], [0.4, \"#fde0ef\"], [0.5, \"#f7f7f7\"], [0.6, \"#e6f5d0\"], [0.7, \"#b8e186\"], [0.8, \"#7fbc41\"], [0.9, \"#4d9221\"], [1, \"#276419\"]], \"sequential\": [[0.0, \"#0d0887\"], [0.1111111111111111, \"#46039f\"], [0.2222222222222222, \"#7201a8\"], [0.3333333333333333, \"#9c179e\"], [0.4444444444444444, \"#bd3786\"], [0.5555555555555556, \"#d8576b\"], [0.6666666666666666, \"#ed7953\"], [0.7777777777777778, \"#fb9f3a\"], [0.8888888888888888, \"#fdca26\"], [1.0, \"#f0f921\"]], \"sequentialminus\": [[0.0, \"#0d0887\"], [0.1111111111111111, \"#46039f\"], [0.2222222222222222, \"#7201a8\"], [0.3333333333333333, \"#9c179e\"], [0.4444444444444444, \"#bd3786\"], [0.5555555555555556, \"#d8576b\"], [0.6666666666666666, \"#ed7953\"], [0.7777777777777778, \"#fb9f3a\"], [0.8888888888888888, \"#fdca26\"], [1.0, \"#f0f921\"]]}, \"colorway\": [\"#636efa\", \"#EF553B\", \"#00cc96\", \"#ab63fa\", \"#FFA15A\", \"#19d3f3\", \"#FF6692\", \"#B6E880\", \"#FF97FF\", \"#FECB52\"], \"font\": {\"color\": \"#2a3f5f\"}, \"geo\": {\"bgcolor\": \"white\", \"lakecolor\": \"white\", \"landcolor\": \"#E5ECF6\", \"showlakes\": true, \"showland\": true, \"subunitcolor\": \"white\"}, \"hoverlabel\": {\"align\": \"left\"}, \"hovermode\": \"closest\", \"mapbox\": {\"style\": \"light\"}, \"paper_bgcolor\": \"white\", \"plot_bgcolor\": \"#E5ECF6\", \"polar\": {\"angularaxis\": {\"gridcolor\": \"white\", \"linecolor\": \"white\", \"ticks\": \"\"}, \"bgcolor\": \"#E5ECF6\", \"radialaxis\": {\"gridcolor\": \"white\", \"linecolor\": \"white\", \"ticks\": \"\"}}, \"scene\": {\"xaxis\": {\"backgroundcolor\": \"#E5ECF6\", \"gridcolor\": \"white\", \"gridwidth\": 2, \"linecolor\": \"white\", \"showbackground\": true, \"ticks\": \"\", \"zerolinecolor\": \"white\"}, \"yaxis\": {\"backgroundcolor\": \"#E5ECF6\", \"gridcolor\": \"white\", \"gridwidth\": 2, \"linecolor\": \"white\", \"showbackground\": true, \"ticks\": \"\", \"zerolinecolor\": \"white\"}, \"zaxis\": {\"backgroundcolor\": \"#E5ECF6\", \"gridcolor\": \"white\", \"gridwidth\": 2, \"linecolor\": \"white\", \"showbackground\": true, \"ticks\": \"\", \"zerolinecolor\": \"white\"}}, \"shapedefaults\": {\"line\": {\"color\": \"#2a3f5f\"}}, \"ternary\": {\"aaxis\": {\"gridcolor\": \"white\", \"linecolor\": \"white\", \"ticks\": \"\"}, \"baxis\": {\"gridcolor\": \"white\", \"linecolor\": \"white\", \"ticks\": \"\"}, \"bgcolor\": \"#E5ECF6\", \"caxis\": {\"gridcolor\": \"white\", \"linecolor\": \"white\", \"ticks\": \"\"}}, \"title\": {\"x\": 0.05}, \"xaxis\": {\"automargin\": true, \"gridcolor\": \"white\", \"linecolor\": \"white\", \"ticks\": \"\", \"zerolinecolor\": \"white\", \"zerolinewidth\": 2}, \"yaxis\": {\"automargin\": true, \"gridcolor\": \"white\", \"linecolor\": \"white\", \"ticks\": \"\", \"zerolinecolor\": \"white\", \"zerolinewidth\": 2}}}},\n",
              "                        {\"responsive\": true}\n",
              "                    ).then(function(){\n",
              "                            \n",
              "var gd = document.getElementById('2e9bf89a-92b2-469b-8868-78b4bfdbb8e8');\n",
              "var x = new MutationObserver(function (mutations, observer) {{\n",
              "        var display = window.getComputedStyle(gd).display;\n",
              "        if (!display || display === 'none') {{\n",
              "            console.log([gd, 'removed!']);\n",
              "            Plotly.purge(gd);\n",
              "            observer.disconnect();\n",
              "        }}\n",
              "}});\n",
              "\n",
              "// Listen for the removal of the full notebook cells\n",
              "var notebookContainer = gd.closest('#notebook-container');\n",
              "if (notebookContainer) {{\n",
              "    x.observe(notebookContainer, {childList: true});\n",
              "}}\n",
              "\n",
              "// Listen for the clearing of the current output cell\n",
              "var outputEl = gd.closest('.output');\n",
              "if (outputEl) {{\n",
              "    x.observe(outputEl, {childList: true});\n",
              "}}\n",
              "\n",
              "                        })\n",
              "                };\n",
              "                \n",
              "            </script>\n",
              "        </div>\n",
              "</body>\n",
              "</html>"
            ]
          },
          "metadata": {
            "tags": []
          }
        }
      ]
    }
  ]
}